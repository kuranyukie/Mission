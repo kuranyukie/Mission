{
 "cells": [
  {
   "cell_type": "markdown",
   "metadata": {},
   "source": [
    "# Python Regular Expressions"
   ]
  },
  {
   "cell_type": "markdown",
   "metadata": {},
   "source": [
    "Often times, data sets need cleaning and looking through text strings. Python provides built-in methods such as index(), s.replace(), s.lower(), and split() (among many others) to provide the user as much versatility as possible.\n",
    "\n",
    "However, often times an analyst needs to parse through strings with unique patterns and properties - this is where regular expressions come in. Python's re library provides the user a unique and simple way to use regular expressions within Python code to extract what they're looking for. Furthermore, the result is often times much more interpretable than using Python's built-in functions."
   ]
  },
  {
   "cell_type": "code",
   "execution_count": 1,
   "metadata": {},
   "outputs": [],
   "source": [
    "import re\n",
    "import pandas as pd\n",
    "import random"
   ]
  },
  {
   "cell_type": "code",
   "execution_count": 2,
   "metadata": {},
   "outputs": [
    {
     "data": {
      "text/html": [
       "<div>\n",
       "<style>\n",
       "    .dataframe thead tr:only-child th {\n",
       "        text-align: right;\n",
       "    }\n",
       "\n",
       "    .dataframe thead th {\n",
       "        text-align: left;\n",
       "    }\n",
       "\n",
       "    .dataframe tbody tr th {\n",
       "        vertical-align: top;\n",
       "    }\n",
       "</style>\n",
       "<table border=\"1\" class=\"dataframe\">\n",
       "  <thead>\n",
       "    <tr style=\"text-align: right;\">\n",
       "      <th></th>\n",
       "      <th>Unnamed: 0</th>\n",
       "      <th>tripduration</th>\n",
       "      <th>starttime</th>\n",
       "      <th>stoptime</th>\n",
       "      <th>start station id</th>\n",
       "      <th>start station name</th>\n",
       "      <th>start station latitude</th>\n",
       "      <th>start station longitude</th>\n",
       "      <th>end station id</th>\n",
       "      <th>end station name</th>\n",
       "      <th>end station latitude</th>\n",
       "      <th>end station longitude</th>\n",
       "      <th>bikeid</th>\n",
       "      <th>usertype</th>\n",
       "      <th>birth year</th>\n",
       "      <th>gender</th>\n",
       "    </tr>\n",
       "  </thead>\n",
       "  <tbody>\n",
       "    <tr>\n",
       "      <th>0</th>\n",
       "      <td>0</td>\n",
       "      <td>2110</td>\n",
       "      <td>2017/8/1 0:00</td>\n",
       "      <td>2017/8/1 0:35</td>\n",
       "      <td>470</td>\n",
       "      <td>W 20 Street &amp; 8 Avenue</td>\n",
       "      <td>40.743453</td>\n",
       "      <td>-74.000040</td>\n",
       "      <td>3289</td>\n",
       "      <td>W 90 St &amp; Amsterdam Ave</td>\n",
       "      <td>40.790179</td>\n",
       "      <td>-73.972889</td>\n",
       "      <td>20954</td>\n",
       "      <td>Subscriber</td>\n",
       "      <td>1978.0</td>\n",
       "      <td>2</td>\n",
       "    </tr>\n",
       "    <tr>\n",
       "      <th>1</th>\n",
       "      <td>1</td>\n",
       "      <td>160</td>\n",
       "      <td>2017/8/1 0:00</td>\n",
       "      <td>2017/8/1 0:02</td>\n",
       "      <td>348</td>\n",
       "      <td>W Broadway &amp; Spring St</td>\n",
       "      <td>40.724910</td>\n",
       "      <td>-74.001547</td>\n",
       "      <td>151</td>\n",
       "      <td>Cleveland Pl &amp; Spring St</td>\n",
       "      <td>40.722104</td>\n",
       "      <td>-73.997249</td>\n",
       "      <td>15164</td>\n",
       "      <td>Subscriber</td>\n",
       "      <td>1978.0</td>\n",
       "      <td>1</td>\n",
       "    </tr>\n",
       "    <tr>\n",
       "      <th>2</th>\n",
       "      <td>2</td>\n",
       "      <td>1644</td>\n",
       "      <td>2017/8/1 0:00</td>\n",
       "      <td>2017/8/1 0:27</td>\n",
       "      <td>3165</td>\n",
       "      <td>Central Park West &amp; W 72 St</td>\n",
       "      <td>40.775794</td>\n",
       "      <td>-73.976206</td>\n",
       "      <td>3320</td>\n",
       "      <td>Central Park West &amp; W 100 St</td>\n",
       "      <td>40.793393</td>\n",
       "      <td>-73.963556</td>\n",
       "      <td>17540</td>\n",
       "      <td>Subscriber</td>\n",
       "      <td>1962.0</td>\n",
       "      <td>2</td>\n",
       "    </tr>\n",
       "    <tr>\n",
       "      <th>3</th>\n",
       "      <td>3</td>\n",
       "      <td>323</td>\n",
       "      <td>2017/8/1 0:00</td>\n",
       "      <td>2017/8/1 0:05</td>\n",
       "      <td>389</td>\n",
       "      <td>Broadway &amp; Berry Street</td>\n",
       "      <td>40.710446</td>\n",
       "      <td>-73.965251</td>\n",
       "      <td>3073</td>\n",
       "      <td>Division Ave &amp; Hooper St</td>\n",
       "      <td>40.706913</td>\n",
       "      <td>-73.954417</td>\n",
       "      <td>18705</td>\n",
       "      <td>Subscriber</td>\n",
       "      <td>1990.0</td>\n",
       "      <td>1</td>\n",
       "    </tr>\n",
       "    <tr>\n",
       "      <th>4</th>\n",
       "      <td>4</td>\n",
       "      <td>109</td>\n",
       "      <td>2017/8/1 0:00</td>\n",
       "      <td>2017/8/1 0:02</td>\n",
       "      <td>3145</td>\n",
       "      <td>E 84 Street &amp; Park Avenue</td>\n",
       "      <td>40.778627</td>\n",
       "      <td>-73.957721</td>\n",
       "      <td>3147</td>\n",
       "      <td>E 85 St &amp; 3 Ave</td>\n",
       "      <td>40.778012</td>\n",
       "      <td>-73.954071</td>\n",
       "      <td>27975</td>\n",
       "      <td>Subscriber</td>\n",
       "      <td>1983.0</td>\n",
       "      <td>1</td>\n",
       "    </tr>\n",
       "  </tbody>\n",
       "</table>\n",
       "</div>"
      ],
      "text/plain": [
       "   Unnamed: 0  tripduration      starttime       stoptime  start station id  \\\n",
       "0           0          2110  2017/8/1 0:00  2017/8/1 0:35               470   \n",
       "1           1           160  2017/8/1 0:00  2017/8/1 0:02               348   \n",
       "2           2          1644  2017/8/1 0:00  2017/8/1 0:27              3165   \n",
       "3           3           323  2017/8/1 0:00  2017/8/1 0:05               389   \n",
       "4           4           109  2017/8/1 0:00  2017/8/1 0:02              3145   \n",
       "\n",
       "            start station name  start station latitude  \\\n",
       "0       W 20 Street & 8 Avenue               40.743453   \n",
       "1       W Broadway & Spring St               40.724910   \n",
       "2  Central Park West & W 72 St               40.775794   \n",
       "3      Broadway & Berry Street               40.710446   \n",
       "4    E 84 Street & Park Avenue               40.778627   \n",
       "\n",
       "   start station longitude  end station id              end station name  \\\n",
       "0               -74.000040            3289       W 90 St & Amsterdam Ave   \n",
       "1               -74.001547             151      Cleveland Pl & Spring St   \n",
       "2               -73.976206            3320  Central Park West & W 100 St   \n",
       "3               -73.965251            3073      Division Ave & Hooper St   \n",
       "4               -73.957721            3147               E 85 St & 3 Ave   \n",
       "\n",
       "   end station latitude  end station longitude  bikeid    usertype  \\\n",
       "0             40.790179             -73.972889   20954  Subscriber   \n",
       "1             40.722104             -73.997249   15164  Subscriber   \n",
       "2             40.793393             -73.963556   17540  Subscriber   \n",
       "3             40.706913             -73.954417   18705  Subscriber   \n",
       "4             40.778012             -73.954071   27975  Subscriber   \n",
       "\n",
       "   birth year  gender  \n",
       "0      1978.0       2  \n",
       "1      1978.0       1  \n",
       "2      1962.0       2  \n",
       "3      1990.0       1  \n",
       "4      1983.0       1  "
      ]
     },
     "execution_count": 2,
     "metadata": {},
     "output_type": "execute_result"
    }
   ],
   "source": [
    "data=pd.read_csv(\"citi_bike_subset1.csv\")\n",
    "data.head()"
   ]
  },
  {
   "cell_type": "markdown",
   "metadata": {},
   "source": [
    "We just directly look at the \"start station name\" column."
   ]
  },
  {
   "cell_type": "code",
   "execution_count": 3,
   "metadata": {},
   "outputs": [],
   "source": [
    "data = data.rename(columns={'start station name':\"SSN\"}) # rename the column for simplification"
   ]
  },
  {
   "cell_type": "code",
   "execution_count": 4,
   "metadata": {},
   "outputs": [
    {
     "data": {
      "text/plain": [
       "0         W 20 Street & 8 Avenue\n",
       "1         W Broadway & Spring St\n",
       "2    Central Park West & W 72 St\n",
       "3        Broadway & Berry Street\n",
       "4      E 84 Street & Park Avenue\n",
       "5            3 Street & 3 Avenue\n",
       "6         Hanson Pl & Ashland Pl\n",
       "7               W 47 St & 10 Ave\n",
       "8                W 54 St & 9 Ave\n",
       "9           Vernon Blvd & 50 Ave\n",
       "Name: SSN, dtype: object"
      ]
     },
     "execution_count": 4,
     "metadata": {},
     "output_type": "execute_result"
    }
   ],
   "source": [
    "data.SSN.head(10)"
   ]
  },
  {
   "cell_type": "code",
   "execution_count": 5,
   "metadata": {},
   "outputs": [],
   "source": [
    "# unify all the abbreviations\n",
    "# use re.sub()\n",
    "\n",
    "def abbr(x):\n",
    "    x = re.sub('Street', 'St', x)\n",
    "    x = re.sub('Avenue', 'Ave', x)\n",
    "    return x"
   ]
  },
  {
   "cell_type": "code",
   "execution_count": 6,
   "metadata": {},
   "outputs": [
    {
     "data": {
      "text/plain": [
       "0                W 20 St & 8 Ave\n",
       "1         W Broadway & Spring St\n",
       "2    Central Park West & W 72 St\n",
       "3            Broadway & Berry St\n",
       "4             E 84 St & Park Ave\n",
       "5                   3 St & 3 Ave\n",
       "6         Hanson Pl & Ashland Pl\n",
       "7               W 47 St & 10 Ave\n",
       "8                W 54 St & 9 Ave\n",
       "9           Vernon Blvd & 50 Ave\n",
       "Name: SSN, dtype: object"
      ]
     },
     "execution_count": 6,
     "metadata": {},
     "output_type": "execute_result"
    }
   ],
   "source": [
    "# check the function\n",
    "\n",
    "data.loc[:,'SSN'].apply(abbr).head(10)"
   ]
  },
  {
   "cell_type": "code",
   "execution_count": 7,
   "metadata": {},
   "outputs": [],
   "source": [
    "# modify the data\n",
    "\n",
    "data['SSN'] = data.loc[:,'SSN'].apply(abbr)"
   ]
  },
  {
   "cell_type": "markdown",
   "metadata": {},
   "source": [
    "We want to find all 30-49 street and create a new column with the street information.\n",
    "\n",
    "We use the re.findall function."
   ]
  },
  {
   "cell_type": "code",
   "execution_count": 8,
   "metadata": {},
   "outputs": [],
   "source": [
    "# use re.findall()\n",
    "\n",
    "def find_st(st):\n",
    "    pattern = r'[W|E]\\s[3|4]\\d\\sSt'\n",
    "    res = re.findall(pattern, st)\n",
    "    if len(res) > 0:\n",
    "        return res[0]\n",
    "    else:\n",
    "        return None"
   ]
  },
  {
   "cell_type": "code",
   "execution_count": 9,
   "metadata": {},
   "outputs": [
    {
     "data": {
      "text/plain": [
       "0       None\n",
       "1       None\n",
       "2       None\n",
       "3       None\n",
       "4       None\n",
       "5       None\n",
       "6       None\n",
       "7    W 47 St\n",
       "8       None\n",
       "9       None\n",
       "Name: SSN, dtype: object"
      ]
     },
     "execution_count": 9,
     "metadata": {},
     "output_type": "execute_result"
    }
   ],
   "source": [
    "# check the function\n",
    "\n",
    "data.loc[:,'SSN'].apply(find_st).head(10)"
   ]
  },
  {
   "cell_type": "code",
   "execution_count": 10,
   "metadata": {},
   "outputs": [],
   "source": [
    "# create a new column containing all qualified streets\n",
    "data[\"Street\"] = data.loc[:,'SSN'].apply(find_st)"
   ]
  },
  {
   "cell_type": "code",
   "execution_count": 12,
   "metadata": {},
   "outputs": [
    {
     "data": {
      "text/plain": [
       "0       None\n",
       "1       None\n",
       "2       None\n",
       "3       None\n",
       "4       None\n",
       "5       None\n",
       "6       None\n",
       "7    W 47 St\n",
       "8       None\n",
       "9       None\n",
       "Name: Street, dtype: object"
      ]
     },
     "execution_count": 12,
     "metadata": {},
     "output_type": "execute_result"
    }
   ],
   "source": [
    "data[\"Street\"].head(10)"
   ]
  },
  {
   "cell_type": "code",
   "execution_count": null,
   "metadata": {},
   "outputs": [],
   "source": [
    "# End"
   ]
  }
 ],
 "metadata": {
  "kernelspec": {
   "display_name": "Python 3",
   "language": "python",
   "name": "python3"
  },
  "language_info": {
   "codemirror_mode": {
    "name": "ipython",
    "version": 3
   },
   "file_extension": ".py",
   "mimetype": "text/x-python",
   "name": "python",
   "nbconvert_exporter": "python",
   "pygments_lexer": "ipython3",
   "version": "3.6.3"
  }
 },
 "nbformat": 4,
 "nbformat_minor": 2
}
