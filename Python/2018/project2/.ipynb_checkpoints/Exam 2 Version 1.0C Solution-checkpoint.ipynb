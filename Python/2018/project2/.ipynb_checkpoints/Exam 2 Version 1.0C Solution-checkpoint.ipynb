{
 "cells": [
  {
   "cell_type": "markdown",
   "metadata": {},
   "source": [
    "# Exam 2 Solutions\n",
    "Remember to save this with your name.\n",
    "You have two hours.\n"
   ]
  },
  {
   "cell_type": "code",
   "execution_count": 9,
   "metadata": {},
   "outputs": [
    {
     "name": "stdout",
     "output_type": "stream",
     "text": [
      "C:\\users\\jpsabini\\Columbia2018\\ColumbiaApan5000Spring18\\A-Taxi-Project\n"
     ]
    }
   ],
   "source": [
    "# You will load Taxi data you did for the Project, both  data sets \n",
    "# the fare and data.\n",
    "\n",
    "import numpy as np \n",
    "import pandas as pd \n",
    "import matplotlib.pyplot as plt \n",
    "%matplotlib inline\n",
    "#%cd <insert the path to your Taxi Data>\n",
    "%cd /users/jpsabini/Columbia2018/ColumbiaApan5000Spring18/A-Taxi-Project/"
   ]
  },
  {
   "cell_type": "markdown",
   "metadata": {},
   "source": [
    "### Make sure that you did not use parsed datetimes. \n",
    "Omit this from your read_csv... \n",
    "parse_dates=['pickup_datetime', 'dropoff_datetime']. If you include this, it will cause issues combining data."
   ]
  },
  {
   "cell_type": "code",
   "execution_count": 10,
   "metadata": {
    "collapsed": true
   },
   "outputs": [],
   "source": [
    "#Load the nyc_data and the nyc_fare. \n",
    "\n",
    "datafile_name='data/nyc_data.csv'\n",
    "nyc_data = pd.read_csv(datafile_name)\n"
   ]
  },
  {
   "cell_type": "code",
   "execution_count": 11,
   "metadata": {},
   "outputs": [
    {
     "name": "stdout",
     "output_type": "stream",
     "text": [
      "<class 'pandas.core.frame.DataFrame'>\n",
      "RangeIndex: 846945 entries, 0 to 846944\n",
      "Data columns (total 14 columns):\n",
      "medallion             846945 non-null object\n",
      "hack_license          846945 non-null object\n",
      "vendor_id             846945 non-null object\n",
      "rate_code             846945 non-null int64\n",
      "store_and_fwd_flag    424577 non-null object\n",
      "pickup_datetime       846945 non-null object\n",
      "dropoff_datetime      846945 non-null object\n",
      "passenger_count       846945 non-null int64\n",
      "trip_time_in_secs     846945 non-null int64\n",
      "trip_distance         846945 non-null float64\n",
      "pickup_longitude      846945 non-null float64\n",
      "pickup_latitude       846945 non-null float64\n",
      "dropoff_longitude     846945 non-null float64\n",
      "dropoff_latitude      846945 non-null float64\n",
      "dtypes: float64(5), int64(3), object(6)\n",
      "memory usage: 90.5+ MB\n"
     ]
    }
   ],
   "source": [
    "nyc_data.info()"
   ]
  },
  {
   "cell_type": "code",
   "execution_count": null,
   "metadata": {
    "collapsed": true
   },
   "outputs": [],
   "source": []
  },
  {
   "cell_type": "code",
   "execution_count": 12,
   "metadata": {
    "collapsed": true
   },
   "outputs": [],
   "source": [
    "# let's also get the fares\n",
    "datafile_name_fare='data/nyc_fare.csv'\n",
    "nyc_fare=pd.read_csv(datafile_name_fare)"
   ]
  },
  {
   "cell_type": "code",
   "execution_count": 13,
   "metadata": {
    "scrolled": true
   },
   "outputs": [
    {
     "name": "stdout",
     "output_type": "stream",
     "text": [
      "<class 'pandas.core.frame.DataFrame'>\n",
      "RangeIndex: 846945 entries, 0 to 846944\n",
      "Data columns (total 11 columns):\n",
      "medallion          846945 non-null object\n",
      "hack_license       846945 non-null object\n",
      "vendor_id          846945 non-null object\n",
      "pickup_datetime    846945 non-null object\n",
      "payment_type       846945 non-null object\n",
      "fare_amount        846945 non-null float64\n",
      "surcharge          846945 non-null float64\n",
      "mta_tax            846945 non-null float64\n",
      "tip_amount         846945 non-null float64\n",
      "tolls_amount       846945 non-null float64\n",
      "total_amount       846945 non-null float64\n",
      "dtypes: float64(6), object(5)\n",
      "memory usage: 71.1+ MB\n"
     ]
    }
   ],
   "source": [
    "# Show info on nyc_fare\n",
    "nyc_fare.info()"
   ]
  },
  {
   "cell_type": "code",
   "execution_count": null,
   "metadata": {
    "collapsed": true
   },
   "outputs": [],
   "source": []
  },
  {
   "cell_type": "markdown",
   "metadata": {},
   "source": [
    "# Question 1\n",
    "#### In the project, we saw that \"total amount\" variable was very skewed; let us cap the variable at  at 92th percentile. \n",
    "- Part 1 . Use describe() to obtain the 92th percentile and insert this new variable. Call it total_amount_92pcnt_cap and insert is as a new column to the nyc_fare data set.\n",
    "- Part 2. How many negative 'total_fare' values are there? For this same variable, let us make all negative values 0, since negative values must be a data error.\n",
    "- Part 3. How many NaN's are in the fare data set? \n",
    "\n",
    "#### To display rows for the results (output), please use head() or tail(). Otherwise, the output makes the notebook ugly and unwieldy to navigate.\n",
    "\n",
    "#### Put your code in different cells because it's easier for you to debug and for me to read it.\n",
    "\n",
    "\n",
    "\n"
   ]
  },
  {
   "cell_type": "code",
   "execution_count": 14,
   "metadata": {
    "collapsed": true
   },
   "outputs": [],
   "source": [
    "# - Part 1 \n",
    "# Steps\n",
    "# Begin by describing the statistics for the the nyc_fare dataframe \n",
    "# and retrieve the 92th percentile.\n",
    "# Cap every total_amount greater than 92% to the value of the 92%\n",
    "# percentile fare.\n",
    "# Create a column called total_amount_92pcnt_cap in the nyc_fare.\n",
    "# To be clear....\n",
    "# Capping the total_amount to 92% percentile values. \n",
    "# assign any total_amount  greater than the 92% percentile\n",
    "# to the 92th pecentile.  That's what capping means.\n",
    "# Hint... That means you want to keep all values < than he 92th percentile \n",
    "# AS THEY ARE. \n",
    "# \n",
    "# Use df.loc[] where appropriate. \n",
    "# Also you may want to use float(x) where x is the percentile value\n",
    "# \n",
    "\n",
    "\n",
    "\n"
   ]
  },
  {
   "cell_type": "code",
   "execution_count": null,
   "metadata": {
    "collapsed": true
   },
   "outputs": [],
   "source": []
  },
  {
   "cell_type": "code",
   "execution_count": 15,
   "metadata": {
    "collapsed": true
   },
   "outputs": [],
   "source": [
    "# First you may wish to create a new column called total_amount_92pcnt_cap\n",
    "# and populate it.\n",
    "nyc_fare['total_amount_92pcnt_cap']=nyc_fare['total_amount']\n",
    "\n",
    "nyc_fare1=nyc_fare.copy()\n"
   ]
  },
  {
   "cell_type": "code",
   "execution_count": 16,
   "metadata": {},
   "outputs": [
    {
     "data": {
      "text/plain": [
       "count    846945.000000\n",
       "mean         14.587073\n",
       "std          11.380950\n",
       "min         -52.500000\n",
       "50%          11.000000\n",
       "92%          29.830000\n",
       "max         620.010000\n",
       "Name: total_amount, dtype: float64"
      ]
     },
     "execution_count": 16,
     "metadata": {},
     "output_type": "execute_result"
    }
   ],
   "source": [
    "#Find the percentiles and select 92% into a variable. Please display.\n",
    "a=nyc_fare['total_amount'].describe(percentiles=[0.92])\n",
    "a\n",
    "\n"
   ]
  },
  {
   "cell_type": "code",
   "execution_count": 17,
   "metadata": {},
   "outputs": [
    {
     "data": {
      "text/plain": [
       "39    36.50\n",
       "43    33.12\n",
       "52    35.00\n",
       "53    42.50\n",
       "85    60.60\n",
       "Name: total_amount_92pcnt_cap, dtype: float64"
      ]
     },
     "execution_count": 17,
     "metadata": {},
     "output_type": "execute_result"
    }
   ],
   "source": [
    "#Use a filter to determine the total_amount's > 92th percentile. Use head()\n",
    "# Show first 5 entries that should be capped. \n",
    "# for example 39th row is  36.50\n",
    "nyc_fare.loc[nyc_fare['total_amount']>float(a['92%']),'total_amount_92pcnt_cap'].head()\n"
   ]
  },
  {
   "cell_type": "code",
   "execution_count": 18,
   "metadata": {
    "collapsed": true
   },
   "outputs": [],
   "source": [
    "#Change all the amounts above to the value you discovered for 92th percentile.\n",
    "nyc_fare.loc[nyc_fare['total_amount']>float(a['92%']),'total_amount_92pcnt_cap']\\\n",
    "=float(a['92%'])"
   ]
  },
  {
   "cell_type": "code",
   "execution_count": 19,
   "metadata": {},
   "outputs": [
    {
     "data": {
      "text/plain": [
       "count    846945.000000\n",
       "mean         13.282548\n",
       "std           7.129708\n",
       "min         -52.500000\n",
       "50%          11.000000\n",
       "91%          27.600000\n",
       "92%          29.830000\n",
       "93%          29.830000\n",
       "95%          29.830000\n",
       "max          29.830000\n",
       "Name: total_amount_92pcnt_cap, dtype: float64"
      ]
     },
     "execution_count": 19,
     "metadata": {},
     "output_type": "execute_result"
    }
   ],
   "source": [
    "# Check that what you got is correct. \n",
    "\n",
    "nyc_fare['total_amount_92pcnt_cap'].describe(percentiles=\\\n",
    "                                                       [0.91,0.92,0.93,0.95])"
   ]
  },
  {
   "cell_type": "code",
   "execution_count": 20,
   "metadata": {},
   "outputs": [
    {
     "data": {
      "text/plain": [
       "38    20.00\n",
       "39    29.83\n",
       "40     8.50\n",
       "41    11.90\n",
       "42     7.00\n",
       "Name: total_amount_92pcnt_cap, dtype: float64"
      ]
     },
     "execution_count": 20,
     "metadata": {},
     "output_type": "execute_result"
    }
   ],
   "source": [
    "# another check. I know that 39th row was 36.50, now it should be 29.83\n",
    "nyc_fare.loc[38:42,'total_amount_92pcnt_cap']"
   ]
  },
  {
   "cell_type": "markdown",
   "metadata": {},
   "source": [
    "#### Part 2 Hints:\n",
    "Test for negative total_amount i.e. amounts < 0. \n",
    "How many negatives are there?\n",
    "Change all of them to 0(positive). use inplace=True: to make the change permanent. \n"
   ]
  },
  {
   "cell_type": "code",
   "execution_count": 21,
   "metadata": {},
   "outputs": [
    {
     "data": {
      "text/plain": [
       "17"
      ]
     },
     "execution_count": 21,
     "metadata": {},
     "output_type": "execute_result"
    }
   ],
   "source": [
    "# What are the number of negative values for nyc_fare ? Should be 17\n",
    "\n",
    "nyc_fare.loc[nyc_fare['total_amount']<0,'total_amount'].count()\n"
   ]
  },
  {
   "cell_type": "code",
   "execution_count": 22,
   "metadata": {
    "collapsed": true
   },
   "outputs": [],
   "source": [
    "# We can also do the above this way but it is a bit confusing\n",
    "#nyc_fare[nyc_fare['total_amount']<0]['total_amount']\n",
    "#or\n",
    "#nyc_fare[nyc_fare.loc[:,'total_amount']<0]['total_amount']"
   ]
  },
  {
   "cell_type": "code",
   "execution_count": 23,
   "metadata": {
    "collapsed": true
   },
   "outputs": [],
   "source": [
    "# For all the rows whose total_amount <0 convert the total_amount to 0\n",
    "nyc_fare.loc[nyc_fare['total_amount']<0,'total_amount']=0\n"
   ]
  },
  {
   "cell_type": "code",
   "execution_count": 24,
   "metadata": {},
   "outputs": [
    {
     "data": {
      "text/plain": [
       "513307    0.0\n",
       "516900    0.0\n",
       "518560    0.0\n",
       "518979    0.0\n",
       "520570    0.0\n",
       "520732    0.0\n",
       "522909    0.0\n",
       "525618    0.0\n",
       "527852    0.0\n",
       "530581    0.0\n",
       "531676    0.0\n",
       "532166    0.0\n",
       "532491    0.0\n",
       "534764    0.0\n",
       "534849    0.0\n",
       "534950    0.0\n",
       "535085    0.0\n",
       "544373    0.0\n",
       "544717    0.0\n",
       "547799    0.0\n",
       "551162    0.0\n",
       "555601    0.0\n",
       "556009    0.0\n",
       "556358    0.0\n",
       "558665    0.0\n",
       "560571    0.0\n",
       "Name: total_amount, dtype: float64"
      ]
     },
     "execution_count": 24,
     "metadata": {},
     "output_type": "execute_result"
    }
   ],
   "source": [
    "# just check the results Min is now = 0 \n",
    "nyc_fare.loc[nyc_fare['total_amount']==0,'total_amount']\n"
   ]
  },
  {
   "cell_type": "markdown",
   "metadata": {},
   "source": [
    "#### Part 3\n",
    "How many Nan's do we have in the dataframe ?"
   ]
  },
  {
   "cell_type": "code",
   "execution_count": 25,
   "metadata": {},
   "outputs": [
    {
     "data": {
      "text/plain": [
       "medallion                  0\n",
       "hack_license               0\n",
       "vendor_id                  0\n",
       "pickup_datetime            0\n",
       "payment_type               0\n",
       "fare_amount                0\n",
       "surcharge                  0\n",
       "mta_tax                    0\n",
       "tip_amount                 0\n",
       "tolls_amount               0\n",
       "total_amount               0\n",
       "total_amount_92pcnt_cap    0\n",
       "dtype: int64"
      ]
     },
     "execution_count": 25,
     "metadata": {},
     "output_type": "execute_result"
    }
   ],
   "source": [
    "#Number of Nans\n",
    "nyc_fare.isnull().sum()"
   ]
  },
  {
   "cell_type": "markdown",
   "metadata": {
    "collapsed": true
   },
   "source": [
    "#### End of Question 1."
   ]
  },
  {
   "cell_type": "markdown",
   "metadata": {},
   "source": [
    "# Question 2 in two parts.\n",
    "\n",
    "Let us see whether the total_amount_92pcnt_cap (new variable we have just created) varies by payment type. \n",
    "- Part 1. Show the average value of total_amount capped at 92% by payment type,\n",
    "- Part 2. Produce a bar plot by payment type to see whether the average total amount varies. Use markdown to write your observation based on the bar graph you created. Make sure to add a title to your bar graph.\n",
    "\n",
    "\n",
    "\n",
    "\n"
   ]
  },
  {
   "cell_type": "markdown",
   "metadata": {
    "collapsed": true
   },
   "source": [
    "Part 1 -\n",
    "Hint: Look at mthe number of payment types. You need group the percentile \n",
    "    data you created on them."
   ]
  },
  {
   "cell_type": "code",
   "execution_count": 26,
   "metadata": {},
   "outputs": [
    {
     "data": {
      "text/plain": [
       "0    CSH\n",
       "1    CRD\n",
       "2    CSH\n",
       "3    CSH\n",
       "4    CSH\n",
       "Name: payment_type, dtype: object"
      ]
     },
     "execution_count": 26,
     "metadata": {},
     "output_type": "execute_result"
    }
   ],
   "source": [
    "nyc_fare['payment_type'].head()"
   ]
  },
  {
   "cell_type": "code",
   "execution_count": 27,
   "metadata": {
    "collapsed": true
   },
   "outputs": [],
   "source": [
    "group=nyc_fare['total_amount_92pcnt_cap'].groupby(nyc_fare['payment_type'])"
   ]
  },
  {
   "cell_type": "code",
   "execution_count": 50,
   "metadata": {},
   "outputs": [
    {
     "data": {
      "text/html": [
       "<div>\n",
       "<style>\n",
       "    .dataframe thead tr:only-child th {\n",
       "        text-align: right;\n",
       "    }\n",
       "\n",
       "    .dataframe thead th {\n",
       "        text-align: left;\n",
       "    }\n",
       "\n",
       "    .dataframe tbody tr th {\n",
       "        vertical-align: top;\n",
       "    }\n",
       "</style>\n",
       "<table border=\"1\" class=\"dataframe\">\n",
       "  <thead>\n",
       "    <tr style=\"text-align: right;\">\n",
       "      <th></th>\n",
       "      <th>mean</th>\n",
       "    </tr>\n",
       "    <tr>\n",
       "      <th>payment_type</th>\n",
       "      <th></th>\n",
       "    </tr>\n",
       "  </thead>\n",
       "  <tbody>\n",
       "    <tr>\n",
       "      <th>CRD</th>\n",
       "      <td>14.838955</td>\n",
       "    </tr>\n",
       "    <tr>\n",
       "      <th>CSH</th>\n",
       "      <td>11.461257</td>\n",
       "    </tr>\n",
       "    <tr>\n",
       "      <th>DIS</th>\n",
       "      <td>12.123251</td>\n",
       "    </tr>\n",
       "    <tr>\n",
       "      <th>NOC</th>\n",
       "      <td>10.382436</td>\n",
       "    </tr>\n",
       "    <tr>\n",
       "      <th>UNK</th>\n",
       "      <td>15.461616</td>\n",
       "    </tr>\n",
       "  </tbody>\n",
       "</table>\n",
       "</div>"
      ],
      "text/plain": [
       "                   mean\n",
       "payment_type           \n",
       "CRD           14.838955\n",
       "CSH           11.461257\n",
       "DIS           12.123251\n",
       "NOC           10.382436\n",
       "UNK           15.461616"
      ]
     },
     "execution_count": 50,
     "metadata": {},
     "output_type": "execute_result"
    }
   ],
   "source": [
    "#Now find the mean for each payment type hint CRD should be approx 14.8\n",
    "# the agg() function is preferred but apply works as well. \n",
    "# if you use aggr() use the appropriate syntax don't use np.mean,use np.mean for apply\n",
    "result=group.apply(np.mean)\n",
    "result\n",
    "result2=group.agg(['mean'])\n",
    "result2"
   ]
  },
  {
   "cell_type": "code",
   "execution_count": 52,
   "metadata": {},
   "outputs": [
    {
     "data": {
      "text/plain": [
       "<matplotlib.axes._subplots.AxesSubplot at 0x1ec33e02518>"
      ]
     },
     "execution_count": 52,
     "metadata": {},
     "output_type": "execute_result"
    },
    {
     "data": {
      "image/png": "[encoded data removed]",
      "text/plain": [
       "<matplotlib.figure.Figure at 0x1ec3338a780>"
      ]
     },
     "metadata": {},
     "output_type": "display_data"
    }
   ],
   "source": [
    "avg_amountx = nyc_fare.groupby(by='payment_type')['total_amount_92pcnt_cap'].agg(['mean'])\n",
    "avg_amountx.plot(kind='bar')"
   ]
  },
  {
   "cell_type": "code",
   "execution_count": 29,
   "metadata": {},
   "outputs": [
    {
     "data": {
      "image/png": "[encoded data removed]",
      "text/plain": [
       "<matplotlib.figure.Figure at 0x1ec2679beb8>"
      ]
     },
     "metadata": {},
     "output_type": "display_data"
    }
   ],
   "source": [
    "#Part 2 create a bar graph of total amount by payment type.\n",
    "ax=result.plot(kind='bar',title=\"total amount by payment type\",rot=True)"
   ]
  },
  {
   "cell_type": "markdown",
   "metadata": {
    "collapsed": true
   },
   "source": [
    "### End of question 2"
   ]
  },
  {
   "cell_type": "markdown",
   "metadata": {},
   "source": [
    "# Question 3 in 3 parts"
   ]
  },
  {
   "cell_type": "code",
   "execution_count": 30,
   "metadata": {
    "collapsed": true
   },
   "outputs": [],
   "source": [
    "\n",
    "#question 3\n",
    "#now, the common hypothesis is that tip amount is higher if store\n",
    "#and forward flag is 'Y'. Let us use the data to see whether this is\n",
    "#approximately true:\n",
    "\n",
    "#Part 1. Foward flag is in nyc_data whilst tip_amount is in nyc_fare. \n",
    "#Create a combined_data frame making sure you merge properly. Check how many\n",
    "# rows you have after the merge. Call it combined_data\n",
    "\n",
    "\n",
    "#Part 2. Create a new dataframe, which\n",
    "#consists of all tip_amount values exceeding 1. Then, discretize this\n",
    "#new variable by creating 10 roughly equal groups from highest to\n",
    "#lowest. \n",
    "\n",
    "# Part 3 For each group, obtain the % of all trips for which\n",
    "#the store and forward trips = \"Y\", and create a line plot with each\n",
    "#tip amount group on the x axis and the % of trips on the y axis. Label\n",
    "#data points on this line graph, and fully label this plot. \n",
    "\n",
    "#Part 4 Based on this, can you say that tip (above $1) and store and \n",
    "#forward flag are correlated? \n",
    "\n",
    "\n",
    "\n"
   ]
  },
  {
   "cell_type": "code",
   "execution_count": 31,
   "metadata": {
    "scrolled": true
   },
   "outputs": [
    {
     "name": "stdout",
     "output_type": "stream",
     "text": [
      "<class 'pandas.core.frame.DataFrame'>\n",
      "Int64Index: 846945 entries, 0 to 846944\n",
      "Data columns (total 23 columns):\n",
      "medallion                  846945 non-null object\n",
      "hack_license               846945 non-null object\n",
      "vendor_id_x                846945 non-null object\n",
      "rate_code                  846945 non-null int64\n",
      "store_and_fwd_flag         424577 non-null object\n",
      "pickup_datetime            846945 non-null object\n",
      "dropoff_datetime           846945 non-null object\n",
      "passenger_count            846945 non-null int64\n",
      "trip_time_in_secs          846945 non-null int64\n",
      "trip_distance              846945 non-null float64\n",
      "pickup_longitude           846945 non-null float64\n",
      "pickup_latitude            846945 non-null float64\n",
      "dropoff_longitude          846945 non-null float64\n",
      "dropoff_latitude           846945 non-null float64\n",
      "vendor_id_y                846945 non-null object\n",
      "payment_type               846945 non-null object\n",
      "fare_amount                846945 non-null float64\n",
      "surcharge                  846945 non-null float64\n",
      "mta_tax                    846945 non-null float64\n",
      "tip_amount                 846945 non-null float64\n",
      "tolls_amount               846945 non-null float64\n",
      "total_amount               846945 non-null float64\n",
      "total_amount_92pcnt_cap    846945 non-null float64\n",
      "dtypes: float64(12), int64(3), object(8)\n",
      "memory usage: 155.1+ MB\n"
     ]
    }
   ],
   "source": [
    "#Part 1 combine the two dataframes and show  info() on the combined_data\n",
    "#Part A\n",
    "# If you get zeros, you may have reread the data only without the parse statement\n",
    "# For example for the fist five info() values you should see \n",
    "#medallion                  846945 non-null object\n",
    "#hack_license               846945 non-null object\n",
    "#vendor_id                  846945 non-null object\n",
    "#rate_code                  846945 non-null int64\n",
    "#store_and_fwd_flag         424577 non-null object\n",
    "\n",
    "combined_data=pd.merge(nyc_data,nyc_fare,on=['medallion','hack_license','pickup_datetime'],how='inner')\n",
    "combined_data.info()"
   ]
  },
  {
   "cell_type": "code",
   "execution_count": 32,
   "metadata": {},
   "outputs": [
    {
     "data": {
      "text/plain": [
       "count    846945.00000\n",
       "mean          1.34466\n",
       "std           2.09149\n",
       "min           0.00000\n",
       "0%            0.00000\n",
       "10%           0.00000\n",
       "20%           0.00000\n",
       "30.0%         0.00000\n",
       "40%           0.00000\n",
       "50%           1.00000\n",
       "60.0%         1.20000\n",
       "70%           1.75000\n",
       "80%           2.25000\n",
       "90%           3.40000\n",
       "max         200.00000\n",
       "Name: tip_amount, dtype: float64"
      ]
     },
     "execution_count": 32,
     "metadata": {},
     "output_type": "execute_result"
    }
   ],
   "source": [
    "# Part B what are the deciles of the tip_amount?\n",
    "combined_data['tip_amount'].describe(percentiles=(np.arange(0,1,.1)))"
   ]
  },
  {
   "cell_type": "code",
   "execution_count": 33,
   "metadata": {
    "collapsed": true
   },
   "outputs": [],
   "source": [
    "#Part 2. Create  a new dataframe call it \"combined_data_hightip\" \n",
    "# that consists of all tip_amount values exceeding 1 from the combined_data.\n",
    "# find info of the new dataframe, combined_data_hightip , that you created.\n",
    "#combined_data_hightip=combined_data['tip_amount']>1\n",
    "#combined_data[combined_data_hightip].head()"
   ]
  },
  {
   "cell_type": "code",
   "execution_count": 34,
   "metadata": {},
   "outputs": [
    {
     "name": "stdout",
     "output_type": "stream",
     "text": [
      "Index(['medallion', 'hack_license', 'vendor_id_x', 'rate_code',\n",
      "       'store_and_fwd_flag', 'pickup_datetime', 'dropoff_datetime',\n",
      "       'passenger_count', 'trip_time_in_secs', 'trip_distance',\n",
      "       'pickup_longitude', 'pickup_latitude', 'dropoff_longitude',\n",
      "       'dropoff_latitude', 'vendor_id_y', 'payment_type', 'fare_amount',\n",
      "       'surcharge', 'mta_tax', 'tip_amount', 'tolls_amount', 'total_amount',\n",
      "       'total_amount_92pcnt_cap'],\n",
      "      dtype='object')\n"
     ]
    },
    {
     "data": {
      "text/plain": [
       "354812"
      ]
     },
     "execution_count": 34,
     "metadata": {},
     "output_type": "execute_result"
    }
   ],
   "source": [
    "#Part A of 2 print(len(combined_data))\n",
    "print(combined_data.columns)\n",
    "combined_data_hightip=combined_data[combined_data['tip_amount']>1]\n",
    "len(combined_data_hightip)\n"
   ]
  },
  {
   "cell_type": "code",
   "execution_count": 35,
   "metadata": {},
   "outputs": [
    {
     "name": "stdout",
     "output_type": "stream",
     "text": [
      "<class 'pandas.core.frame.DataFrame'>\n",
      "Int64Index: 354812 entries, 1 to 846940\n",
      "Data columns (total 23 columns):\n",
      "medallion                  354812 non-null object\n",
      "hack_license               354812 non-null object\n",
      "vendor_id_x                354812 non-null object\n",
      "rate_code                  354812 non-null int64\n",
      "store_and_fwd_flag         176512 non-null object\n",
      "pickup_datetime            354812 non-null object\n",
      "dropoff_datetime           354812 non-null object\n",
      "passenger_count            354812 non-null int64\n",
      "trip_time_in_secs          354812 non-null int64\n",
      "trip_distance              354812 non-null float64\n",
      "pickup_longitude           354812 non-null float64\n",
      "pickup_latitude            354812 non-null float64\n",
      "dropoff_longitude          354812 non-null float64\n",
      "dropoff_latitude           354812 non-null float64\n",
      "vendor_id_y                354812 non-null object\n",
      "payment_type               354812 non-null object\n",
      "fare_amount                354812 non-null float64\n",
      "surcharge                  354812 non-null float64\n",
      "mta_tax                    354812 non-null float64\n",
      "tip_amount                 354812 non-null float64\n",
      "tolls_amount               354812 non-null float64\n",
      "total_amount               354812 non-null float64\n",
      "total_amount_92pcnt_cap    354812 non-null float64\n",
      "dtypes: float64(12), int64(3), object(8)\n",
      "memory usage: 65.0+ MB\n"
     ]
    }
   ],
   "source": [
    "# Use info to show  elements properties in this data frame\n",
    "combined_data_hightip.info()"
   ]
  },
  {
   "cell_type": "code",
   "execution_count": null,
   "metadata": {
    "collapsed": true
   },
   "outputs": [],
   "source": []
  },
  {
   "cell_type": "code",
   "execution_count": 36,
   "metadata": {
    "collapsed": true
   },
   "outputs": [],
   "source": [
    "#combined_data_hightip.loc[:,'store_and_fwd_flag'][1:10]"
   ]
  },
  {
   "cell_type": "markdown",
   "metadata": {},
   "source": [
    "#### The most straightforward assignments are = the others have to do with maps,apply etc."
   ]
  },
  {
   "cell_type": "code",
   "execution_count": 37,
   "metadata": {},
   "outputs": [
    {
     "name": "stderr",
     "output_type": "stream",
     "text": [
      "C:\\Users\\jpsabini\\Anaconda3\\lib\\site-packages\\pandas\\core\\indexing.py:337: SettingWithCopyWarning: \n",
      "A value is trying to be set on a copy of a slice from a DataFrame.\n",
      "Try using .loc[row_indexer,col_indexer] = value instead\n",
      "\n",
      "See the caveats in the documentation: http://pandas.pydata.org/pandas-docs/stable/indexing.html#indexing-view-versus-copy\n",
      "  self.obj[key] = _infer_fill_value(value)\n",
      "C:\\Users\\jpsabini\\Anaconda3\\lib\\site-packages\\pandas\\core\\indexing.py:517: SettingWithCopyWarning: \n",
      "A value is trying to be set on a copy of a slice from a DataFrame.\n",
      "Try using .loc[row_indexer,col_indexer] = value instead\n",
      "\n",
      "See the caveats in the documentation: http://pandas.pydata.org/pandas-docs/stable/indexing.html#indexing-view-versus-copy\n",
      "  self.obj[item] = s\n"
     ]
    },
    {
     "data": {
      "text/plain": [
       "1     0.0\n",
       "6     0.0\n",
       "12    0.0\n",
       "15    0.0\n",
       "21    0.0\n",
       "Name: store_and_fwd_ind, dtype: float64"
      ]
     },
     "execution_count": 37,
     "metadata": {},
     "output_type": "execute_result"
    }
   ],
   "source": [
    "#Part B\n",
    "#Create a new column which has a 1 if store_and_forward == 'Y' and 0 if not.\n",
    "# Name it store_and_fwd_ind.\n",
    "# Depending on how you assign to the dataframe, you will receive a warning. \n",
    "# This is due to an assignments to a chained dataframe reference. \n",
    "# Don't worry about it.\n",
    "\n",
    "combined_data_hightip.loc[:,'store_and_fwd_ind']=0.0\n",
    "\n",
    "combined_data_hightip['store_and_fwd_ind'].head(5)\n"
   ]
  },
  {
   "cell_type": "code",
   "execution_count": 38,
   "metadata": {},
   "outputs": [
    {
     "name": "stderr",
     "output_type": "stream",
     "text": [
      "C:\\Users\\jpsabini\\Anaconda3\\lib\\site-packages\\pandas\\core\\indexing.py:517: SettingWithCopyWarning: \n",
      "A value is trying to be set on a copy of a slice from a DataFrame.\n",
      "Try using .loc[row_indexer,col_indexer] = value instead\n",
      "\n",
      "See the caveats in the documentation: http://pandas.pydata.org/pandas-docs/stable/indexing.html#indexing-view-versus-copy\n",
      "  self.obj[item] = s\n"
     ]
    }
   ],
   "source": [
    "combined_data_hightip.loc[combined_data_hightip['store_and_fwd_flag']==\"Y\",\\\n",
    "                          'store_and_fwd_ind']=1"
   ]
  },
  {
   "cell_type": "code",
   "execution_count": 39,
   "metadata": {},
   "outputs": [
    {
     "data": {
      "text/plain": [
       "54      1.0\n",
       "200     1.0\n",
       "296     1.0\n",
       "1248    1.0\n",
       "1603    1.0\n",
       "Name: store_and_fwd_ind, dtype: float64"
      ]
     },
     "execution_count": 39,
     "metadata": {},
     "output_type": "execute_result"
    }
   ],
   "source": [
    "combined_data_hightip.loc[combined_data_hightip['store_and_fwd_flag']==\"Y\",\\\n",
    "                          'store_and_fwd_ind'].head()\n"
   ]
  },
  {
   "cell_type": "code",
   "execution_count": 40,
   "metadata": {
    "collapsed": true
   },
   "outputs": [],
   "source": [
    "# or do this\n",
    "#combined_data_hightip['store_and_fwd_ind'] = np.where(combined_data_hightip['store_and_fwd_flag']=='Y',1,0)\n",
    "#\n",
    "#or this\n",
    "#combined_data_hightip.store_and_fwd_ind.replace({'Y': 1, 'N': 0}, inplace=True) this will leave nans"
   ]
  },
  {
   "cell_type": "markdown",
   "metadata": {},
   "source": [
    "### OR you can use apply "
   ]
  },
  {
   "cell_type": "code",
   "execution_count": 41,
   "metadata": {
    "collapsed": true
   },
   "outputs": [],
   "source": [
    "#version with nan\n",
    "def change_y_nan(store_and_fwd_ind):\n",
    "    if store_and_fwd_ind=='Y':\n",
    "        ind=1\n",
    "    elif pd.isnull(store_and_fwd_ind):\n",
    "        ind=np.nan\n",
    "    else:\n",
    "        ind=0\n",
    "    return(ind)"
   ]
  },
  {
   "cell_type": "code",
   "execution_count": 42,
   "metadata": {
    "collapsed": true
   },
   "outputs": [],
   "source": [
    "#Version w/o nan\n",
    "def change_y_no(store_and_fwd_ind):\n",
    "    if store_and_fwd_ind=='Y':\n",
    "        ind=1\n",
    "    else:\n",
    "        ind=0\n",
    "    return(ind)"
   ]
  },
  {
   "cell_type": "code",
   "execution_count": 43,
   "metadata": {},
   "outputs": [
    {
     "name": "stderr",
     "output_type": "stream",
     "text": [
      "C:\\Users\\jpsabini\\Anaconda3\\lib\\site-packages\\ipykernel\\__main__.py:2: SettingWithCopyWarning: \n",
      "A value is trying to be set on a copy of a slice from a DataFrame.\n",
      "Try using .loc[row_indexer,col_indexer] = value instead\n",
      "\n",
      "See the caveats in the documentation: http://pandas.pydata.org/pandas-docs/stable/indexing.html#indexing-view-versus-copy\n",
      "  from ipykernel import kernelapp as app\n"
     ]
    },
    {
     "data": {
      "text/plain": [
       "1     NaN\n",
       "6     NaN\n",
       "12    NaN\n",
       "15    0.0\n",
       "21    NaN\n",
       "24    0.0\n",
       "32    NaN\n",
       "34    0.0\n",
       "Name: store_and_fwd_ind, dtype: float64"
      ]
     },
     "execution_count": 43,
     "metadata": {},
     "output_type": "execute_result"
    }
   ],
   "source": [
    "\n",
    "combined_data_hightip['store_and_fwd_ind']=combined_data_hightip['store_and_fwd_flag'].apply(change_y_nan)\n",
    "combined_data_hightip['store_and_fwd_ind'].head(8)"
   ]
  },
  {
   "cell_type": "code",
   "execution_count": 44,
   "metadata": {},
   "outputs": [
    {
     "data": {
      "text/plain": [
       "Index(['medallion', 'hack_license', 'vendor_id_x', 'rate_code',\n",
       "       'store_and_fwd_flag', 'pickup_datetime', 'dropoff_datetime',\n",
       "       'passenger_count', 'trip_time_in_secs', 'trip_distance',\n",
       "       'pickup_longitude', 'pickup_latitude', 'dropoff_longitude',\n",
       "       'dropoff_latitude', 'vendor_id_y', 'payment_type', 'fare_amount',\n",
       "       'surcharge', 'mta_tax', 'tip_amount', 'tolls_amount', 'total_amount',\n",
       "       'total_amount_92pcnt_cap', 'store_and_fwd_ind'],\n",
       "      dtype='object')"
      ]
     },
     "execution_count": 44,
     "metadata": {},
     "output_type": "execute_result"
    }
   ],
   "source": [
    "combined_data_hightip.columns"
   ]
  },
  {
   "cell_type": "code",
   "execution_count": 45,
   "metadata": {},
   "outputs": [
    {
     "data": {
      "text/plain": [
       "count    354812.000000\n",
       "mean          4.322134\n",
       "std           2.924937\n",
       "min           0.000000\n",
       "25%           2.000000\n",
       "50%           4.000000\n",
       "75%           7.000000\n",
       "max           9.000000\n",
       "Name: tip_amount, dtype: float64"
      ]
     },
     "execution_count": 45,
     "metadata": {},
     "output_type": "execute_result"
    }
   ],
   "source": [
    "#Part C#Then, discretize this new variable by creating 10 roughly equal\n",
    "# groups(cuts) from highest to lowest.\n",
    "# Use pd.qcut on the combined_data_hightip columns / cut it into 0.1 and\n",
    "# call it the high_tip_group . \n",
    "high_tip_group=pd.qcut(combined_data_hightip['tip_amount'],10,labels=False,duplicates='drop')\n",
    "\n",
    "high_tip_group.describe()\n",
    "#50%           4.000000"
   ]
  },
  {
   "cell_type": "code",
   "execution_count": 47,
   "metadata": {},
   "outputs": [
    {
     "data": {
      "text/html": [
       "<div>\n",
       "<style>\n",
       "    .dataframe thead tr:only-child th {\n",
       "        text-align: right;\n",
       "    }\n",
       "\n",
       "    .dataframe thead th {\n",
       "        text-align: left;\n",
       "    }\n",
       "\n",
       "    .dataframe tbody tr th {\n",
       "        vertical-align: top;\n",
       "    }\n",
       "</style>\n",
       "<table border=\"1\" class=\"dataframe\">\n",
       "  <thead>\n",
       "    <tr style=\"text-align: right;\">\n",
       "      <th></th>\n",
       "      <th>mean</th>\n",
       "      <th>count</th>\n",
       "    </tr>\n",
       "    <tr>\n",
       "      <th>tip_amount</th>\n",
       "      <th></th>\n",
       "      <th></th>\n",
       "    </tr>\n",
       "  </thead>\n",
       "  <tbody>\n",
       "    <tr>\n",
       "      <th>0</th>\n",
       "      <td>0.020676</td>\n",
       "      <td>19685</td>\n",
       "    </tr>\n",
       "    <tr>\n",
       "      <th>1</th>\n",
       "      <td>0.021819</td>\n",
       "      <td>17095</td>\n",
       "    </tr>\n",
       "    <tr>\n",
       "      <th>2</th>\n",
       "      <td>0.019985</td>\n",
       "      <td>17363</td>\n",
       "    </tr>\n",
       "    <tr>\n",
       "      <th>3</th>\n",
       "      <td>0.021922</td>\n",
       "      <td>28008</td>\n",
       "    </tr>\n",
       "    <tr>\n",
       "      <th>4</th>\n",
       "      <td>0.024339</td>\n",
       "      <td>9039</td>\n",
       "    </tr>\n",
       "    <tr>\n",
       "      <th>5</th>\n",
       "      <td>0.021397</td>\n",
       "      <td>15329</td>\n",
       "    </tr>\n",
       "    <tr>\n",
       "      <th>6</th>\n",
       "      <td>0.024209</td>\n",
       "      <td>20447</td>\n",
       "    </tr>\n",
       "    <tr>\n",
       "      <th>7</th>\n",
       "      <td>0.025123</td>\n",
       "      <td>15006</td>\n",
       "    </tr>\n",
       "    <tr>\n",
       "      <th>8</th>\n",
       "      <td>0.027286</td>\n",
       "      <td>17335</td>\n",
       "    </tr>\n",
       "    <tr>\n",
       "      <th>9</th>\n",
       "      <td>0.029468</td>\n",
       "      <td>17205</td>\n",
       "    </tr>\n",
       "  </tbody>\n",
       "</table>\n",
       "</div>"
      ],
      "text/plain": [
       "                mean  count\n",
       "tip_amount                 \n",
       "0           0.020676  19685\n",
       "1           0.021819  17095\n",
       "2           0.019985  17363\n",
       "3           0.021922  28008\n",
       "4           0.024339   9039\n",
       "5           0.021397  15329\n",
       "6           0.024209  20447\n",
       "7           0.025123  15006\n",
       "8           0.027286  17335\n",
       "9           0.029468  17205"
      ]
     },
     "execution_count": 47,
     "metadata": {},
     "output_type": "execute_result"
    }
   ],
   "source": [
    "#Part D\n",
    "# group the store_and_fwd_ind column values by high tip group and \n",
    "# put it into a groupby object called \"result.\" \n",
    " \n",
    "grouped=combined_data_hightip['store_and_fwd_ind'].groupby(high_tip_group)\n",
    "result=grouped.agg(['mean','count'])\n",
    "result\n"
   ]
  },
  {
   "cell_type": "code",
   "execution_count": 48,
   "metadata": {},
   "outputs": [
    {
     "data": {
      "image/png": "[encoded data removed]",
      "text/plain": [
       "<matplotlib.figure.Figure at 0x1ec20fd4940>"
      ]
     },
     "metadata": {},
     "output_type": "display_data"
    }
   ],
   "source": [
    "#Part 3 Plot the store and foward rate versus tip amount. What can you say\n",
    "#about this relationship (are store and forward flag correlated)?\n",
    "\n",
    "ax=result['mean'].plot(marker=\"o\",title=\"store and fwd rate by tipamount\")\n",
    "ax.set_xlim([0,10])\n",
    "#ax.set_ylim([0,.02])\n",
    "for (a,b) in zip(list(result.index),list(result['mean'])):\n",
    "    if (a!=6):\n",
    "        ax.annotate(str(format(b,'.4f')),[a,b])\n",
    "else:\n",
    "    ax.annotate(str(format(b,'.4f')),[a,.0122])\n"
   ]
  },
  {
   "cell_type": "code",
   "execution_count": 49,
   "metadata": {},
   "outputs": [
    {
     "data": {
      "text/plain": [
       "<matplotlib.axes._subplots.AxesSubplot at 0x1ec20fd4438>"
      ]
     },
     "execution_count": 49,
     "metadata": {},
     "output_type": "execute_result"
    },
    {
     "data": {
      "image/png": "[encoded data removed]",
      "text/plain": [
       "<matplotlib.figure.Figure at 0x1ec3338a518>"
      ]
     },
     "metadata": {},
     "output_type": "display_data"
    }
   ],
   "source": [
    "result['mean'].plot(marker=\"o\",title=\"store and fwd rate by tipamount\")"
   ]
  },
  {
   "cell_type": "code",
   "execution_count": null,
   "metadata": {
    "collapsed": true
   },
   "outputs": [],
   "source": []
  },
  {
   "cell_type": "code",
   "execution_count": null,
   "metadata": {
    "collapsed": true
   },
   "outputs": [],
   "source": []
  },
  {
   "cell_type": "code",
   "execution_count": 53,
   "metadata": {
    "collapsed": true
   },
   "outputs": [],
   "source": []
  },
  {
   "cell_type": "code",
   "execution_count": null,
   "metadata": {
    "collapsed": true
   },
   "outputs": [],
   "source": []
  },
  {
   "cell_type": "code",
   "execution_count": 1,
   "metadata": {
    "collapsed": true
   },
   "outputs": [],
   "source": [
    "#combined_data_hightip.groupby(by=high_tip_group).store_and_fwd_ind.mean()"
   ]
  },
  {
   "cell_type": "markdown",
   "metadata": {},
   "source": [
    "#### End of exam"
   ]
  }
 ],
 "metadata": {
  "kernelspec": {
   "display_name": "Python 3",
   "language": "python",
   "name": "python3"
  },
  "language_info": {
   "codemirror_mode": {
    "name": "ipython",
    "version": 3
   },
   "file_extension": ".py",
   "mimetype": "text/x-python",
   "name": "python",
   "nbconvert_exporter": "python",
   "pygments_lexer": "ipython3",
   "version": "3.6.3"
  }
 },
 "nbformat": 4,
 "nbformat_minor": 2
}
