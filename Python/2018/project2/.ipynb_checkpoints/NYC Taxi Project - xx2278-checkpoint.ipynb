{
 "cells": [
  {
   "cell_type": "markdown",
   "metadata": {},
   "source": [
    "Markdown basics (http://daringfireball.net/projects/markdown/basics)\n",
    "# NY Taxi Rides\n",
    "\n",
    "### Data Provided by the New York City Taxi and Limousine Commission.\n",
    "Full dataset is 170 million taxi trips, 100GB of free space. Our subset is 0.5% of all trips, about 850,000 rides. Download the dataset from Cyrille Rossant on GitHub: https://github.com/ipython-books/minibook-2nd-data (https://github.com/ipython-books/minibook-2nd-data) NYC Taxi & Limousine Commission website (http://www.nyc.gov/html/tlc/html/about/trip_record_data.shtml) NYC Gov data description website (http://www.nyc.gov/html/tlc/downloads/pdf/data_dictionary_trip_records_yellow.pdf)\n"
   ]
  },
  {
   "cell_type": "code",
   "execution_count": 1,
   "metadata": {},
   "outputs": [],
   "source": [
    "import numpy as np \n",
    "import pandas as pd \n",
    "import matplotlib.pyplot as plt \n",
    "%matplotlib inline\n"
   ]
  },
  {
   "cell_type": "code",
   "execution_count": 2,
   "metadata": {},
   "outputs": [],
   "source": [
    "#put your path here.\n",
    "\n",
    "data_filename = 'data/nyc_data.csv'"
   ]
  },
  {
   "cell_type": "code",
   "execution_count": 3,
   "metadata": {
    "collapsed": true
   },
   "outputs": [],
   "source": [
    "data = pd.read_csv(data_filename, \n",
    "                   parse_dates=['pickup_datetime', 'dropoff_datetime'] )\n",
    "#pd.read_csv?"
   ]
  },
  {
   "cell_type": "markdown",
   "metadata": {},
   "source": [
    "head() method of DataFrames displays the first three lines of the table"
   ]
  },
  {
   "cell_type": "code",
   "execution_count": 4,
   "metadata": {},
   "outputs": [
    {
     "data": {
      "text/html": [
       "<div>\n",
       "<style>\n",
       "    .dataframe thead tr:only-child th {\n",
       "        text-align: right;\n",
       "    }\n",
       "\n",
       "    .dataframe thead th {\n",
       "        text-align: left;\n",
       "    }\n",
       "\n",
       "    .dataframe tbody tr th {\n",
       "        vertical-align: top;\n",
       "    }\n",
       "</style>\n",
       "<table border=\"1\" class=\"dataframe\">\n",
       "  <thead>\n",
       "    <tr style=\"text-align: right;\">\n",
       "      <th></th>\n",
       "      <th>medallion</th>\n",
       "      <th>hack_license</th>\n",
       "      <th>vendor_id</th>\n",
       "      <th>rate_code</th>\n",
       "      <th>store_and_fwd_flag</th>\n",
       "      <th>pickup_datetime</th>\n",
       "      <th>dropoff_datetime</th>\n",
       "      <th>passenger_count</th>\n",
       "      <th>trip_time_in_secs</th>\n",
       "      <th>trip_distance</th>\n",
       "      <th>pickup_longitude</th>\n",
       "      <th>pickup_latitude</th>\n",
       "      <th>dropoff_longitude</th>\n",
       "      <th>dropoff_latitude</th>\n",
       "    </tr>\n",
       "  </thead>\n",
       "  <tbody>\n",
       "    <tr>\n",
       "      <th>0</th>\n",
       "      <td>76942C3205E17D7E7FE5A9F709D16434</td>\n",
       "      <td>25BA06A87905667AA1FE5990E33F0E2E</td>\n",
       "      <td>VTS</td>\n",
       "      <td>1</td>\n",
       "      <td>NaN</td>\n",
       "      <td>2013-01-01 00:00:00</td>\n",
       "      <td>2013-01-01 00:05:00</td>\n",
       "      <td>3</td>\n",
       "      <td>300</td>\n",
       "      <td>0.61</td>\n",
       "      <td>-73.955925</td>\n",
       "      <td>40.781887</td>\n",
       "      <td>-73.963181</td>\n",
       "      <td>40.777832</td>\n",
       "    </tr>\n",
       "    <tr>\n",
       "      <th>1</th>\n",
       "      <td>517C6B330DBB3F055D007B07512628B3</td>\n",
       "      <td>2C19FBEE1A6E05612EFE4C958C14BC7F</td>\n",
       "      <td>VTS</td>\n",
       "      <td>1</td>\n",
       "      <td>NaN</td>\n",
       "      <td>2013-01-01 00:05:00</td>\n",
       "      <td>2013-01-01 00:21:00</td>\n",
       "      <td>1</td>\n",
       "      <td>960</td>\n",
       "      <td>3.28</td>\n",
       "      <td>-74.005501</td>\n",
       "      <td>40.745735</td>\n",
       "      <td>-73.964943</td>\n",
       "      <td>40.755722</td>\n",
       "    </tr>\n",
       "    <tr>\n",
       "      <th>2</th>\n",
       "      <td>ED15611F168E41B33619C83D900FE266</td>\n",
       "      <td>754AEBD7C80DA17BA1D81D89FB6F4D1D</td>\n",
       "      <td>CMT</td>\n",
       "      <td>1</td>\n",
       "      <td>N</td>\n",
       "      <td>2013-01-01 00:05:52</td>\n",
       "      <td>2013-01-01 00:12:18</td>\n",
       "      <td>1</td>\n",
       "      <td>386</td>\n",
       "      <td>1.50</td>\n",
       "      <td>-73.969955</td>\n",
       "      <td>40.799770</td>\n",
       "      <td>-73.954567</td>\n",
       "      <td>40.787392</td>\n",
       "    </tr>\n",
       "    <tr>\n",
       "      <th>3</th>\n",
       "      <td>B33E704CC189E80C9671230C16527BBC</td>\n",
       "      <td>6789C77E1CBDC850C450D72204702976</td>\n",
       "      <td>VTS</td>\n",
       "      <td>1</td>\n",
       "      <td>NaN</td>\n",
       "      <td>2013-01-01 00:06:00</td>\n",
       "      <td>2013-01-01 00:06:00</td>\n",
       "      <td>6</td>\n",
       "      <td>0</td>\n",
       "      <td>0.00</td>\n",
       "      <td>-73.991432</td>\n",
       "      <td>40.755081</td>\n",
       "      <td>-73.991417</td>\n",
       "      <td>40.755085</td>\n",
       "    </tr>\n",
       "    <tr>\n",
       "      <th>4</th>\n",
       "      <td>BD5CC6A22D05EB2D5C8235526A2A4276</td>\n",
       "      <td>5E8F2C93B5220A922699FEBAFC2F7A54</td>\n",
       "      <td>VTS</td>\n",
       "      <td>1</td>\n",
       "      <td>NaN</td>\n",
       "      <td>2013-01-01 00:06:00</td>\n",
       "      <td>2013-01-01 00:12:00</td>\n",
       "      <td>2</td>\n",
       "      <td>360</td>\n",
       "      <td>1.31</td>\n",
       "      <td>-73.966225</td>\n",
       "      <td>40.773716</td>\n",
       "      <td>-73.955399</td>\n",
       "      <td>40.782597</td>\n",
       "    </tr>\n",
       "  </tbody>\n",
       "</table>\n",
       "</div>"
      ],
      "text/plain": [
       "                          medallion                      hack_license  \\\n",
       "0  76942C3205E17D7E7FE5A9F709D16434  25BA06A87905667AA1FE5990E33F0E2E   \n",
       "1  517C6B330DBB3F055D007B07512628B3  2C19FBEE1A6E05612EFE4C958C14BC7F   \n",
       "2  ED15611F168E41B33619C83D900FE266  754AEBD7C80DA17BA1D81D89FB6F4D1D   \n",
       "3  B33E704CC189E80C9671230C16527BBC  6789C77E1CBDC850C450D72204702976   \n",
       "4  BD5CC6A22D05EB2D5C8235526A2A4276  5E8F2C93B5220A922699FEBAFC2F7A54   \n",
       "\n",
       "  vendor_id  rate_code store_and_fwd_flag     pickup_datetime  \\\n",
       "0       VTS          1                NaN 2013-01-01 00:00:00   \n",
       "1       VTS          1                NaN 2013-01-01 00:05:00   \n",
       "2       CMT          1                  N 2013-01-01 00:05:52   \n",
       "3       VTS          1                NaN 2013-01-01 00:06:00   \n",
       "4       VTS          1                NaN 2013-01-01 00:06:00   \n",
       "\n",
       "     dropoff_datetime  passenger_count  trip_time_in_secs  trip_distance  \\\n",
       "0 2013-01-01 00:05:00                3                300           0.61   \n",
       "1 2013-01-01 00:21:00                1                960           3.28   \n",
       "2 2013-01-01 00:12:18                1                386           1.50   \n",
       "3 2013-01-01 00:06:00                6                  0           0.00   \n",
       "4 2013-01-01 00:12:00                2                360           1.31   \n",
       "\n",
       "   pickup_longitude  pickup_latitude  dropoff_longitude  dropoff_latitude  \n",
       "0        -73.955925        40.781887         -73.963181         40.777832  \n",
       "1        -74.005501        40.745735         -73.964943         40.755722  \n",
       "2        -73.969955        40.799770         -73.954567         40.787392  \n",
       "3        -73.991432        40.755081         -73.991417         40.755085  \n",
       "4        -73.966225        40.773716         -73.955399         40.782597  "
      ]
     },
     "execution_count": 4,
     "metadata": {},
     "output_type": "execute_result"
    }
   ],
   "source": [
    "data.head()"
   ]
  },
  {
   "cell_type": "code",
   "execution_count": 5,
   "metadata": {},
   "outputs": [
    {
     "data": {
      "text/plain": [
       "Index(['medallion', 'hack_license', 'vendor_id', 'rate_code',\n",
       "       'store_and_fwd_flag', 'pickup_datetime', 'dropoff_datetime',\n",
       "       'passenger_count', 'trip_time_in_secs', 'trip_distance',\n",
       "       'pickup_longitude', 'pickup_latitude', 'dropoff_longitude',\n",
       "       'dropoff_latitude'],\n",
       "      dtype='object')"
      ]
     },
     "execution_count": 5,
     "metadata": {},
     "output_type": "execute_result"
    }
   ],
   "source": [
    "data.columns # display data columns"
   ]
  },
  {
   "cell_type": "code",
   "execution_count": 6,
   "metadata": {},
   "outputs": [
    {
     "data": {
      "text/plain": [
       "846945"
      ]
     },
     "execution_count": 6,
     "metadata": {},
     "output_type": "execute_result"
    }
   ],
   "source": [
    "len(data) # display number of rows"
   ]
  },
  {
   "cell_type": "code",
   "execution_count": 7,
   "metadata": {},
   "outputs": [
    {
     "data": {
      "text/plain": [
       "medallion                     object\n",
       "hack_license                  object\n",
       "vendor_id                     object\n",
       "rate_code                      int64\n",
       "store_and_fwd_flag            object\n",
       "pickup_datetime       datetime64[ns]\n",
       "dropoff_datetime      datetime64[ns]\n",
       "passenger_count                int64\n",
       "trip_time_in_secs              int64\n",
       "trip_distance                float64\n",
       "pickup_longitude             float64\n",
       "pickup_latitude              float64\n",
       "dropoff_longitude            float64\n",
       "dropoff_latitude             float64\n",
       "dtype: object"
      ]
     },
     "execution_count": 7,
     "metadata": {},
     "output_type": "execute_result"
    }
   ],
   "source": [
    "data.dtypes # variable types"
   ]
  },
  {
   "cell_type": "code",
   "execution_count": 8,
   "metadata": {},
   "outputs": [
    {
     "data": {
      "text/html": [
       "<div>\n",
       "<style>\n",
       "    .dataframe thead tr:only-child th {\n",
       "        text-align: right;\n",
       "    }\n",
       "\n",
       "    .dataframe thead th {\n",
       "        text-align: left;\n",
       "    }\n",
       "\n",
       "    .dataframe tbody tr th {\n",
       "        vertical-align: top;\n",
       "    }\n",
       "</style>\n",
       "<table border=\"1\" class=\"dataframe\">\n",
       "  <thead>\n",
       "    <tr style=\"text-align: right;\">\n",
       "      <th></th>\n",
       "      <th>medallion</th>\n",
       "      <th>hack_license</th>\n",
       "      <th>vendor_id</th>\n",
       "      <th>rate_code</th>\n",
       "      <th>store_and_fwd_flag</th>\n",
       "      <th>pickup_datetime</th>\n",
       "      <th>dropoff_datetime</th>\n",
       "      <th>passenger_count</th>\n",
       "      <th>trip_time_in_secs</th>\n",
       "      <th>trip_distance</th>\n",
       "      <th>pickup_longitude</th>\n",
       "      <th>pickup_latitude</th>\n",
       "      <th>dropoff_longitude</th>\n",
       "      <th>dropoff_latitude</th>\n",
       "    </tr>\n",
       "  </thead>\n",
       "  <tbody>\n",
       "    <tr>\n",
       "      <th>count</th>\n",
       "      <td>846945</td>\n",
       "      <td>846945</td>\n",
       "      <td>846945</td>\n",
       "      <td>846945.000000</td>\n",
       "      <td>424577</td>\n",
       "      <td>846945</td>\n",
       "      <td>846945</td>\n",
       "      <td>846945.000000</td>\n",
       "      <td>8.469450e+05</td>\n",
       "      <td>8.469450e+05</td>\n",
       "      <td>846945.000000</td>\n",
       "      <td>846945.000000</td>\n",
       "      <td>846945.000000</td>\n",
       "      <td>846945.000000</td>\n",
       "    </tr>\n",
       "    <tr>\n",
       "      <th>unique</th>\n",
       "      <td>13446</td>\n",
       "      <td>38391</td>\n",
       "      <td>2</td>\n",
       "      <td>NaN</td>\n",
       "      <td>2</td>\n",
       "      <td>685423</td>\n",
       "      <td>686957</td>\n",
       "      <td>NaN</td>\n",
       "      <td>NaN</td>\n",
       "      <td>NaN</td>\n",
       "      <td>NaN</td>\n",
       "      <td>NaN</td>\n",
       "      <td>NaN</td>\n",
       "      <td>NaN</td>\n",
       "    </tr>\n",
       "    <tr>\n",
       "      <th>top</th>\n",
       "      <td>20BA941F62CC07F1FA3EF3E122B1E9B2</td>\n",
       "      <td>03173DD93C1171DA1788E6E7D733C5A9</td>\n",
       "      <td>CMT</td>\n",
       "      <td>NaN</td>\n",
       "      <td>N</td>\n",
       "      <td>2013-04-27 10:50:00</td>\n",
       "      <td>2013-01-20 01:03:00</td>\n",
       "      <td>NaN</td>\n",
       "      <td>NaN</td>\n",
       "      <td>NaN</td>\n",
       "      <td>NaN</td>\n",
       "      <td>NaN</td>\n",
       "      <td>NaN</td>\n",
       "      <td>NaN</td>\n",
       "    </tr>\n",
       "    <tr>\n",
       "      <th>freq</th>\n",
       "      <td>125</td>\n",
       "      <td>97</td>\n",
       "      <td>424678</td>\n",
       "      <td>NaN</td>\n",
       "      <td>414599</td>\n",
       "      <td>9</td>\n",
       "      <td>9</td>\n",
       "      <td>NaN</td>\n",
       "      <td>NaN</td>\n",
       "      <td>NaN</td>\n",
       "      <td>NaN</td>\n",
       "      <td>NaN</td>\n",
       "      <td>NaN</td>\n",
       "      <td>NaN</td>\n",
       "    </tr>\n",
       "    <tr>\n",
       "      <th>first</th>\n",
       "      <td>NaN</td>\n",
       "      <td>NaN</td>\n",
       "      <td>NaN</td>\n",
       "      <td>NaN</td>\n",
       "      <td>NaN</td>\n",
       "      <td>2013-01-01 00:00:00</td>\n",
       "      <td>2013-01-01 00:05:00</td>\n",
       "      <td>NaN</td>\n",
       "      <td>NaN</td>\n",
       "      <td>NaN</td>\n",
       "      <td>NaN</td>\n",
       "      <td>NaN</td>\n",
       "      <td>NaN</td>\n",
       "      <td>NaN</td>\n",
       "    </tr>\n",
       "    <tr>\n",
       "      <th>last</th>\n",
       "      <td>NaN</td>\n",
       "      <td>NaN</td>\n",
       "      <td>NaN</td>\n",
       "      <td>NaN</td>\n",
       "      <td>NaN</td>\n",
       "      <td>2013-12-31 23:59:24</td>\n",
       "      <td>2014-01-01 00:22:26</td>\n",
       "      <td>NaN</td>\n",
       "      <td>NaN</td>\n",
       "      <td>NaN</td>\n",
       "      <td>NaN</td>\n",
       "      <td>NaN</td>\n",
       "      <td>NaN</td>\n",
       "      <td>NaN</td>\n",
       "    </tr>\n",
       "    <tr>\n",
       "      <th>mean</th>\n",
       "      <td>NaN</td>\n",
       "      <td>NaN</td>\n",
       "      <td>NaN</td>\n",
       "      <td>1.026123</td>\n",
       "      <td>NaN</td>\n",
       "      <td>NaN</td>\n",
       "      <td>NaN</td>\n",
       "      <td>1.710272</td>\n",
       "      <td>8.125239e+02</td>\n",
       "      <td>9.958211e+00</td>\n",
       "      <td>-73.975155</td>\n",
       "      <td>40.750490</td>\n",
       "      <td>-73.974197</td>\n",
       "      <td>40.750967</td>\n",
       "    </tr>\n",
       "    <tr>\n",
       "      <th>std</th>\n",
       "      <td>NaN</td>\n",
       "      <td>NaN</td>\n",
       "      <td>NaN</td>\n",
       "      <td>0.223480</td>\n",
       "      <td>NaN</td>\n",
       "      <td>NaN</td>\n",
       "      <td>NaN</td>\n",
       "      <td>1.375266</td>\n",
       "      <td>1.609831e+04</td>\n",
       "      <td>6.525205e+03</td>\n",
       "      <td>0.035142</td>\n",
       "      <td>0.027224</td>\n",
       "      <td>0.033453</td>\n",
       "      <td>0.030766</td>\n",
       "    </tr>\n",
       "    <tr>\n",
       "      <th>min</th>\n",
       "      <td>NaN</td>\n",
       "      <td>NaN</td>\n",
       "      <td>NaN</td>\n",
       "      <td>0.000000</td>\n",
       "      <td>NaN</td>\n",
       "      <td>NaN</td>\n",
       "      <td>NaN</td>\n",
       "      <td>0.000000</td>\n",
       "      <td>-1.000000e+01</td>\n",
       "      <td>0.000000e+00</td>\n",
       "      <td>-74.098305</td>\n",
       "      <td>40.009911</td>\n",
       "      <td>-74.099998</td>\n",
       "      <td>40.009911</td>\n",
       "    </tr>\n",
       "    <tr>\n",
       "      <th>25%</th>\n",
       "      <td>NaN</td>\n",
       "      <td>NaN</td>\n",
       "      <td>NaN</td>\n",
       "      <td>1.000000</td>\n",
       "      <td>NaN</td>\n",
       "      <td>NaN</td>\n",
       "      <td>NaN</td>\n",
       "      <td>1.000000</td>\n",
       "      <td>3.610000e+02</td>\n",
       "      <td>1.050000e+00</td>\n",
       "      <td>-73.992371</td>\n",
       "      <td>40.736031</td>\n",
       "      <td>-73.991570</td>\n",
       "      <td>40.735207</td>\n",
       "    </tr>\n",
       "    <tr>\n",
       "      <th>50%</th>\n",
       "      <td>NaN</td>\n",
       "      <td>NaN</td>\n",
       "      <td>NaN</td>\n",
       "      <td>1.000000</td>\n",
       "      <td>NaN</td>\n",
       "      <td>NaN</td>\n",
       "      <td>NaN</td>\n",
       "      <td>1.000000</td>\n",
       "      <td>6.000000e+02</td>\n",
       "      <td>1.800000e+00</td>\n",
       "      <td>-73.982094</td>\n",
       "      <td>40.752975</td>\n",
       "      <td>-73.980614</td>\n",
       "      <td>40.753597</td>\n",
       "    </tr>\n",
       "    <tr>\n",
       "      <th>75%</th>\n",
       "      <td>NaN</td>\n",
       "      <td>NaN</td>\n",
       "      <td>NaN</td>\n",
       "      <td>1.000000</td>\n",
       "      <td>NaN</td>\n",
       "      <td>NaN</td>\n",
       "      <td>NaN</td>\n",
       "      <td>2.000000</td>\n",
       "      <td>9.600000e+02</td>\n",
       "      <td>3.200000e+00</td>\n",
       "      <td>-73.968048</td>\n",
       "      <td>40.767460</td>\n",
       "      <td>-73.965157</td>\n",
       "      <td>40.768227</td>\n",
       "    </tr>\n",
       "    <tr>\n",
       "      <th>max</th>\n",
       "      <td>NaN</td>\n",
       "      <td>NaN</td>\n",
       "      <td>NaN</td>\n",
       "      <td>6.000000</td>\n",
       "      <td>NaN</td>\n",
       "      <td>NaN</td>\n",
       "      <td>NaN</td>\n",
       "      <td>6.000000</td>\n",
       "      <td>4.294796e+06</td>\n",
       "      <td>6.005123e+06</td>\n",
       "      <td>-73.028473</td>\n",
       "      <td>40.996132</td>\n",
       "      <td>-73.027061</td>\n",
       "      <td>40.998592</td>\n",
       "    </tr>\n",
       "  </tbody>\n",
       "</table>\n",
       "</div>"
      ],
      "text/plain": [
       "                               medallion                      hack_license  \\\n",
       "count                             846945                            846945   \n",
       "unique                             13446                             38391   \n",
       "top     20BA941F62CC07F1FA3EF3E122B1E9B2  03173DD93C1171DA1788E6E7D733C5A9   \n",
       "freq                                 125                                97   \n",
       "first                                NaN                               NaN   \n",
       "last                                 NaN                               NaN   \n",
       "mean                                 NaN                               NaN   \n",
       "std                                  NaN                               NaN   \n",
       "min                                  NaN                               NaN   \n",
       "25%                                  NaN                               NaN   \n",
       "50%                                  NaN                               NaN   \n",
       "75%                                  NaN                               NaN   \n",
       "max                                  NaN                               NaN   \n",
       "\n",
       "       vendor_id      rate_code store_and_fwd_flag      pickup_datetime  \\\n",
       "count     846945  846945.000000             424577               846945   \n",
       "unique         2            NaN                  2               685423   \n",
       "top          CMT            NaN                  N  2013-04-27 10:50:00   \n",
       "freq      424678            NaN             414599                    9   \n",
       "first        NaN            NaN                NaN  2013-01-01 00:00:00   \n",
       "last         NaN            NaN                NaN  2013-12-31 23:59:24   \n",
       "mean         NaN       1.026123                NaN                  NaN   \n",
       "std          NaN       0.223480                NaN                  NaN   \n",
       "min          NaN       0.000000                NaN                  NaN   \n",
       "25%          NaN       1.000000                NaN                  NaN   \n",
       "50%          NaN       1.000000                NaN                  NaN   \n",
       "75%          NaN       1.000000                NaN                  NaN   \n",
       "max          NaN       6.000000                NaN                  NaN   \n",
       "\n",
       "           dropoff_datetime  passenger_count  trip_time_in_secs  \\\n",
       "count                846945    846945.000000       8.469450e+05   \n",
       "unique               686957              NaN                NaN   \n",
       "top     2013-01-20 01:03:00              NaN                NaN   \n",
       "freq                      9              NaN                NaN   \n",
       "first   2013-01-01 00:05:00              NaN                NaN   \n",
       "last    2014-01-01 00:22:26              NaN                NaN   \n",
       "mean                    NaN         1.710272       8.125239e+02   \n",
       "std                     NaN         1.375266       1.609831e+04   \n",
       "min                     NaN         0.000000      -1.000000e+01   \n",
       "25%                     NaN         1.000000       3.610000e+02   \n",
       "50%                     NaN         1.000000       6.000000e+02   \n",
       "75%                     NaN         2.000000       9.600000e+02   \n",
       "max                     NaN         6.000000       4.294796e+06   \n",
       "\n",
       "        trip_distance  pickup_longitude  pickup_latitude  dropoff_longitude  \\\n",
       "count    8.469450e+05     846945.000000    846945.000000      846945.000000   \n",
       "unique            NaN               NaN              NaN                NaN   \n",
       "top               NaN               NaN              NaN                NaN   \n",
       "freq              NaN               NaN              NaN                NaN   \n",
       "first             NaN               NaN              NaN                NaN   \n",
       "last              NaN               NaN              NaN                NaN   \n",
       "mean     9.958211e+00        -73.975155        40.750490         -73.974197   \n",
       "std      6.525205e+03          0.035142         0.027224           0.033453   \n",
       "min      0.000000e+00        -74.098305        40.009911         -74.099998   \n",
       "25%      1.050000e+00        -73.992371        40.736031         -73.991570   \n",
       "50%      1.800000e+00        -73.982094        40.752975         -73.980614   \n",
       "75%      3.200000e+00        -73.968048        40.767460         -73.965157   \n",
       "max      6.005123e+06        -73.028473        40.996132         -73.027061   \n",
       "\n",
       "        dropoff_latitude  \n",
       "count      846945.000000  \n",
       "unique               NaN  \n",
       "top                  NaN  \n",
       "freq                 NaN  \n",
       "first                NaN  \n",
       "last                 NaN  \n",
       "mean           40.750967  \n",
       "std             0.030766  \n",
       "min            40.009911  \n",
       "25%            40.735207  \n",
       "50%            40.753597  \n",
       "75%            40.768227  \n",
       "max            40.998592  "
      ]
     },
     "execution_count": 8,
     "metadata": {},
     "output_type": "execute_result"
    }
   ],
   "source": [
    "data.describe(include='all') # numeric statistics + categorical variable frequencies"
   ]
  },
  {
   "cell_type": "code",
   "execution_count": 32,
   "metadata": {},
   "outputs": [
    {
     "data": {
      "text/plain": [
       "CMT    424678\n",
       "VTS    422267\n",
       "Name: vendor_id, dtype: int64"
      ]
     },
     "execution_count": 32,
     "metadata": {},
     "output_type": "execute_result"
    }
   ],
   "source": [
    "data.vendor_id.value_counts() # categorical variable (vendor_id) frequencies"
   ]
  },
  {
   "cell_type": "code",
   "execution_count": 33,
   "metadata": {},
   "outputs": [
    {
     "data": {
      "text/plain": [
       "N    414599\n",
       "Y      9978\n",
       "Name: store_and_fwd_flag, dtype: int64"
      ]
     },
     "execution_count": 33,
     "metadata": {},
     "output_type": "execute_result"
    }
   ],
   "source": [
    "data.store_and_fwd_flag.value_counts() # categorical variable (store_and_fwd_flag) frequencies"
   ]
  },
  {
   "cell_type": "code",
   "execution_count": null,
   "metadata": {},
   "outputs": [],
   "source": []
  },
  {
   "cell_type": "markdown",
   "metadata": {},
   "source": [
    "Get the actual coordinates: four DataFrame columns\n",
    "These four variables are all Series objects:"
   ]
  },
  {
   "cell_type": "code",
   "execution_count": 11,
   "metadata": {
    "collapsed": true
   },
   "outputs": [],
   "source": [
    "p_lng = data.pickup_longitude\n",
    "p_lat = data.pickup_latitude\n",
    "d_lng = data.dropoff_longitude\n",
    "d_lat = data.dropoff_latitude"
   ]
  },
  {
   "cell_type": "code",
   "execution_count": 12,
   "metadata": {},
   "outputs": [
    {
     "data": {
      "text/plain": [
       "0   -73.955925\n",
       "1   -74.005501\n",
       "2   -73.969955\n",
       "3   -73.991432\n",
       "4   -73.966225\n",
       "Name: pickup_longitude, dtype: float64"
      ]
     },
     "execution_count": 12,
     "metadata": {},
     "output_type": "execute_result"
    }
   ],
   "source": [
    "# a Series is an indexed list of values.\n",
    "p_lng.head()"
   ]
  },
  {
   "cell_type": "code",
   "execution_count": null,
   "metadata": {
    "collapsed": true
   },
   "outputs": [],
   "source": []
  },
  {
   "cell_type": "code",
   "execution_count": 13,
   "metadata": {
    "collapsed": true
   },
   "outputs": [],
   "source": [
    "# Get the coordinates of points in pixels from geographical coordinates.\n",
    "def lat_lng_to_pixels(lat, lng):\n",
    "    lat_rad = lat * np.pi / 180.0\n",
    "    lat_rad = np.log(np.tan((lat_rad + np.pi / 2.0) / 2.0))\n",
    "    x = 100 * (lng + 180.0) / 360.0\n",
    "    y = 100 * (lat_rad - np.pi) / (2.0 * np.pi)\n",
    "    return (x, y)"
   ]
  },
  {
   "cell_type": "code",
   "execution_count": null,
   "metadata": {
    "collapsed": true
   },
   "outputs": [],
   "source": []
  },
  {
   "cell_type": "code",
   "execution_count": 14,
   "metadata": {
    "collapsed": true
   },
   "outputs": [
    {
     "data": {
      "text/plain": [
       "0   -37.572749\n",
       "1   -37.586007\n",
       "2   -37.566187\n",
       "3   -37.582580\n",
       "4   -37.575746\n",
       "Name: pickup_latitude, dtype: float64"
      ]
     },
     "execution_count": 14,
     "metadata": {},
     "output_type": "execute_result"
    }
   ],
   "source": [
    "# Get pickup coordinates from pickup latitude and longitude\n",
    "px, py = lat_lng_to_pixels(p_lat, p_lng)\n",
    "py.head()"
   ]
  },
  {
   "cell_type": "markdown",
   "metadata": {},
   "source": [
    "Display a scatter plot of pickup locations\n",
    "Matplotlib scatter function makes a scatter plot of x vs y, where x and y are sequence like objects of the same\n",
    "length.\n",
    "Documentation: http://matplotlib.org/api/pyplot_api.html#matplotlib.pyplot.scatter\n",
    "(http://matplotlib.org/api/pyplot_api.html#matplotlib.pyplot.scatter)"
   ]
  },
  {
   "cell_type": "code",
   "execution_count": 15,
   "metadata": {},
   "outputs": [
    {
     "data": {
      "text/plain": [
       "<matplotlib.collections.PathCollection at 0x10d117a58>"
      ]
     },
     "execution_count": 15,
     "metadata": {},
     "output_type": "execute_result"
    },
    {
     "data": {
      "image/png": "[encoded data removed]",
      "text/plain": [
       "<matplotlib.figure.Figure at 0x117ab0240>"
      ]
     },
     "metadata": {},
     "output_type": "display_data"
    }
   ],
   "source": [
    "plt.scatter(px, py) # a scatter plot of pickup locations"
   ]
  },
  {
   "cell_type": "code",
   "execution_count": null,
   "metadata": {
    "collapsed": true
   },
   "outputs": [],
   "source": []
  },
  {
   "cell_type": "markdown",
   "metadata": {},
   "source": [
    "### Customize our plot:\n",
    "- Make markers smaller\n",
    "- Make fewer points by making some points transparent\n",
    "- Zoom in around Manhattan\n",
    "- Make figure bigger\n",
    "- Don't display the axes\n",
    "\n",
    "plt or matplotlib.pyplot is a collection of command style functions. Each pyplot function makes some change to\n",
    "a figure: e.g., creates a figure, creates a plotting area in a figure, plots some lines in a plotting area, decorates\n",
    "the plot with labels, etc. ..."
   ]
  },
  {
   "cell_type": "code",
   "execution_count": 28,
   "metadata": {
    "collapsed": true
   },
   "outputs": [
    {
     "data": {
      "text/plain": [
       "(29.399999999999999,\n",
       " 29.550000000000001,\n",
       " -37.630000000000003,\n",
       " -37.539999999999999)"
      ]
     },
     "execution_count": 28,
     "metadata": {},
     "output_type": "execute_result"
    },
    {
     "data": {
      "image/png": "[encoded data removed]",
      "text/plain": [
       "<matplotlib.figure.Figure at 0x109e186d8>"
      ]
     },
     "metadata": {},
     "output_type": "display_data"
    }
   ],
   "source": [
    "# Specify the figure size\n",
    "plt.figure(figsize=(8, 6))\n",
    "# s argument is used to make the marker size smaller\n",
    "# alpha specifies opacity\n",
    "plt.scatter(px, py, s=.1, alpha=0.03)\n",
    "# equal aspect ratio\n",
    "plt.axis('equal')\n",
    "# zoom in\n",
    "plt.xlim(29.40, 29.55)\n",
    "plt.ylim(-37.63, -37.54)\n",
    "# remove the axes\n",
    "plt.axis('off')"
   ]
  },
  {
   "cell_type": "markdown",
   "metadata": {},
   "source": [
    "### A Further Attempt\n",
    "\n",
    "I try to color the different vendors to figure out if they focus in different areas to pick up users."
   ]
  },
  {
   "cell_type": "code",
   "execution_count": 29,
   "metadata": {
    "collapsed": true
   },
   "outputs": [
    {
     "data": {
      "image/png": "[encoded data removed]",
      "text/plain": [
       "<matplotlib.figure.Figure at 0x11456d6d8>"
      ]
     },
     "metadata": {},
     "output_type": "display_data"
    }
   ],
   "source": [
    "colors = {'CMT':'red', 'VTS':'blue'}\n",
    "\n",
    "# Specify the figure size\n",
    "plt.figure(figsize=(10, 8))\n",
    "# s argument is used to make the marker size smaller\n",
    "# alpha specifies opacity and color by vendors\n",
    "plt.scatter(px, py, s=.1, alpha=0.03, c=data.vendor_id.apply(lambda x: colors[x]))\n",
    "# equal aspect ratio\n",
    "plt.axis('equal')\n",
    "# zoom in\n",
    "plt.xlim(29.40, 29.55)\n",
    "plt.ylim(-37.63, -37.54)\n",
    "# remove the axes\n",
    "plt.axis('off')\n",
    "\n",
    "plt.show()"
   ]
  },
  {
   "cell_type": "markdown",
   "metadata": {},
   "source": [
    "### Insights from the plot\n",
    "\n",
    "The blue dots (for VTS) and red dots (for CMT) seem to mix together and we really can't seperate them from each other. No matter the vendor is CMT or VTS, they focus on the same areas to pick up users.\n",
    "So vendor doesn't matter, it's all about location.\n",
    "The easiest place to find a cab is around central park, especially in midtown (around Times Square) and downtown of Manhattan."
   ]
  },
  {
   "cell_type": "markdown",
   "metadata": {},
   "source": [
    "## Display a histogram of the trip distances.\n",
    "pandas Series hist() draws histogram of the input Series using Matplotlib: documentation\n",
    "(http://pandas.pydata.org/pandas-docs/stable/generated/pandas.Series.hist.html).\n",
    "\n",
    "Manhattan Island is 13.4 miles long and 2.3 miles wide.\n",
    "\n",
    "What is a histogram? (https://statistics.laerd.com/statistical-guides/understanding-histograms.php)\n",
    "numpy linspace() returns evenly spaced numbers over a specified interval.\n",
    "Parameters: start - interval start; stop - interval stop; num - number of numbers. numpy linspace()\n",
    "documentation (https://docs.scipy.org/doc/numpy/reference/generated/numpy.linspace.html)\n"
   ]
  },
  {
   "cell_type": "code",
   "execution_count": 18,
   "metadata": {
    "collapsed": true
   },
   "outputs": [
    {
     "data": {
      "text/plain": [
       "array([  0.        ,   0.1010101 ,   0.2020202 ,   0.3030303 ,\n",
       "         0.4040404 ,   0.50505051,   0.60606061,   0.70707071,\n",
       "         0.80808081,   0.90909091,   1.01010101,   1.11111111,\n",
       "         1.21212121,   1.31313131,   1.41414141,   1.51515152,\n",
       "         1.61616162,   1.71717172,   1.81818182,   1.91919192,\n",
       "         2.02020202,   2.12121212,   2.22222222,   2.32323232,\n",
       "         2.42424242,   2.52525253,   2.62626263,   2.72727273,\n",
       "         2.82828283,   2.92929293,   3.03030303,   3.13131313,\n",
       "         3.23232323,   3.33333333,   3.43434343,   3.53535354,\n",
       "         3.63636364,   3.73737374,   3.83838384,   3.93939394,\n",
       "         4.04040404,   4.14141414,   4.24242424,   4.34343434,\n",
       "         4.44444444,   4.54545455,   4.64646465,   4.74747475,\n",
       "         4.84848485,   4.94949495,   5.05050505,   5.15151515,\n",
       "         5.25252525,   5.35353535,   5.45454545,   5.55555556,\n",
       "         5.65656566,   5.75757576,   5.85858586,   5.95959596,\n",
       "         6.06060606,   6.16161616,   6.26262626,   6.36363636,\n",
       "         6.46464646,   6.56565657,   6.66666667,   6.76767677,\n",
       "         6.86868687,   6.96969697,   7.07070707,   7.17171717,\n",
       "         7.27272727,   7.37373737,   7.47474747,   7.57575758,\n",
       "         7.67676768,   7.77777778,   7.87878788,   7.97979798,\n",
       "         8.08080808,   8.18181818,   8.28282828,   8.38383838,\n",
       "         8.48484848,   8.58585859,   8.68686869,   8.78787879,\n",
       "         8.88888889,   8.98989899,   9.09090909,   9.19191919,\n",
       "         9.29292929,   9.39393939,   9.49494949,   9.5959596 ,\n",
       "         9.6969697 ,   9.7979798 ,   9.8989899 ,  10.        ])"
      ]
     },
     "execution_count": 18,
     "metadata": {},
     "output_type": "execute_result"
    }
   ],
   "source": [
    "bin_array = np.linspace(start=0., stop=10., num=100)\n",
    "bin_array"
   ]
  },
  {
   "cell_type": "code",
   "execution_count": 19,
   "metadata": {
    "collapsed": true
   },
   "outputs": [
    {
     "data": {
      "text/plain": [
       "<matplotlib.axes._subplots.AxesSubplot at 0x114576ef0>"
      ]
     },
     "execution_count": 19,
     "metadata": {},
     "output_type": "execute_result"
    },
    {
     "data": {
      "image/png": "[encoded data removed]",
      "text/plain": [
       "<matplotlib.figure.Figure at 0x108223fd0>"
      ]
     },
     "metadata": {},
     "output_type": "display_data"
    }
   ],
   "source": [
    "data.trip_distance.hist(bins=bin_array)"
   ]
  },
  {
   "cell_type": "markdown",
   "metadata": {},
   "source": [
    "\n",
    "### Insights from the plot:\n",
    "\n",
    "From the histogram we can see that the most common trip distance is around 1 mile."
   ]
  },
  {
   "cell_type": "markdown",
   "metadata": {},
   "source": [
    "## Fare CSV"
   ]
  },
  {
   "cell_type": "code",
   "execution_count": 20,
   "metadata": {},
   "outputs": [],
   "source": [
    "fare = pd.read_csv('data/nyc_fare.csv') # read data"
   ]
  },
  {
   "cell_type": "code",
   "execution_count": 21,
   "metadata": {},
   "outputs": [
    {
     "data": {
      "text/html": [
       "<div>\n",
       "<style>\n",
       "    .dataframe thead tr:only-child th {\n",
       "        text-align: right;\n",
       "    }\n",
       "\n",
       "    .dataframe thead th {\n",
       "        text-align: left;\n",
       "    }\n",
       "\n",
       "    .dataframe tbody tr th {\n",
       "        vertical-align: top;\n",
       "    }\n",
       "</style>\n",
       "<table border=\"1\" class=\"dataframe\">\n",
       "  <thead>\n",
       "    <tr style=\"text-align: right;\">\n",
       "      <th></th>\n",
       "      <th>medallion</th>\n",
       "      <th>hack_license</th>\n",
       "      <th>vendor_id</th>\n",
       "      <th>pickup_datetime</th>\n",
       "      <th>payment_type</th>\n",
       "      <th>fare_amount</th>\n",
       "      <th>surcharge</th>\n",
       "      <th>mta_tax</th>\n",
       "      <th>tip_amount</th>\n",
       "      <th>tolls_amount</th>\n",
       "      <th>total_amount</th>\n",
       "    </tr>\n",
       "  </thead>\n",
       "  <tbody>\n",
       "    <tr>\n",
       "      <th>0</th>\n",
       "      <td>76942C3205E17D7E7FE5A9F709D16434</td>\n",
       "      <td>25BA06A87905667AA1FE5990E33F0E2E</td>\n",
       "      <td>VTS</td>\n",
       "      <td>2013-01-01 00:00:00</td>\n",
       "      <td>CSH</td>\n",
       "      <td>5.0</td>\n",
       "      <td>0.5</td>\n",
       "      <td>0.5</td>\n",
       "      <td>0.0</td>\n",
       "      <td>0.0</td>\n",
       "      <td>6.0</td>\n",
       "    </tr>\n",
       "    <tr>\n",
       "      <th>1</th>\n",
       "      <td>517C6B330DBB3F055D007B07512628B3</td>\n",
       "      <td>2C19FBEE1A6E05612EFE4C958C14BC7F</td>\n",
       "      <td>VTS</td>\n",
       "      <td>2013-01-01 00:05:00</td>\n",
       "      <td>CRD</td>\n",
       "      <td>13.5</td>\n",
       "      <td>0.5</td>\n",
       "      <td>0.5</td>\n",
       "      <td>2.8</td>\n",
       "      <td>0.0</td>\n",
       "      <td>17.3</td>\n",
       "    </tr>\n",
       "    <tr>\n",
       "      <th>2</th>\n",
       "      <td>ED15611F168E41B33619C83D900FE266</td>\n",
       "      <td>754AEBD7C80DA17BA1D81D89FB6F4D1D</td>\n",
       "      <td>CMT</td>\n",
       "      <td>2013-01-01 00:05:52</td>\n",
       "      <td>CSH</td>\n",
       "      <td>7.5</td>\n",
       "      <td>0.5</td>\n",
       "      <td>0.5</td>\n",
       "      <td>0.0</td>\n",
       "      <td>0.0</td>\n",
       "      <td>8.5</td>\n",
       "    </tr>\n",
       "    <tr>\n",
       "      <th>3</th>\n",
       "      <td>B33E704CC189E80C9671230C16527BBC</td>\n",
       "      <td>6789C77E1CBDC850C450D72204702976</td>\n",
       "      <td>VTS</td>\n",
       "      <td>2013-01-01 00:06:00</td>\n",
       "      <td>CSH</td>\n",
       "      <td>2.5</td>\n",
       "      <td>0.5</td>\n",
       "      <td>0.5</td>\n",
       "      <td>0.0</td>\n",
       "      <td>0.0</td>\n",
       "      <td>3.5</td>\n",
       "    </tr>\n",
       "    <tr>\n",
       "      <th>4</th>\n",
       "      <td>BD5CC6A22D05EB2D5C8235526A2A4276</td>\n",
       "      <td>5E8F2C93B5220A922699FEBAFC2F7A54</td>\n",
       "      <td>VTS</td>\n",
       "      <td>2013-01-01 00:06:00</td>\n",
       "      <td>CSH</td>\n",
       "      <td>6.5</td>\n",
       "      <td>0.5</td>\n",
       "      <td>0.5</td>\n",
       "      <td>0.0</td>\n",
       "      <td>0.0</td>\n",
       "      <td>7.5</td>\n",
       "    </tr>\n",
       "  </tbody>\n",
       "</table>\n",
       "</div>"
      ],
      "text/plain": [
       "                          medallion                      hack_license  \\\n",
       "0  76942C3205E17D7E7FE5A9F709D16434  25BA06A87905667AA1FE5990E33F0E2E   \n",
       "1  517C6B330DBB3F055D007B07512628B3  2C19FBEE1A6E05612EFE4C958C14BC7F   \n",
       "2  ED15611F168E41B33619C83D900FE266  754AEBD7C80DA17BA1D81D89FB6F4D1D   \n",
       "3  B33E704CC189E80C9671230C16527BBC  6789C77E1CBDC850C450D72204702976   \n",
       "4  BD5CC6A22D05EB2D5C8235526A2A4276  5E8F2C93B5220A922699FEBAFC2F7A54   \n",
       "\n",
       "  vendor_id      pickup_datetime payment_type  fare_amount  surcharge  \\\n",
       "0       VTS  2013-01-01 00:00:00          CSH          5.0        0.5   \n",
       "1       VTS  2013-01-01 00:05:00          CRD         13.5        0.5   \n",
       "2       CMT  2013-01-01 00:05:52          CSH          7.5        0.5   \n",
       "3       VTS  2013-01-01 00:06:00          CSH          2.5        0.5   \n",
       "4       VTS  2013-01-01 00:06:00          CSH          6.5        0.5   \n",
       "\n",
       "   mta_tax  tip_amount  tolls_amount  total_amount  \n",
       "0      0.5         0.0           0.0           6.0  \n",
       "1      0.5         2.8           0.0          17.3  \n",
       "2      0.5         0.0           0.0           8.5  \n",
       "3      0.5         0.0           0.0           3.5  \n",
       "4      0.5         0.0           0.0           7.5  "
      ]
     },
     "execution_count": 21,
     "metadata": {},
     "output_type": "execute_result"
    }
   ],
   "source": [
    "fare.head()"
   ]
  },
  {
   "cell_type": "code",
   "execution_count": 22,
   "metadata": {},
   "outputs": [
    {
     "data": {
      "text/plain": [
       "count    846945.000000\n",
       "mean         14.587073\n",
       "std          11.380950\n",
       "min         -52.500000\n",
       "25%           8.000000\n",
       "50%          11.000000\n",
       "75%          16.500000\n",
       "max         620.010000\n",
       "Name: total_amount, dtype: float64"
      ]
     },
     "execution_count": 22,
     "metadata": {},
     "output_type": "execute_result"
    }
   ],
   "source": [
    "fare.total_amount.describe() # see the numeric statistics of total_amount"
   ]
  },
  {
   "cell_type": "code",
   "execution_count": 30,
   "metadata": {},
   "outputs": [
    {
     "data": {
      "text/plain": [
       "<matplotlib.axes._subplots.AxesSubplot at 0x1145882e8>"
      ]
     },
     "execution_count": 30,
     "metadata": {},
     "output_type": "execute_result"
    },
    {
     "data": {
      "image/png": "[encoded data removed]",
      "text/plain": [
       "<matplotlib.figure.Figure at 0x118ba9ef0>"
      ]
     },
     "metadata": {},
     "output_type": "display_data"
    }
   ],
   "source": [
    "bin_array = np.linspace(start=0., stop=620., num=100) # set bin between 0-620(max)\n",
    "fare.total_amount.hist(bins=bin_array) # first hist"
   ]
  },
  {
   "cell_type": "markdown",
   "metadata": {},
   "source": [
    "from the above gragh, I see that the data are concentrated between 0-100, \n",
    "so I just try to set bin between this interval."
   ]
  },
  {
   "cell_type": "code",
   "execution_count": 31,
   "metadata": {},
   "outputs": [
    {
     "data": {
      "text/plain": [
       "<matplotlib.axes._subplots.AxesSubplot at 0x108c40be0>"
      ]
     },
     "execution_count": 31,
     "metadata": {},
     "output_type": "execute_result"
    },
    {
     "data": {
      "image/png": "[encoded data removed]",
      "text/plain": [
       "<matplotlib.figure.Figure at 0x108c031d0>"
      ]
     },
     "metadata": {},
     "output_type": "display_data"
    }
   ],
   "source": [
    "bin_array = np.linspace(start=0., stop=100., num=100)\n",
    "fare.total_amount.hist(bins=bin_array) # second hist\n"
   ]
  },
  {
   "cell_type": "markdown",
   "metadata": {},
   "source": [
    "### Insights from the plot:\n",
    "\n",
    "Altough the max fare amount could as high as 620, \n",
    "most of the fare concentrate between 0-100, especially bewteen 5-40.\n",
    "The most frequent face total amount is around 10."
   ]
  },
  {
   "cell_type": "markdown",
   "metadata": {},
   "source": [
    "## Filtering with boolean indexing\n",
    "### Select long rides"
   ]
  },
  {
   "cell_type": "code",
   "execution_count": 25,
   "metadata": {},
   "outputs": [
    {
     "data": {
      "text/html": [
       "<div>\n",
       "<style>\n",
       "    .dataframe thead tr:only-child th {\n",
       "        text-align: right;\n",
       "    }\n",
       "\n",
       "    .dataframe thead th {\n",
       "        text-align: left;\n",
       "    }\n",
       "\n",
       "    .dataframe tbody tr th {\n",
       "        vertical-align: top;\n",
       "    }\n",
       "</style>\n",
       "<table border=\"1\" class=\"dataframe\">\n",
       "  <thead>\n",
       "    <tr style=\"text-align: right;\">\n",
       "      <th></th>\n",
       "      <th>medallion</th>\n",
       "      <th>hack_license</th>\n",
       "      <th>vendor_id</th>\n",
       "      <th>rate_code</th>\n",
       "      <th>store_and_fwd_flag</th>\n",
       "      <th>pickup_datetime</th>\n",
       "      <th>dropoff_datetime</th>\n",
       "      <th>passenger_count</th>\n",
       "      <th>trip_time_in_secs</th>\n",
       "      <th>trip_distance</th>\n",
       "      <th>pickup_longitude</th>\n",
       "      <th>pickup_latitude</th>\n",
       "      <th>dropoff_longitude</th>\n",
       "      <th>dropoff_latitude</th>\n",
       "    </tr>\n",
       "  </thead>\n",
       "  <tbody>\n",
       "    <tr>\n",
       "      <th>504497</th>\n",
       "      <td>7237EC7ABD6114EDDC87A3AA846F8418</td>\n",
       "      <td>D52502537E2DF62C9BFFECF5A387E7E9</td>\n",
       "      <td>CMT</td>\n",
       "      <td>1</td>\n",
       "      <td>N</td>\n",
       "      <td>2013-08-02 11:22:31</td>\n",
       "      <td>2013-08-02 11:33:03</td>\n",
       "      <td>1</td>\n",
       "      <td>631</td>\n",
       "      <td>6005123.0</td>\n",
       "      <td>-73.997467</td>\n",
       "      <td>40.736397</td>\n",
       "      <td>-73.991882</td>\n",
       "      <td>40.764629</td>\n",
       "    </tr>\n",
       "    <tr>\n",
       "      <th>507107</th>\n",
       "      <td>50DA72F510E2F84A42712E13744FAC7B</td>\n",
       "      <td>EA9D03A766C1D32A6668FFF0C1EB4E4B</td>\n",
       "      <td>CMT</td>\n",
       "      <td>1</td>\n",
       "      <td>N</td>\n",
       "      <td>2013-08-04 18:42:17</td>\n",
       "      <td>2013-08-04 20:37:19</td>\n",
       "      <td>3</td>\n",
       "      <td>4290965</td>\n",
       "      <td>181.8</td>\n",
       "      <td>-73.978020</td>\n",
       "      <td>40.765167</td>\n",
       "      <td>-73.815041</td>\n",
       "      <td>40.730076</td>\n",
       "    </tr>\n",
       "    <tr>\n",
       "      <th>548988</th>\n",
       "      <td>A978A0AAE9B2CFEE310FACD97A09C319</td>\n",
       "      <td>CE56A27F53ABF411094B6CD708BFBA96</td>\n",
       "      <td>CMT</td>\n",
       "      <td>1</td>\n",
       "      <td>N</td>\n",
       "      <td>2013-08-24 17:03:27</td>\n",
       "      <td>2013-08-24 17:03:29</td>\n",
       "      <td>1</td>\n",
       "      <td>1</td>\n",
       "      <td>442.0</td>\n",
       "      <td>-73.993896</td>\n",
       "      <td>40.702644</td>\n",
       "      <td>-73.993874</td>\n",
       "      <td>40.702637</td>\n",
       "    </tr>\n",
       "    <tr>\n",
       "      <th>558665</th>\n",
       "      <td>5A5C516A820FE476E9D3E14101B669AC</td>\n",
       "      <td>C24585AA866FC76A4E09A05F55DC7E54</td>\n",
       "      <td>CMT</td>\n",
       "      <td>2</td>\n",
       "      <td>N</td>\n",
       "      <td>2013-08-29 10:01:40</td>\n",
       "      <td>2013-08-29 11:52:20</td>\n",
       "      <td>1</td>\n",
       "      <td>6640</td>\n",
       "      <td>164.4</td>\n",
       "      <td>-73.791534</td>\n",
       "      <td>40.661026</td>\n",
       "      <td>-73.983734</td>\n",
       "      <td>40.765778</td>\n",
       "    </tr>\n",
       "  </tbody>\n",
       "</table>\n",
       "</div>"
      ],
      "text/plain": [
       "                               medallion                      hack_license  \\\n",
       "504497  7237EC7ABD6114EDDC87A3AA846F8418  D52502537E2DF62C9BFFECF5A387E7E9   \n",
       "507107  50DA72F510E2F84A42712E13744FAC7B  EA9D03A766C1D32A6668FFF0C1EB4E4B   \n",
       "548988  A978A0AAE9B2CFEE310FACD97A09C319  CE56A27F53ABF411094B6CD708BFBA96   \n",
       "558665  5A5C516A820FE476E9D3E14101B669AC  C24585AA866FC76A4E09A05F55DC7E54   \n",
       "\n",
       "       vendor_id  rate_code store_and_fwd_flag     pickup_datetime  \\\n",
       "504497       CMT          1                  N 2013-08-02 11:22:31   \n",
       "507107       CMT          1                  N 2013-08-04 18:42:17   \n",
       "548988       CMT          1                  N 2013-08-24 17:03:27   \n",
       "558665       CMT          2                  N 2013-08-29 10:01:40   \n",
       "\n",
       "          dropoff_datetime  passenger_count  trip_time_in_secs  trip_distance  \\\n",
       "504497 2013-08-02 11:33:03                1                631      6005123.0   \n",
       "507107 2013-08-04 20:37:19                3            4290965          181.8   \n",
       "548988 2013-08-24 17:03:29                1                  1          442.0   \n",
       "558665 2013-08-29 11:52:20                1               6640          164.4   \n",
       "\n",
       "        pickup_longitude  pickup_latitude  dropoff_longitude  dropoff_latitude  \n",
       "504497        -73.997467        40.736397         -73.991882         40.764629  \n",
       "507107        -73.978020        40.765167         -73.815041         40.730076  \n",
       "548988        -73.993896        40.702644         -73.993874         40.702637  \n",
       "558665        -73.791534        40.661026         -73.983734         40.765778  "
      ]
     },
     "execution_count": 25,
     "metadata": {},
     "output_type": "execute_result"
    }
   ],
   "source": [
    "data.loc[data.trip_distance > 100]"
   ]
  },
  {
   "cell_type": "code",
   "execution_count": 26,
   "metadata": {},
   "outputs": [
    {
     "data": {
      "text/plain": [
       "4"
      ]
     },
     "execution_count": 26,
     "metadata": {},
     "output_type": "execute_result"
    }
   ],
   "source": [
    "len(data.loc[data.trip_distance > 100])"
   ]
  },
  {
   "cell_type": "markdown",
   "metadata": {},
   "source": [
    "### Answer:\n",
    "So there are four unusually long trips."
   ]
  },
  {
   "cell_type": "code",
   "execution_count": null,
   "metadata": {
    "collapsed": true
   },
   "outputs": [],
   "source": [
    "#End"
   ]
  }
 ],
 "metadata": {
  "kernelspec": {
   "display_name": "Python 3",
   "language": "python",
   "name": "python3"
  },
  "language_info": {
   "codemirror_mode": {
    "name": "ipython",
    "version": 3
   },
   "file_extension": ".py",
   "mimetype": "text/x-python",
   "name": "python",
   "nbconvert_exporter": "python",
   "pygments_lexer": "ipython3",
   "version": "3.6.3"
  }
 },
 "nbformat": 4,
 "nbformat_minor": 2
}
