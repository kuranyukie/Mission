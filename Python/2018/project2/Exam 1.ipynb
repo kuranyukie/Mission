{
 "cells": [
  {
   "cell_type": "markdown",
   "metadata": {},
   "source": [
    "# Exam 2 \n",
    "Remember to save this with your name.\n",
    "You have two hours.\n"
   ]
  },
  {
   "cell_type": "code",
   "execution_count": 2,
   "metadata": {
    "collapsed": true
   },
   "outputs": [],
   "source": [
    "# You will load Taxi data you did for the Project, both  data sets \n",
    "# the fare and data.\n",
    "\n",
    "import numpy as np \n",
    "import pandas as pd \n",
    "import matplotlib.pyplot as plt \n",
    "%matplotlib inline\n",
    "#%cd <insert the path to your Taxi Data>\n"
   ]
  },
  {
   "cell_type": "markdown",
   "metadata": {},
   "source": [
    "### Make sure that you did not use parsed datetimes. \n",
    "Omit this from your read_csv... \n",
    "parse_dates=['pickup_datetime', 'dropoff_datetime']. If you include this, it will cause issues combining data."
   ]
  },
  {
   "cell_type": "code",
   "execution_count": 3,
   "metadata": {
    "collapsed": true
   },
   "outputs": [],
   "source": [
    "#Load the nyc_data and the nyc_fare. \n",
    "\n",
    "nyc_data = pd.read_csv('data/nyc_data.csv')\n",
    "nyc_fare = pd.read_csv('data/nyc_fare.csv')"
   ]
  },
  {
   "cell_type": "code",
   "execution_count": 4,
   "metadata": {
    "collapsed": true
   },
   "outputs": [
    {
     "name": "stdout",
     "output_type": "stream",
     "text": [
      "<class 'pandas.core.frame.DataFrame'>\n",
      "RangeIndex: 846945 entries, 0 to 846944\n",
      "Data columns (total 14 columns):\n",
      "medallion             846945 non-null object\n",
      "hack_license          846945 non-null object\n",
      "vendor_id             846945 non-null object\n",
      "rate_code             846945 non-null int64\n",
      "store_and_fwd_flag    424577 non-null object\n",
      "pickup_datetime       846945 non-null object\n",
      "dropoff_datetime      846945 non-null object\n",
      "passenger_count       846945 non-null int64\n",
      "trip_time_in_secs     846945 non-null int64\n",
      "trip_distance         846945 non-null float64\n",
      "pickup_longitude      846945 non-null float64\n",
      "pickup_latitude       846945 non-null float64\n",
      "dropoff_longitude     846945 non-null float64\n",
      "dropoff_latitude      846945 non-null float64\n",
      "dtypes: float64(5), int64(3), object(6)\n",
      "memory usage: 90.5+ MB\n"
     ]
    }
   ],
   "source": [
    "#show info on nyc_data\n",
    "nyc_data.info()"
   ]
  },
  {
   "cell_type": "code",
   "execution_count": null,
   "metadata": {
    "collapsed": true
   },
   "outputs": [],
   "source": [
    "# let's also get the fares"
   ]
  },
  {
   "cell_type": "code",
   "execution_count": 6,
   "metadata": {
    "collapsed": true,
    "scrolled": true
   },
   "outputs": [
    {
     "name": "stdout",
     "output_type": "stream",
     "text": [
      "<class 'pandas.core.frame.DataFrame'>\n",
      "RangeIndex: 846945 entries, 0 to 846944\n",
      "Data columns (total 11 columns):\n",
      "medallion          846945 non-null object\n",
      "hack_license       846945 non-null object\n",
      "vendor_id          846945 non-null object\n",
      "pickup_datetime    846945 non-null object\n",
      "payment_type       846945 non-null object\n",
      "fare_amount        846945 non-null float64\n",
      "surcharge          846945 non-null float64\n",
      "mta_tax            846945 non-null float64\n",
      "tip_amount         846945 non-null float64\n",
      "tolls_amount       846945 non-null float64\n",
      "total_amount       846945 non-null float64\n",
      "dtypes: float64(6), object(5)\n",
      "memory usage: 71.1+ MB\n"
     ]
    }
   ],
   "source": [
    "# Show info on nyc_fare\n",
    "nyc_fare.info()"
   ]
  },
  {
   "cell_type": "markdown",
   "metadata": {},
   "source": [
    "# Question 1\n",
    "#### In the project, we saw that \"total amount\" variable was very skewed; let us cap the variable at  at 92th percentile. \n",
    "- Part 1 . Use describe() to obtain the 92th percentile and insert this new variable. Call it total_amount_92pcnt_cap and insert is as a new column to the nyc_fare data set.\n",
    "- Part 2. How many negative 'total_fare' values are there? For this same variable, let us make all negative values 0, since negative values must be a data error.\n",
    "- Part 3. How many NaN's are in the fare data set? \n",
    "\n",
    "#### To display rows for the results (output), please use head() or tail(). Otherwise, the output makes the notebook ugly and unwieldy to navigate.\n",
    "\n",
    "#### Put your code in different cells because it's easier for you to debug and for me to read it.\n",
    "\n",
    "\n",
    "\n"
   ]
  },
  {
   "cell_type": "code",
   "execution_count": null,
   "metadata": {
    "collapsed": true
   },
   "outputs": [],
   "source": [
    "# - Part 1 \n",
    "# Steps\n",
    "# Begin by describing the statistics for the the nyc_fare dataframe \n",
    "# and retrieve the 92th percentile.\n",
    "# Cap every total_amount greater than 92% to the value of the 92%\n",
    "# percentile fare.\n",
    "# Create a column called total_amount_92pcnt_cap in the nyc_fare.\n",
    "# To be clear....\n",
    "# Capping the total_amount to 92% percentile values. \n",
    "# assign any total_amount  greater than the 92% percentile\n",
    "# to the 92th pecentile.  That's what capping means.\n",
    "# Hint... That means you want to keep all values < than he 92th percentile \n",
    "# AS THEY ARE. \n",
    "# \n",
    "# Use df.loc[] where appropriate. \n",
    "# Also you may want to use float(x) where x is the percentile value\n",
    "# \n"
   ]
  },
  {
   "cell_type": "code",
   "execution_count": 10,
   "metadata": {
    "collapsed": true
   },
   "outputs": [
    {
     "data": {
      "text/plain": [
       "0     6.0\n",
       "1    17.3\n",
       "2     8.5\n",
       "3     3.5\n",
       "4     7.5\n",
       "Name: total_amount_92pcnt_cap, dtype: float64"
      ]
     },
     "execution_count": 10,
     "metadata": {},
     "output_type": "execute_result"
    }
   ],
   "source": [
    "# First you may wish to create a new column called total_amount_92pcnt_cap\n",
    "# and populate it.\n",
    "\n",
    "nyc_fare['total_amount_92pcnt_cap'] = nyc_fare['total_amount']\n",
    "nyc_fare['total_amount_92pcnt_cap'].head(5)"
   ]
  },
  {
   "cell_type": "code",
   "execution_count": 11,
   "metadata": {
    "collapsed": true
   },
   "outputs": [
    {
     "data": {
      "text/plain": [
       "count    846945.000000\n",
       "mean         14.587073\n",
       "std          11.380950\n",
       "min         -52.500000\n",
       "50%          11.000000\n",
       "90%          26.000000\n",
       "91%          27.600000\n",
       "92%          29.830000\n",
       "93%          32.330000\n",
       "94%          35.300000\n",
       "95%          38.500000\n",
       "96.0%        42.330000\n",
       "97.0%        47.760000\n",
       "98.0%        57.300000\n",
       "99.0%        63.000000\n",
       "max         620.010000\n",
       "Name: total_amount_92pcnt_cap, dtype: float64"
      ]
     },
     "execution_count": 11,
     "metadata": {},
     "output_type": "execute_result"
    }
   ],
   "source": [
    "#Find the percentiles and select 92% into a variable. Please display.\n",
    "nyc_fare.total_amount_92pcnt_cap.describe(percentiles=np.arange(.9,1,0.01))"
   ]
  },
  {
   "cell_type": "code",
   "execution_count": 12,
   "metadata": {},
   "outputs": [
    {
     "data": {
      "text/plain": [
       "29.829999999999998"
      ]
     },
     "execution_count": 12,
     "metadata": {},
     "output_type": "execute_result"
    }
   ],
   "source": [
    "total_amount_92pcnt = nyc_fare.total_amount_92pcnt_cap.describe(percentiles=np.arange(.9,1,0.01))['92%']\n",
    "total_amount_92pcnt"
   ]
  },
  {
   "cell_type": "code",
   "execution_count": 13,
   "metadata": {
    "collapsed": true
   },
   "outputs": [
    {
     "data": {
      "text/plain": [
       "39    36.50\n",
       "43    33.12\n",
       "52    35.00\n",
       "53    42.50\n",
       "85    60.60\n",
       "Name: total_amount_92pcnt_cap, dtype: float64"
      ]
     },
     "execution_count": 13,
     "metadata": {},
     "output_type": "execute_result"
    }
   ],
   "source": [
    "#Use a filter to determine the total_amount's > 92th percentile. Use head()\n",
    "# Show first 5 entries that should be capped. \n",
    "# for example 39th row is  36.50\n",
    "nyc_fare.loc[nyc_fare['total_amount_92pcnt_cap'] > total_amount_92pcnt,'total_amount_92pcnt_cap'].head(5)"
   ]
  },
  {
   "cell_type": "code",
   "execution_count": 14,
   "metadata": {
    "collapsed": true
   },
   "outputs": [],
   "source": [
    "#Change all the amounts above to the value you discovered for 92th percentile.\n",
    "nyc_fare.loc[nyc_fare['total_amount_92pcnt_cap'] > total_amount_92pcnt,'total_amount_92pcnt_cap'] = total_amount_92pcnt"
   ]
  },
  {
   "cell_type": "code",
   "execution_count": 16,
   "metadata": {
    "collapsed": true
   },
   "outputs": [
    {
     "data": {
      "text/plain": [
       "count    846945.000000\n",
       "mean         13.282548\n",
       "std           7.129708\n",
       "min         -52.500000\n",
       "50%          11.000000\n",
       "90%          26.000000\n",
       "91%          27.600000\n",
       "92%          29.830000\n",
       "93%          29.830000\n",
       "94%          29.830000\n",
       "max          29.830000\n",
       "Name: total_amount_92pcnt_cap, dtype: float64"
      ]
     },
     "execution_count": 16,
     "metadata": {},
     "output_type": "execute_result"
    }
   ],
   "source": [
    "# Check that what you got is correct. \n",
    "# Use describe or head(20) note that 92% and max are the same.\n",
    "nyc_fare.total_amount_92pcnt_cap.describe(percentiles=np.arange(.9,.95,0.01))"
   ]
  },
  {
   "cell_type": "code",
   "execution_count": null,
   "metadata": {
    "collapsed": true
   },
   "outputs": [],
   "source": []
  },
  {
   "cell_type": "markdown",
   "metadata": {},
   "source": [
    "#### Part 2 Hints:\n",
    "Test for negative total_amount i.e. amounts < 0. \n",
    "How many negatives are there?\n",
    "Change all of them to 0(positive). use inplace=True: to make the change permanent. \n"
   ]
  },
  {
   "cell_type": "code",
   "execution_count": 27,
   "metadata": {
    "collapsed": true
   },
   "outputs": [
    {
     "data": {
      "text/plain": [
       "count    17.000000\n",
       "mean     -7.823529\n",
       "std      12.160311\n",
       "min     -52.500000\n",
       "25%      -5.000000\n",
       "50%      -4.000000\n",
       "75%      -3.500000\n",
       "max      -3.000000\n",
       "Name: total_amount_92pcnt_cap, dtype: float64"
      ]
     },
     "execution_count": 27,
     "metadata": {},
     "output_type": "execute_result"
    }
   ],
   "source": [
    "# What are the number of negative values for nyc_fare ?\n",
    "nyc_fare.loc[nyc_fare['total_amount_92pcnt_cap'] < 0,'total_amount_92pcnt_cap'].describe()"
   ]
  },
  {
   "cell_type": "code",
   "execution_count": 28,
   "metadata": {},
   "outputs": [
    {
     "data": {
      "text/plain": [
       "17.0"
      ]
     },
     "execution_count": 28,
     "metadata": {},
     "output_type": "execute_result"
    }
   ],
   "source": [
    "nyc_fare.loc[nyc_fare['total_amount_92pcnt_cap'] < 0,'total_amount_92pcnt_cap'].describe()['count']\n",
    "\n",
    "# answer: There are 17 negative values."
   ]
  },
  {
   "cell_type": "code",
   "execution_count": 29,
   "metadata": {
    "collapsed": true
   },
   "outputs": [],
   "source": [
    "# For all the rows whose total_amount <0 convert the total_amount to 0\n",
    "nyc_fare.loc[nyc_fare['total_amount_92pcnt_cap'] < 0,'total_amount_92pcnt_cap'] = 0"
   ]
  },
  {
   "cell_type": "code",
   "execution_count": 30,
   "metadata": {},
   "outputs": [
    {
     "data": {
      "text/plain": [
       "count    846945.000000\n",
       "mean         13.282705\n",
       "std           7.129133\n",
       "min           0.000000\n",
       "25%           8.000000\n",
       "50%          11.000000\n",
       "75%          16.500000\n",
       "max          29.830000\n",
       "Name: total_amount_92pcnt_cap, dtype: float64"
      ]
     },
     "execution_count": 30,
     "metadata": {},
     "output_type": "execute_result"
    }
   ],
   "source": [
    "# Check my work is correct.\n",
    "nyc_fare.total_amount_92pcnt_cap.describe() # The min is now 0."
   ]
  },
  {
   "cell_type": "markdown",
   "metadata": {},
   "source": [
    "#### Part 3\n",
    "How many Nan's do we have in the dataframe ?"
   ]
  },
  {
   "cell_type": "code",
   "execution_count": 25,
   "metadata": {
    "collapsed": true
   },
   "outputs": [
    {
     "data": {
      "text/plain": [
       "medallion                  0\n",
       "hack_license               0\n",
       "vendor_id                  0\n",
       "pickup_datetime            0\n",
       "payment_type               0\n",
       "fare_amount                0\n",
       "surcharge                  0\n",
       "mta_tax                    0\n",
       "tip_amount                 0\n",
       "tolls_amount               0\n",
       "total_amount               0\n",
       "total_amount_92pcnt_cap    0\n",
       "dtype: int64"
      ]
     },
     "execution_count": 25,
     "metadata": {},
     "output_type": "execute_result"
    }
   ],
   "source": [
    "#Number of Nans\n",
    "nyc_fare.isnull().sum()\n",
    "\n",
    "# Answer: There are 0 NaN in the dataframe 'nyc_fare'."
   ]
  },
  {
   "cell_type": "markdown",
   "metadata": {},
   "source": []
  },
  {
   "cell_type": "markdown",
   "metadata": {},
   "source": [
    "#### End of Question 1."
   ]
  },
  {
   "cell_type": "markdown",
   "metadata": {},
   "source": [
    "# Question 2 in two parts.\n",
    "\n",
    "Let us see whether the total_amount_92pcnt_cap (new variable we have just created) varies by payment type. \n",
    "- Part 1. Show the average value of total_amount capped at 92% by payment type,\n",
    "- Part 2. Produce a bar plot by payment type to see whether the average total amount varies. Use markdown to write your observation based on the bar graph you created. Make sure to add a title to your bar graph.\n",
    "\n",
    "\n",
    "\n",
    "\n"
   ]
  },
  {
   "cell_type": "code",
   "execution_count": null,
   "metadata": {
    "collapsed": true
   },
   "outputs": [],
   "source": [
    "Part 1 -\n",
    "Hint: Look at the number of payment types. You need group the percentile \n",
    "    data you created on them."
   ]
  },
  {
   "cell_type": "code",
   "execution_count": null,
   "metadata": {
    "collapsed": true
   },
   "outputs": [],
   "source": []
  },
  {
   "cell_type": "code",
   "execution_count": 32,
   "metadata": {
    "collapsed": true
   },
   "outputs": [
    {
     "data": {
      "text/html": [
       "<div>\n",
       "<style>\n",
       "    .dataframe thead tr:only-child th {\n",
       "        text-align: right;\n",
       "    }\n",
       "\n",
       "    .dataframe thead th {\n",
       "        text-align: left;\n",
       "    }\n",
       "\n",
       "    .dataframe tbody tr th {\n",
       "        vertical-align: top;\n",
       "    }\n",
       "</style>\n",
       "<table border=\"1\" class=\"dataframe\">\n",
       "  <thead>\n",
       "    <tr style=\"text-align: right;\">\n",
       "      <th></th>\n",
       "      <th>mean</th>\n",
       "    </tr>\n",
       "    <tr>\n",
       "      <th>payment_type</th>\n",
       "      <th></th>\n",
       "    </tr>\n",
       "  </thead>\n",
       "  <tbody>\n",
       "    <tr>\n",
       "      <th>CRD</th>\n",
       "      <td>14.838955</td>\n",
       "    </tr>\n",
       "    <tr>\n",
       "      <th>CSH</th>\n",
       "      <td>11.461600</td>\n",
       "    </tr>\n",
       "    <tr>\n",
       "      <th>DIS</th>\n",
       "      <td>12.123251</td>\n",
       "    </tr>\n",
       "    <tr>\n",
       "      <th>NOC</th>\n",
       "      <td>10.382436</td>\n",
       "    </tr>\n",
       "    <tr>\n",
       "      <th>UNK</th>\n",
       "      <td>15.461616</td>\n",
       "    </tr>\n",
       "  </tbody>\n",
       "</table>\n",
       "</div>"
      ],
      "text/plain": [
       "                   mean\n",
       "payment_type           \n",
       "CRD           14.838955\n",
       "CSH           11.461600\n",
       "DIS           12.123251\n",
       "NOC           10.382436\n",
       "UNK           15.461616"
      ]
     },
     "execution_count": 32,
     "metadata": {},
     "output_type": "execute_result"
    }
   ],
   "source": [
    "#Now find the mean for each payment type hint CRD should be approx 14.8\n",
    "# the agg() function is preferred but apply works as well. \n",
    "# if you use aggr() use the appropriate syntax don't use np.mean,use np.mean for apply\n",
    "\n",
    "avg_amount = nyc_fare.groupby(by='payment_type')['total_amount_92pcnt_cap'].agg(['mean'])\n",
    "avg_amount"
   ]
  },
  {
   "cell_type": "code",
   "execution_count": 33,
   "metadata": {
    "collapsed": true
   },
   "outputs": [
    {
     "data": {
      "text/plain": [
       "<matplotlib.axes._subplots.AxesSubplot at 0x112aebf60>"
      ]
     },
     "execution_count": 33,
     "metadata": {},
     "output_type": "execute_result"
    },
    {
     "data": {
      "image/png": "[encoded data removed]",
      "text/plain": [
       "<matplotlib.figure.Figure at 0x112aecc88>"
      ]
     },
     "metadata": {},
     "output_type": "display_data"
    }
   ],
   "source": [
    "#Part 2 create a bar graph of total amount by payment type.\n",
    "avg_amount.plot(kind='bar')"
   ]
  },
  {
   "cell_type": "markdown",
   "metadata": {},
   "source": [
    "### End of question 2"
   ]
  },
  {
   "cell_type": "markdown",
   "metadata": {},
   "source": [
    "# Question 3 in 3 parts"
   ]
  },
  {
   "cell_type": "code",
   "execution_count": null,
   "metadata": {
    "collapsed": true
   },
   "outputs": [],
   "source": [
    "\n",
    "#question 3\n",
    "#now, the common hypothesis is that tip amount is higher if store\n",
    "#and forward flag is 'Y'. Let us use the data to see whether this is\n",
    "#approximately true:\n",
    "\n",
    "#Part 1. Foward flag is in nyc_data whilst tip_amount is in nyc_fare. \n",
    "#Create a combined_data frame making sure you merge properly. Check how many\n",
    "# rows you have after the merge. Call it combined_data\n",
    "\n",
    "\n",
    "#Part 2. Create a new dataframe, which\n",
    "#consists of all tip_amount values exceeding 1. Then, discretize this\n",
    "#new variable by creating 10 roughly equal groups from highest to\n",
    "#lowest. \n",
    "\n",
    "# Part 3 For each group, obtain the % of all trips for which\n",
    "#the store and forward trips = \"Y\", and create a line plot with each\n",
    "#tip amount group on the x axis and the % of trips on the y axis. Label\n",
    "#data points on this line graph, and fully label this plot. \n",
    "\n",
    "#Part 4 Based on this, can you say that tip (above $1) and store and \n",
    "#forward flag are correlated? \n",
    "\n",
    "\n",
    "\n"
   ]
  },
  {
   "cell_type": "code",
   "execution_count": 4,
   "metadata": {
    "collapsed": true,
    "scrolled": true
   },
   "outputs": [],
   "source": [
    "#Part 1 combine the two dataframes and show  info() on the combined_data\n",
    "\n",
    "# If you get zeros, you may have reread the data only without the parse statement\n",
    "# For example for the fist five info() values you should see \n",
    "#medallion                  846945 non-null object\n",
    "#hack_license               846945 non-null object\n",
    "#vendor_id                  846945 non-null object\n",
    "#rate_code                  846945 non-null int64\n",
    "#store_and_fwd_flag         424577 non-null object\n",
    "\n",
    "combined_data = pd.merge(nyc_data,nyc_fare, on=['medallion','hack_license','pickup_datetime', 'vendor_id'],how='inner')"
   ]
  },
  {
   "cell_type": "code",
   "execution_count": 5,
   "metadata": {},
   "outputs": [
    {
     "name": "stdout",
     "output_type": "stream",
     "text": [
      "<class 'pandas.core.frame.DataFrame'>\n",
      "Int64Index: 846945 entries, 0 to 846944\n",
      "Data columns (total 21 columns):\n",
      "medallion             846945 non-null object\n",
      "hack_license          846945 non-null object\n",
      "vendor_id             846945 non-null object\n",
      "rate_code             846945 non-null int64\n",
      "store_and_fwd_flag    424577 non-null object\n",
      "pickup_datetime       846945 non-null object\n",
      "dropoff_datetime      846945 non-null object\n",
      "passenger_count       846945 non-null int64\n",
      "trip_time_in_secs     846945 non-null int64\n",
      "trip_distance         846945 non-null float64\n",
      "pickup_longitude      846945 non-null float64\n",
      "pickup_latitude       846945 non-null float64\n",
      "dropoff_longitude     846945 non-null float64\n",
      "dropoff_latitude      846945 non-null float64\n",
      "payment_type          846945 non-null object\n",
      "fare_amount           846945 non-null float64\n",
      "surcharge             846945 non-null float64\n",
      "mta_tax               846945 non-null float64\n",
      "tip_amount            846945 non-null float64\n",
      "tolls_amount          846945 non-null float64\n",
      "total_amount          846945 non-null float64\n",
      "dtypes: float64(11), int64(3), object(7)\n",
      "memory usage: 142.2+ MB\n"
     ]
    }
   ],
   "source": [
    "combined_data.info()"
   ]
  },
  {
   "cell_type": "code",
   "execution_count": 6,
   "metadata": {
    "collapsed": true
   },
   "outputs": [
    {
     "data": {
      "text/plain": [
       "count    846945.00000\n",
       "mean          1.34466\n",
       "std           2.09149\n",
       "min           0.00000\n",
       "0%            0.00000\n",
       "10%           0.00000\n",
       "20%           0.00000\n",
       "30.0%         0.00000\n",
       "40%           0.00000\n",
       "50%           1.00000\n",
       "60.0%         1.20000\n",
       "70%           1.75000\n",
       "80%           2.25000\n",
       "90%           3.40000\n",
       "max         200.00000\n",
       "Name: tip_amount, dtype: float64"
      ]
     },
     "execution_count": 6,
     "metadata": {},
     "output_type": "execute_result"
    }
   ],
   "source": [
    "# what are the deciles of the tip_amount?\n",
    "combined_data.tip_amount.describe(percentiles=np.arange(0,1,0.1))"
   ]
  },
  {
   "cell_type": "code",
   "execution_count": null,
   "metadata": {
    "collapsed": true
   },
   "outputs": [],
   "source": [
    "#Part 2. Create  a new dataframe call it \"combined_data_hightip\" \n",
    "# that consists of all tip_amount values exceeding 1 from the combined_data.\n",
    "# find info of the new dataframe, combined_data_hightip , that you created.\n"
   ]
  },
  {
   "cell_type": "code",
   "execution_count": 7,
   "metadata": {
    "collapsed": true
   },
   "outputs": [],
   "source": [
    "combined_data_hightip = combined_data.loc[combined_data['tip_amount'] > 1,['tip_amount', 'store_and_fwd_flag']]"
   ]
  },
  {
   "cell_type": "code",
   "execution_count": 8,
   "metadata": {
    "collapsed": true
   },
   "outputs": [
    {
     "name": "stdout",
     "output_type": "stream",
     "text": [
      "<class 'pandas.core.frame.DataFrame'>\n",
      "Int64Index: 354812 entries, 1 to 846940\n",
      "Data columns (total 2 columns):\n",
      "tip_amount            354812 non-null float64\n",
      "store_and_fwd_flag    176512 non-null object\n",
      "dtypes: float64(1), object(1)\n",
      "memory usage: 8.1+ MB\n"
     ]
    }
   ],
   "source": [
    "# Use info to show elements properties in this data frame\n",
    "combined_data_hightip.info()"
   ]
  },
  {
   "cell_type": "code",
   "execution_count": 9,
   "metadata": {},
   "outputs": [
    {
     "data": {
      "text/html": [
       "<div>\n",
       "<style>\n",
       "    .dataframe thead tr:only-child th {\n",
       "        text-align: right;\n",
       "    }\n",
       "\n",
       "    .dataframe thead th {\n",
       "        text-align: left;\n",
       "    }\n",
       "\n",
       "    .dataframe tbody tr th {\n",
       "        vertical-align: top;\n",
       "    }\n",
       "</style>\n",
       "<table border=\"1\" class=\"dataframe\">\n",
       "  <thead>\n",
       "    <tr style=\"text-align: right;\">\n",
       "      <th></th>\n",
       "      <th>tip_amount</th>\n",
       "      <th>store_and_fwd_flag</th>\n",
       "    </tr>\n",
       "  </thead>\n",
       "  <tbody>\n",
       "    <tr>\n",
       "      <th>count</th>\n",
       "      <td>354812.000000</td>\n",
       "      <td>176512</td>\n",
       "    </tr>\n",
       "    <tr>\n",
       "      <th>unique</th>\n",
       "      <td>NaN</td>\n",
       "      <td>2</td>\n",
       "    </tr>\n",
       "    <tr>\n",
       "      <th>top</th>\n",
       "      <td>NaN</td>\n",
       "      <td>N</td>\n",
       "    </tr>\n",
       "    <tr>\n",
       "      <th>freq</th>\n",
       "      <td>NaN</td>\n",
       "      <td>172371</td>\n",
       "    </tr>\n",
       "    <tr>\n",
       "      <th>mean</th>\n",
       "      <td>2.973386</td>\n",
       "      <td>NaN</td>\n",
       "    </tr>\n",
       "    <tr>\n",
       "      <th>std</th>\n",
       "      <td>2.384653</td>\n",
       "      <td>NaN</td>\n",
       "    </tr>\n",
       "    <tr>\n",
       "      <th>min</th>\n",
       "      <td>1.010000</td>\n",
       "      <td>NaN</td>\n",
       "    </tr>\n",
       "    <tr>\n",
       "      <th>25%</th>\n",
       "      <td>1.650000</td>\n",
       "      <td>NaN</td>\n",
       "    </tr>\n",
       "    <tr>\n",
       "      <th>50%</th>\n",
       "      <td>2.200000</td>\n",
       "      <td>NaN</td>\n",
       "    </tr>\n",
       "    <tr>\n",
       "      <th>75%</th>\n",
       "      <td>3.300000</td>\n",
       "      <td>NaN</td>\n",
       "    </tr>\n",
       "    <tr>\n",
       "      <th>max</th>\n",
       "      <td>200.000000</td>\n",
       "      <td>NaN</td>\n",
       "    </tr>\n",
       "  </tbody>\n",
       "</table>\n",
       "</div>"
      ],
      "text/plain": [
       "           tip_amount store_and_fwd_flag\n",
       "count   354812.000000             176512\n",
       "unique            NaN                  2\n",
       "top               NaN                  N\n",
       "freq              NaN             172371\n",
       "mean         2.973386                NaN\n",
       "std          2.384653                NaN\n",
       "min          1.010000                NaN\n",
       "25%          1.650000                NaN\n",
       "50%          2.200000                NaN\n",
       "75%          3.300000                NaN\n",
       "max        200.000000                NaN"
      ]
     },
     "execution_count": 9,
     "metadata": {},
     "output_type": "execute_result"
    }
   ],
   "source": [
    "combined_data_hightip.describe(include='all')"
   ]
  },
  {
   "cell_type": "code",
   "execution_count": 10,
   "metadata": {
    "collapsed": true
   },
   "outputs": [],
   "source": [
    "#Create a new column which has a 1 if store_and_forward == 'Y' and 0 if not.\n",
    "#Name it store_and_fwd_ind.\n",
    "# Depending on how you assign to the dataframe, you will receive a warning. \n",
    "# This is due to an assignments to a chained dataframe reference. \n",
    "# Don't worry about it.\n",
    "\n",
    "def store_and_fwd(x):\n",
    "    if x == 'Y':\n",
    "        return 1\n",
    "    else:\n",
    "        return 0\n",
    "\n",
    "combined_data_hightip['store_and_fwd_ind'] = combined_data_hightip['store_and_fwd_flag'].apply(store_and_fwd)"
   ]
  },
  {
   "cell_type": "code",
   "execution_count": 11,
   "metadata": {},
   "outputs": [
    {
     "data": {
      "text/plain": [
       "0    350671\n",
       "1      4141\n",
       "Name: store_and_fwd_ind, dtype: int64"
      ]
     },
     "execution_count": 11,
     "metadata": {},
     "output_type": "execute_result"
    }
   ],
   "source": [
    "# Check the work\n",
    "combined_data_hightip.store_and_fwd_ind.value_counts()"
   ]
  },
  {
   "cell_type": "code",
   "execution_count": 12,
   "metadata": {},
   "outputs": [
    {
     "name": "stdout",
     "output_type": "stream",
     "text": [
      "<class 'pandas.core.frame.DataFrame'>\n",
      "Int64Index: 354812 entries, 1 to 846940\n",
      "Data columns (total 3 columns):\n",
      "tip_amount            354812 non-null float64\n",
      "store_and_fwd_flag    176512 non-null object\n",
      "store_and_fwd_ind     354812 non-null int64\n",
      "dtypes: float64(1), int64(1), object(1)\n",
      "memory usage: 10.8+ MB\n"
     ]
    }
   ],
   "source": [
    "combined_data_hightip.info()"
   ]
  },
  {
   "cell_type": "code",
   "execution_count": 13,
   "metadata": {
    "collapsed": true
   },
   "outputs": [
    {
     "data": {
      "text/plain": [
       "count    354812.000000\n",
       "mean          2.973386\n",
       "std           2.384653\n",
       "min           1.010000\n",
       "25%           1.650000\n",
       "50%           2.200000\n",
       "75%           3.300000\n",
       "max         200.000000\n",
       "Name: tip_amount, dtype: float64"
      ]
     },
     "execution_count": 13,
     "metadata": {},
     "output_type": "execute_result"
    }
   ],
   "source": [
    "#Then, discretize this new variable by creating 10 roughly equal\n",
    "# groups(cuts) from highest to lowest.\n",
    "# Use pd.qcut on the combined_data_hightip columns / cut it into 0.1 and\n",
    "# call it the high_tip_group .Just for a check: the qcut at 50% should be 4.000\n",
    "\n",
    "combined_data_hightip['tip_amount'].describe()\n"
   ]
  },
  {
   "cell_type": "code",
   "execution_count": 15,
   "metadata": {},
   "outputs": [
    {
     "data": {
      "text/plain": [
       "count    354812.000000\n",
       "mean          4.322134\n",
       "std           2.924937\n",
       "min           0.000000\n",
       "25%           2.000000\n",
       "50%           4.000000\n",
       "75%           7.000000\n",
       "max           9.000000\n",
       "Name: tip_amount, dtype: float64"
      ]
     },
     "execution_count": 15,
     "metadata": {},
     "output_type": "execute_result"
    }
   ],
   "source": [
    "high_tip_group = pd.qcut(combined_data_hightip['tip_amount'], 10, labels=False, duplicates='drop')\n",
    "high_tip_group.describe()"
   ]
  },
  {
   "cell_type": "code",
   "execution_count": 16,
   "metadata": {},
   "outputs": [],
   "source": [
    "# group the store_and_fwd_ind column values by high tip group and \n",
    "# put it into a groupby object called \"result.\" \n",
    " \n",
    "result = combined_data_hightip.groupby(by=high_tip_group)['store_and_fwd_ind']"
   ]
  },
  {
   "cell_type": "code",
   "execution_count": 24,
   "metadata": {
    "collapsed": true
   },
   "outputs": [
    {
     "data": {
      "text/plain": [
       "10"
      ]
     },
     "execution_count": 24,
     "metadata": {},
     "output_type": "execute_result"
    }
   ],
   "source": [
    "len(result.groups)"
   ]
  },
  {
   "cell_type": "code",
   "execution_count": 25,
   "metadata": {},
   "outputs": [
    {
     "data": {
      "text/html": [
       "<div>\n",
       "<style>\n",
       "    .dataframe thead tr:only-child th {\n",
       "        text-align: right;\n",
       "    }\n",
       "\n",
       "    .dataframe thead th {\n",
       "        text-align: left;\n",
       "    }\n",
       "\n",
       "    .dataframe tbody tr th {\n",
       "        vertical-align: top;\n",
       "    }\n",
       "</style>\n",
       "<table border=\"1\" class=\"dataframe\">\n",
       "  <thead>\n",
       "    <tr style=\"text-align: right;\">\n",
       "      <th></th>\n",
       "      <th>count</th>\n",
       "      <th>mean</th>\n",
       "      <th>std</th>\n",
       "      <th>min</th>\n",
       "      <th>25%</th>\n",
       "      <th>50%</th>\n",
       "      <th>75%</th>\n",
       "      <th>max</th>\n",
       "    </tr>\n",
       "    <tr>\n",
       "      <th>tip_amount</th>\n",
       "      <th></th>\n",
       "      <th></th>\n",
       "      <th></th>\n",
       "      <th></th>\n",
       "      <th></th>\n",
       "      <th></th>\n",
       "      <th></th>\n",
       "      <th></th>\n",
       "    </tr>\n",
       "  </thead>\n",
       "  <tbody>\n",
       "    <tr>\n",
       "      <th>0</th>\n",
       "      <td>43347.0</td>\n",
       "      <td>0.009389</td>\n",
       "      <td>0.096444</td>\n",
       "      <td>0.0</td>\n",
       "      <td>0.0</td>\n",
       "      <td>0.0</td>\n",
       "      <td>0.0</td>\n",
       "      <td>1.0</td>\n",
       "    </tr>\n",
       "    <tr>\n",
       "      <th>1</th>\n",
       "      <td>33224.0</td>\n",
       "      <td>0.011227</td>\n",
       "      <td>0.105362</td>\n",
       "      <td>0.0</td>\n",
       "      <td>0.0</td>\n",
       "      <td>0.0</td>\n",
       "      <td>0.0</td>\n",
       "      <td>1.0</td>\n",
       "    </tr>\n",
       "    <tr>\n",
       "      <th>2</th>\n",
       "      <td>35768.0</td>\n",
       "      <td>0.009701</td>\n",
       "      <td>0.098018</td>\n",
       "      <td>0.0</td>\n",
       "      <td>0.0</td>\n",
       "      <td>0.0</td>\n",
       "      <td>0.0</td>\n",
       "      <td>1.0</td>\n",
       "    </tr>\n",
       "    <tr>\n",
       "      <th>3</th>\n",
       "      <td>53835.0</td>\n",
       "      <td>0.011405</td>\n",
       "      <td>0.106185</td>\n",
       "      <td>0.0</td>\n",
       "      <td>0.0</td>\n",
       "      <td>0.0</td>\n",
       "      <td>0.0</td>\n",
       "      <td>1.0</td>\n",
       "    </tr>\n",
       "    <tr>\n",
       "      <th>4</th>\n",
       "      <td>18461.0</td>\n",
       "      <td>0.011917</td>\n",
       "      <td>0.108516</td>\n",
       "      <td>0.0</td>\n",
       "      <td>0.0</td>\n",
       "      <td>0.0</td>\n",
       "      <td>0.0</td>\n",
       "      <td>1.0</td>\n",
       "    </tr>\n",
       "    <tr>\n",
       "      <th>5</th>\n",
       "      <td>31098.0</td>\n",
       "      <td>0.010547</td>\n",
       "      <td>0.102159</td>\n",
       "      <td>0.0</td>\n",
       "      <td>0.0</td>\n",
       "      <td>0.0</td>\n",
       "      <td>0.0</td>\n",
       "      <td>1.0</td>\n",
       "    </tr>\n",
       "    <tr>\n",
       "      <th>6</th>\n",
       "      <td>39789.0</td>\n",
       "      <td>0.012441</td>\n",
       "      <td>0.110843</td>\n",
       "      <td>0.0</td>\n",
       "      <td>0.0</td>\n",
       "      <td>0.0</td>\n",
       "      <td>0.0</td>\n",
       "      <td>1.0</td>\n",
       "    </tr>\n",
       "    <tr>\n",
       "      <th>7</th>\n",
       "      <td>29961.0</td>\n",
       "      <td>0.012583</td>\n",
       "      <td>0.111468</td>\n",
       "      <td>0.0</td>\n",
       "      <td>0.0</td>\n",
       "      <td>0.0</td>\n",
       "      <td>0.0</td>\n",
       "      <td>1.0</td>\n",
       "    </tr>\n",
       "    <tr>\n",
       "      <th>8</th>\n",
       "      <td>34476.0</td>\n",
       "      <td>0.013720</td>\n",
       "      <td>0.116326</td>\n",
       "      <td>0.0</td>\n",
       "      <td>0.0</td>\n",
       "      <td>0.0</td>\n",
       "      <td>0.0</td>\n",
       "      <td>1.0</td>\n",
       "    </tr>\n",
       "    <tr>\n",
       "      <th>9</th>\n",
       "      <td>34853.0</td>\n",
       "      <td>0.014547</td>\n",
       "      <td>0.119731</td>\n",
       "      <td>0.0</td>\n",
       "      <td>0.0</td>\n",
       "      <td>0.0</td>\n",
       "      <td>0.0</td>\n",
       "      <td>1.0</td>\n",
       "    </tr>\n",
       "  </tbody>\n",
       "</table>\n",
       "</div>"
      ],
      "text/plain": [
       "              count      mean       std  min  25%  50%  75%  max\n",
       "tip_amount                                                      \n",
       "0           43347.0  0.009389  0.096444  0.0  0.0  0.0  0.0  1.0\n",
       "1           33224.0  0.011227  0.105362  0.0  0.0  0.0  0.0  1.0\n",
       "2           35768.0  0.009701  0.098018  0.0  0.0  0.0  0.0  1.0\n",
       "3           53835.0  0.011405  0.106185  0.0  0.0  0.0  0.0  1.0\n",
       "4           18461.0  0.011917  0.108516  0.0  0.0  0.0  0.0  1.0\n",
       "5           31098.0  0.010547  0.102159  0.0  0.0  0.0  0.0  1.0\n",
       "6           39789.0  0.012441  0.110843  0.0  0.0  0.0  0.0  1.0\n",
       "7           29961.0  0.012583  0.111468  0.0  0.0  0.0  0.0  1.0\n",
       "8           34476.0  0.013720  0.116326  0.0  0.0  0.0  0.0  1.0\n",
       "9           34853.0  0.014547  0.119731  0.0  0.0  0.0  0.0  1.0"
      ]
     },
     "execution_count": 25,
     "metadata": {},
     "output_type": "execute_result"
    }
   ],
   "source": [
    "result.describe()"
   ]
  },
  {
   "cell_type": "code",
   "execution_count": 30,
   "metadata": {},
   "outputs": [],
   "source": [
    "#Part 3 Plot the store and foward rate versus tip amount. What can you say\n",
    "#about this relationship (are store and forward flag correlated)?\n",
    "\n",
    "res = combined_data_hightip.groupby(by=high_tip_group)[['store_and_fwd_ind', 'tip_amount']].agg(['mean'])"
   ]
  },
  {
   "cell_type": "code",
   "execution_count": 33,
   "metadata": {},
   "outputs": [
    {
     "data": {
      "text/html": [
       "<div>\n",
       "<style>\n",
       "    .dataframe thead tr:only-child th {\n",
       "        text-align: right;\n",
       "    }\n",
       "\n",
       "    .dataframe thead th {\n",
       "        text-align: left;\n",
       "    }\n",
       "\n",
       "    .dataframe tbody tr th {\n",
       "        vertical-align: top;\n",
       "    }\n",
       "</style>\n",
       "<table border=\"1\" class=\"dataframe\">\n",
       "  <thead>\n",
       "    <tr>\n",
       "      <th></th>\n",
       "      <th>store_and_fwd_ind</th>\n",
       "      <th>tip_amount</th>\n",
       "    </tr>\n",
       "    <tr>\n",
       "      <th></th>\n",
       "      <th>mean</th>\n",
       "      <th>mean</th>\n",
       "    </tr>\n",
       "    <tr>\n",
       "      <th>tip_amount</th>\n",
       "      <th></th>\n",
       "      <th></th>\n",
       "    </tr>\n",
       "  </thead>\n",
       "  <tbody>\n",
       "    <tr>\n",
       "      <th>0</th>\n",
       "      <td>0.009389</td>\n",
       "      <td>1.257589</td>\n",
       "    </tr>\n",
       "    <tr>\n",
       "      <th>1</th>\n",
       "      <td>0.011227</td>\n",
       "      <td>1.499887</td>\n",
       "    </tr>\n",
       "    <tr>\n",
       "      <th>2</th>\n",
       "      <td>0.009701</td>\n",
       "      <td>1.698989</td>\n",
       "    </tr>\n",
       "    <tr>\n",
       "      <th>3</th>\n",
       "      <td>0.011405</td>\n",
       "      <td>1.977125</td>\n",
       "    </tr>\n",
       "    <tr>\n",
       "      <th>4</th>\n",
       "      <td>0.011917</td>\n",
       "      <td>2.141458</td>\n",
       "    </tr>\n",
       "    <tr>\n",
       "      <th>5</th>\n",
       "      <td>0.010547</td>\n",
       "      <td>2.397560</td>\n",
       "    </tr>\n",
       "    <tr>\n",
       "      <th>6</th>\n",
       "      <td>0.012441</td>\n",
       "      <td>2.831579</td>\n",
       "    </tr>\n",
       "    <tr>\n",
       "      <th>7</th>\n",
       "      <td>0.012583</td>\n",
       "      <td>3.411829</td>\n",
       "    </tr>\n",
       "    <tr>\n",
       "      <th>8</th>\n",
       "      <td>0.013720</td>\n",
       "      <td>4.516651</td>\n",
       "    </tr>\n",
       "    <tr>\n",
       "      <th>9</th>\n",
       "      <td>0.014547</td>\n",
       "      <td>8.571537</td>\n",
       "    </tr>\n",
       "  </tbody>\n",
       "</table>\n",
       "</div>"
      ],
      "text/plain": [
       "           store_and_fwd_ind tip_amount\n",
       "                        mean       mean\n",
       "tip_amount                             \n",
       "0                   0.009389   1.257589\n",
       "1                   0.011227   1.499887\n",
       "2                   0.009701   1.698989\n",
       "3                   0.011405   1.977125\n",
       "4                   0.011917   2.141458\n",
       "5                   0.010547   2.397560\n",
       "6                   0.012441   2.831579\n",
       "7                   0.012583   3.411829\n",
       "8                   0.013720   4.516651\n",
       "9                   0.014547   8.571537"
      ]
     },
     "execution_count": 33,
     "metadata": {},
     "output_type": "execute_result"
    }
   ],
   "source": [
    "res"
   ]
  },
  {
   "cell_type": "code",
   "execution_count": 36,
   "metadata": {},
   "outputs": [],
   "source": [
    "x = res['store_and_fwd_ind']['mean']\n",
    "y = res['tip_amount']['mean']"
   ]
  },
  {
   "cell_type": "code",
   "execution_count": 39,
   "metadata": {},
   "outputs": [
    {
     "data": {
      "text/plain": [
       "<matplotlib.collections.PathCollection at 0x10f2ec940>"
      ]
     },
     "execution_count": 39,
     "metadata": {},
     "output_type": "execute_result"
    },
    {
     "data": {
      "image/png": "[encoded data removed]",
      "text/plain": [
       "<matplotlib.figure.Figure at 0x10dddfe48>"
      ]
     },
     "metadata": {},
     "output_type": "display_data"
    }
   ],
   "source": [
    "plt.xlim(0.008, 0.016)\n",
    "plt.ylim(1, 9)\n",
    "plt.scatter(x,y)"
   ]
  },
  {
   "cell_type": "markdown",
   "metadata": {},
   "source": [
    "With the increase of store and forward rate, the tip amount goes up, too. \n",
    "But there are falls in the plot, so that they are not strictly positively correlated."
   ]
  },
  {
   "cell_type": "code",
   "execution_count": null,
   "metadata": {
    "collapsed": true
   },
   "outputs": [],
   "source": []
  },
  {
   "cell_type": "markdown",
   "metadata": {},
   "source": [
    "#### End of exam"
   ]
  }
 ],
 "metadata": {
  "kernelspec": {
   "display_name": "Python 3",
   "language": "python",
   "name": "python3"
  },
  "language_info": {
   "codemirror_mode": {
    "name": "ipython",
    "version": 3
   },
   "file_extension": ".py",
   "mimetype": "text/x-python",
   "name": "python",
   "nbconvert_exporter": "python",
   "pygments_lexer": "ipython3",
   "version": "3.6.3"
  }
 },
 "nbformat": 4,
 "nbformat_minor": 2
}
