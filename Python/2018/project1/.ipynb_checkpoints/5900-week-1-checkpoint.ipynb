{
 "cells": [
  {
   "cell_type": "markdown",
   "metadata": {},
   "source": [
    "## 5900 Week 1"
   ]
  },
  {
   "cell_type": "code",
   "execution_count": 1,
   "metadata": {
    "collapsed": true
   },
   "outputs": [],
   "source": []
  },
  {
   "cell_type": "code",
   "execution_count": 2,
   "metadata": {},
   "outputs": [
    {
     "data": {
      "text/html": [
       "<div>\n",
       "<style>\n",
       "    .dataframe thead tr:only-child th {\n",
       "        text-align: right;\n",
       "    }\n",
       "\n",
       "    .dataframe thead th {\n",
       "        text-align: left;\n",
       "    }\n",
       "\n",
       "    .dataframe tbody tr th {\n",
       "        vertical-align: top;\n",
       "    }\n",
       "</style>\n",
       "<table border=\"1\" class=\"dataframe\">\n",
       "  <thead>\n",
       "    <tr style=\"text-align: right;\">\n",
       "      <th></th>\n",
       "      <th>Bank Name</th>\n",
       "      <th>City</th>\n",
       "      <th>ST</th>\n",
       "      <th>CERT</th>\n",
       "      <th>Acquiring Institution</th>\n",
       "      <th>Closing Date</th>\n",
       "      <th>Updated Date</th>\n",
       "    </tr>\n",
       "  </thead>\n",
       "  <tbody>\n",
       "    <tr>\n",
       "      <th>0</th>\n",
       "      <td>Washington Federal Bank for Savings</td>\n",
       "      <td>Chicago</td>\n",
       "      <td>IL</td>\n",
       "      <td>30570</td>\n",
       "      <td>Royal Savings Bank</td>\n",
       "      <td>15-Dec-17</td>\n",
       "      <td>21-Feb-18</td>\n",
       "    </tr>\n",
       "    <tr>\n",
       "      <th>1</th>\n",
       "      <td>The Farmers and Merchants State Bank of Argonia</td>\n",
       "      <td>Argonia</td>\n",
       "      <td>KS</td>\n",
       "      <td>17719</td>\n",
       "      <td>Conway Bank</td>\n",
       "      <td>13-Oct-17</td>\n",
       "      <td>21-Feb-18</td>\n",
       "    </tr>\n",
       "    <tr>\n",
       "      <th>2</th>\n",
       "      <td>Fayette County Bank</td>\n",
       "      <td>Saint Elmo</td>\n",
       "      <td>IL</td>\n",
       "      <td>1802</td>\n",
       "      <td>United Fidelity Bank, fsb</td>\n",
       "      <td>26-May-17</td>\n",
       "      <td>26-Jul-17</td>\n",
       "    </tr>\n",
       "    <tr>\n",
       "      <th>3</th>\n",
       "      <td>Guaranty Bank, (d/b/a BestBank in Georgia &amp; Mi...</td>\n",
       "      <td>Milwaukee</td>\n",
       "      <td>WI</td>\n",
       "      <td>30003</td>\n",
       "      <td>First-Citizens Bank &amp; Trust Company</td>\n",
       "      <td>5-May-17</td>\n",
       "      <td>26-Jul-17</td>\n",
       "    </tr>\n",
       "    <tr>\n",
       "      <th>4</th>\n",
       "      <td>First NBC Bank</td>\n",
       "      <td>New Orleans</td>\n",
       "      <td>LA</td>\n",
       "      <td>58302</td>\n",
       "      <td>Whitney Bank</td>\n",
       "      <td>28-Apr-17</td>\n",
       "      <td>5-Dec-17</td>\n",
       "    </tr>\n",
       "  </tbody>\n",
       "</table>\n",
       "</div>"
      ],
      "text/plain": [
       "                                           Bank Name         City  ST   CERT  \\\n",
       "0                Washington Federal Bank for Savings      Chicago  IL  30570   \n",
       "1    The Farmers and Merchants State Bank of Argonia      Argonia  KS  17719   \n",
       "2                                Fayette County Bank   Saint Elmo  IL   1802   \n",
       "3  Guaranty Bank, (d/b/a BestBank in Georgia & Mi...    Milwaukee  WI  30003   \n",
       "4                                     First NBC Bank  New Orleans  LA  58302   \n",
       "\n",
       "                 Acquiring Institution Closing Date Updated Date  \n",
       "0                   Royal Savings Bank    15-Dec-17    21-Feb-18  \n",
       "1                          Conway Bank    13-Oct-17    21-Feb-18  \n",
       "2            United Fidelity Bank, fsb    26-May-17    26-Jul-17  \n",
       "3  First-Citizens Bank & Trust Company     5-May-17    26-Jul-17  \n",
       "4                         Whitney Bank    28-Apr-17     5-Dec-17  "
      ]
     },
     "execution_count": 2,
     "metadata": {},
     "output_type": "execute_result"
    }
   ],
   "source": [
    "import pandas as pd\n",
    "df=pd.read_csv(\"banklist.csv\")\n",
    "df.head()"
   ]
  },
  {
   "cell_type": "code",
   "execution_count": 3,
   "metadata": {},
   "outputs": [
    {
     "name": "stdout",
     "output_type": "stream",
     "text": [
      "555\n"
     ]
    }
   ],
   "source": [
    "print(len(df))"
   ]
  },
  {
   "cell_type": "code",
   "execution_count": 4,
   "metadata": {},
   "outputs": [
    {
     "name": "stdout",
     "output_type": "stream",
     "text": [
      "<class 'pandas.core.frame.DataFrame'>\n",
      "RangeIndex: 555 entries, 0 to 554\n",
      "Data columns (total 7 columns):\n",
      "Bank Name                555 non-null object\n",
      "City                     555 non-null object\n",
      "ST                       555 non-null object\n",
      "CERT                     555 non-null int64\n",
      "Acquiring Institution    555 non-null object\n",
      "Closing Date             555 non-null object\n",
      "Updated Date             555 non-null object\n",
      "dtypes: int64(1), object(6)\n",
      "memory usage: 30.4+ KB\n"
     ]
    }
   ],
   "source": [
    "df.info()"
   ]
  },
  {
   "cell_type": "markdown",
   "metadata": {},
   "source": [
    "## Question 1 (20 points)"
   ]
  },
  {
   "cell_type": "code",
   "execution_count": 5,
   "metadata": {
    "collapsed": true
   },
   "outputs": [],
   "source": [
    "#Look at the data set: First, make sure there are no missing values in\n",
    "#any of the categorical columns.If there are, replace them with\n",
    "#a 'M' value. \n",
    "#Then, consider that Acquiring Institution column is the institution that holds various banks.\n",
    "#What are the top 4 acquiring institutions?"
   ]
  },
  {
   "cell_type": "code",
   "execution_count": 6,
   "metadata": {},
   "outputs": [
    {
     "data": {
      "text/plain": [
       "Bank Name                0\n",
       "City                     0\n",
       "ST                       0\n",
       "CERT                     0\n",
       "Acquiring Institution    0\n",
       "Closing Date             0\n",
       "Updated Date             0\n",
       "dtype: int64"
      ]
     },
     "execution_count": 6,
     "metadata": {},
     "output_type": "execute_result"
    }
   ],
   "source": [
    "#Answer here\n",
    "df.isnull().sum() #All columns have no NA values."
   ]
  },
  {
   "cell_type": "code",
   "execution_count": 7,
   "metadata": {},
   "outputs": [
    {
     "data": {
      "text/plain": [
       "No Acquirer                            31\n",
       "State Bank and Trust Company           12\n",
       "First-Citizens Bank & Trust Company    11\n",
       "Ameris Bank                            10\n",
       "U.S. Bank N.A.                          9\n",
       "Name: Acquiring Institution, dtype: int64"
      ]
     },
     "execution_count": 7,
     "metadata": {},
     "output_type": "execute_result"
    }
   ],
   "source": [
    "df['Acquiring Institution'].value_counts().iloc[:5]"
   ]
  },
  {
   "cell_type": "markdown",
   "metadata": {},
   "source": [
    "**Answer: 31 of the banks don't have an acquirer. So the top four acquiring institutions include State Bank and Trust Company, First-Citizens Bank & Trust Company, Ameris Bank, and U.S. Bank N.A..**"
   ]
  },
  {
   "cell_type": "code",
   "execution_count": 8,
   "metadata": {
    "collapsed": true
   },
   "outputs": [],
   "source": [
    "#How many city names start with the letter 'A' and how many don't? Use the str vectorized series attribute"
   ]
  },
  {
   "cell_type": "code",
   "execution_count": 37,
   "metadata": {},
   "outputs": [
    {
     "data": {
      "text/plain": [
       "False    521\n",
       "True      34\n",
       "Name: City, dtype: int64"
      ]
     },
     "execution_count": 37,
     "metadata": {},
     "output_type": "execute_result"
    }
   ],
   "source": [
    "#Answer here\n",
    "\n",
    "df['City'].str.startswith('A').value_counts() #这是不对的！没有去重！"
   ]
  },
  {
   "cell_type": "code",
   "execution_count": 39,
   "metadata": {},
   "outputs": [
    {
     "data": {
      "text/plain": [
       "19"
      ]
     },
     "execution_count": 39,
     "metadata": {},
     "output_type": "execute_result"
    }
   ],
   "source": [
    "len(df.loc[df['City'].str.startswith(\"A\")==True,['City']].drop_duplicates())"
   ]
  },
  {
   "cell_type": "markdown",
   "metadata": {},
   "source": [
    "**Answer: There are 19 city names start with A, and 521 names don't.**"
   ]
  },
  {
   "cell_type": "code",
   "execution_count": 10,
   "metadata": {
    "collapsed": true
   },
   "outputs": [],
   "source": [
    "#What are the cities whose names consist of 2 words and how many are there?"
   ]
  },
  {
   "cell_type": "code",
   "execution_count": 11,
   "metadata": {},
   "outputs": [
    {
     "data": {
      "text/plain": [
       "1    417\n",
       "2    130\n",
       "3      8\n",
       "Name: City, dtype: int64"
      ]
     },
     "execution_count": 11,
     "metadata": {},
     "output_type": "execute_result"
    }
   ],
   "source": [
    "#Answer here\n",
    "df['City'].str.split().apply(len).value_counts() #see the whole stats"
   ]
  },
  {
   "cell_type": "code",
   "execution_count": 12,
   "metadata": {},
   "outputs": [
    {
     "data": {
      "text/plain": [
       "130"
      ]
     },
     "execution_count": 12,
     "metadata": {},
     "output_type": "execute_result"
    }
   ],
   "source": [
    "df['City'].str.split().apply(len).value_counts()[2] #only get the number of names with 2 words."
   ]
  },
  {
   "cell_type": "markdown",
   "metadata": {},
   "source": [
    "**Answer: There are 130 names consist of 2 words, and 425 names don't.**"
   ]
  },
  {
   "cell_type": "markdown",
   "metadata": {},
   "source": [
    "## Question 2 (50 points)"
   ]
  },
  {
   "cell_type": "code",
   "execution_count": 13,
   "metadata": {
    "collapsed": true
   },
   "outputs": [],
   "source": [
    "#Part A use various apply and group by methods studied in class to obtain the city for each \n",
    "#state corresponding to the smallest number of certificates (CERT column).\n",
    "\n",
    "#Part B Then, display only the city, state combinations from above\n",
    "#along with the number of certificates\n",
    "#(data frame with 3 columns) for which the Acquiring Institution contains  3 words. For example,\n",
    "# First NBC Bank\n",
    "#(for this exercise, you can count symbols\n",
    "#like & and others as words for each Acquiring Institution)\n"
   ]
  },
  {
   "cell_type": "code",
   "execution_count": 14,
   "metadata": {},
   "outputs": [
    {
     "data": {
      "text/html": [
       "<div>\n",
       "<style>\n",
       "    .dataframe thead tr:only-child th {\n",
       "        text-align: right;\n",
       "    }\n",
       "\n",
       "    .dataframe thead th {\n",
       "        text-align: left;\n",
       "    }\n",
       "\n",
       "    .dataframe tbody tr th {\n",
       "        vertical-align: top;\n",
       "    }\n",
       "</style>\n",
       "<table border=\"1\" class=\"dataframe\">\n",
       "  <thead>\n",
       "    <tr style=\"text-align: right;\">\n",
       "      <th></th>\n",
       "      <th>City</th>\n",
       "      <th>CERT</th>\n",
       "    </tr>\n",
       "    <tr>\n",
       "      <th>ST</th>\n",
       "      <th></th>\n",
       "      <th></th>\n",
       "    </tr>\n",
       "  </thead>\n",
       "  <tbody>\n",
       "    <tr>\n",
       "      <th>AL</th>\n",
       "      <td>Montgomery</td>\n",
       "      <td>9609</td>\n",
       "    </tr>\n",
       "    <tr>\n",
       "      <th>AR</th>\n",
       "      <td>Mulberry</td>\n",
       "      <td>91</td>\n",
       "    </tr>\n",
       "    <tr>\n",
       "      <th>AZ</th>\n",
       "      <td>Phoenix</td>\n",
       "      <td>22314</td>\n",
       "    </tr>\n",
       "    <tr>\n",
       "      <th>CA</th>\n",
       "      <td>Merced</td>\n",
       "      <td>22574</td>\n",
       "    </tr>\n",
       "    <tr>\n",
       "      <th>CO</th>\n",
       "      <td>Greeley</td>\n",
       "      <td>2994</td>\n",
       "    </tr>\n",
       "  </tbody>\n",
       "</table>\n",
       "</div>"
      ],
      "text/plain": [
       "          City   CERT\n",
       "ST                   \n",
       "AL  Montgomery   9609\n",
       "AR    Mulberry     91\n",
       "AZ     Phoenix  22314\n",
       "CA      Merced  22574\n",
       "CO     Greeley   2994"
      ]
     },
     "execution_count": 14,
     "metadata": {},
     "output_type": "execute_result"
    }
   ],
   "source": [
    "#Part A starts Here.\n",
    "\n",
    "def count_cert(data): \n",
    "    idx = data['CERT'].idxmin() #find the min index of CERT\n",
    "    res = data.loc[idx, ['City','CERT']] #get the City and CERT responding to that index\n",
    "    return res\n",
    "\n",
    "grouped=df.groupby('ST')[['City','CERT']].apply(count_cert)\n",
    "grouped.head()"
   ]
  },
  {
   "cell_type": "code",
   "execution_count": 15,
   "metadata": {},
   "outputs": [
    {
     "data": {
      "text/plain": [
       "44"
      ]
     },
     "execution_count": 15,
     "metadata": {},
     "output_type": "execute_result"
    }
   ],
   "source": [
    "len(grouped) #make sure there are 44 rows."
   ]
  },
  {
   "cell_type": "code",
   "execution_count": 16,
   "metadata": {},
   "outputs": [
    {
     "data": {
      "text/plain": [
       "ST  City        \n",
       "AL  Birmingham      17750\n",
       "    Fort Deposit    24957\n",
       "    Irondale        32276\n",
       "    Montgomery       9609\n",
       "    Sylacauga       35224\n",
       "AR  Batesville      58052\n",
       "    Bentonville     33901\n",
       "    Gravette        34248\n",
       "    Mulberry           91\n",
       "AZ  Flagstaff       34875\n",
       "Name: CERT, dtype: int64"
      ]
     },
     "execution_count": 16,
     "metadata": {},
     "output_type": "execute_result"
    }
   ],
   "source": [
    "#now, check to make sure it is correct for 2 of the items above: \n",
    "df.groupby(['ST','City'])['CERT'].min()[0:10]"
   ]
  },
  {
   "cell_type": "code",
   "execution_count": 17,
   "metadata": {},
   "outputs": [
    {
     "data": {
      "text/plain": [
       "[['Royal', 'Savings', 'Bank'],\n",
       " ['Conway', 'Bank'],\n",
       " ['United', 'Fidelity', 'Bank,', 'fsb'],\n",
       " ['First-Citizens', 'Bank', '&', 'Trust', 'Company'],\n",
       " ['Whitney', 'Bank']]"
      ]
     },
     "execution_count": 17,
     "metadata": {},
     "output_type": "execute_result"
    }
   ],
   "source": [
    "len_acq_inst=[x for x in df['Acquiring Institution'].str.split(\" \")]\n",
    "len_acq_inst[0:5]"
   ]
  },
  {
   "cell_type": "code",
   "execution_count": 18,
   "metadata": {},
   "outputs": [
    {
     "data": {
      "text/plain": [
       "True"
      ]
     },
     "execution_count": 18,
     "metadata": {},
     "output_type": "execute_result"
    }
   ],
   "source": [
    "len(len_acq_inst)==len(df)"
   ]
  },
  {
   "cell_type": "code",
   "execution_count": 19,
   "metadata": {},
   "outputs": [
    {
     "data": {
      "text/html": [
       "<div>\n",
       "<style>\n",
       "    .dataframe thead tr:only-child th {\n",
       "        text-align: right;\n",
       "    }\n",
       "\n",
       "    .dataframe thead th {\n",
       "        text-align: left;\n",
       "    }\n",
       "\n",
       "    .dataframe tbody tr th {\n",
       "        vertical-align: top;\n",
       "    }\n",
       "</style>\n",
       "<table border=\"1\" class=\"dataframe\">\n",
       "  <thead>\n",
       "    <tr style=\"text-align: right;\">\n",
       "      <th></th>\n",
       "      <th>ST</th>\n",
       "      <th>City</th>\n",
       "      <th>ail</th>\n",
       "    </tr>\n",
       "  </thead>\n",
       "  <tbody>\n",
       "    <tr>\n",
       "      <th>0</th>\n",
       "      <td>IL</td>\n",
       "      <td>Chicago</td>\n",
       "      <td>[Royal, Savings, Bank]</td>\n",
       "    </tr>\n",
       "    <tr>\n",
       "      <th>1</th>\n",
       "      <td>KS</td>\n",
       "      <td>Argonia</td>\n",
       "      <td>[Conway, Bank]</td>\n",
       "    </tr>\n",
       "    <tr>\n",
       "      <th>2</th>\n",
       "      <td>IL</td>\n",
       "      <td>Saint Elmo</td>\n",
       "      <td>[United, Fidelity, Bank,, fsb]</td>\n",
       "    </tr>\n",
       "    <tr>\n",
       "      <th>3</th>\n",
       "      <td>WI</td>\n",
       "      <td>Milwaukee</td>\n",
       "      <td>[First-Citizens, Bank, &amp;, Trust, Company]</td>\n",
       "    </tr>\n",
       "    <tr>\n",
       "      <th>4</th>\n",
       "      <td>LA</td>\n",
       "      <td>New Orleans</td>\n",
       "      <td>[Whitney, Bank]</td>\n",
       "    </tr>\n",
       "  </tbody>\n",
       "</table>\n",
       "</div>"
      ],
      "text/plain": [
       "   ST         City                                        ail\n",
       "0  IL      Chicago                     [Royal, Savings, Bank]\n",
       "1  KS      Argonia                             [Conway, Bank]\n",
       "2  IL   Saint Elmo             [United, Fidelity, Bank,, fsb]\n",
       "3  WI    Milwaukee  [First-Citizens, Bank, &, Trust, Company]\n",
       "4  LA  New Orleans                            [Whitney, Bank]"
      ]
     },
     "execution_count": 19,
     "metadata": {},
     "output_type": "execute_result"
    }
   ],
   "source": [
    "#now, append the length array to original data frame, and then merge with the above by \n",
    "# state and city: \n",
    "\n",
    "df['ail']=len_acq_inst\n",
    "df2=df[['ST','City','ail']]\n",
    "df2.head()"
   ]
  },
  {
   "cell_type": "code",
   "execution_count": 20,
   "metadata": {
    "collapsed": true
   },
   "outputs": [],
   "source": [
    "# For this part review reset_index use inplace. \n",
    "# The grouped data has state as the index. SO you need to reindex grouped data before the merge.\n",
    "\n",
    "grouped.reset_index(inplace=True)"
   ]
  },
  {
   "cell_type": "code",
   "execution_count": 21,
   "metadata": {
    "collapsed": true
   },
   "outputs": [],
   "source": [
    "#now you write the code to merge the data frames properly:\n",
    "#your code goes here\n",
    "\n",
    "merged = pd.merge(df2, grouped, on=['ST', 'City'])"
   ]
  },
  {
   "cell_type": "code",
   "execution_count": 22,
   "metadata": {},
   "outputs": [
    {
     "data": {
      "text/html": [
       "<div>\n",
       "<style>\n",
       "    .dataframe thead tr:only-child th {\n",
       "        text-align: right;\n",
       "    }\n",
       "\n",
       "    .dataframe thead th {\n",
       "        text-align: left;\n",
       "    }\n",
       "\n",
       "    .dataframe tbody tr th {\n",
       "        vertical-align: top;\n",
       "    }\n",
       "</style>\n",
       "<table border=\"1\" class=\"dataframe\">\n",
       "  <thead>\n",
       "    <tr style=\"text-align: right;\">\n",
       "      <th></th>\n",
       "      <th>ST</th>\n",
       "      <th>City</th>\n",
       "      <th>ail</th>\n",
       "      <th>CERT</th>\n",
       "    </tr>\n",
       "  </thead>\n",
       "  <tbody>\n",
       "    <tr>\n",
       "      <th>0</th>\n",
       "      <td>IL</td>\n",
       "      <td>Chicago</td>\n",
       "      <td>[Royal, Savings, Bank]</td>\n",
       "      <td>916</td>\n",
       "    </tr>\n",
       "    <tr>\n",
       "      <th>1</th>\n",
       "      <td>IL</td>\n",
       "      <td>Chicago</td>\n",
       "      <td>[State, Bank, of, Texas]</td>\n",
       "      <td>916</td>\n",
       "    </tr>\n",
       "    <tr>\n",
       "      <th>2</th>\n",
       "      <td>IL</td>\n",
       "      <td>Chicago</td>\n",
       "      <td>[Republic, Bank, of, Chicago]</td>\n",
       "      <td>916</td>\n",
       "    </tr>\n",
       "    <tr>\n",
       "      <th>3</th>\n",
       "      <td>IL</td>\n",
       "      <td>Chicago</td>\n",
       "      <td>[United, Fidelity, Bank,, fsb]</td>\n",
       "      <td>916</td>\n",
       "    </tr>\n",
       "    <tr>\n",
       "      <th>4</th>\n",
       "      <td>IL</td>\n",
       "      <td>Chicago</td>\n",
       "      <td>[State, Bank, of, Texas]</td>\n",
       "      <td>916</td>\n",
       "    </tr>\n",
       "  </tbody>\n",
       "</table>\n",
       "</div>"
      ],
      "text/plain": [
       "   ST     City                             ail  CERT\n",
       "0  IL  Chicago          [Royal, Savings, Bank]   916\n",
       "1  IL  Chicago        [State, Bank, of, Texas]   916\n",
       "2  IL  Chicago   [Republic, Bank, of, Chicago]   916\n",
       "3  IL  Chicago  [United, Fidelity, Bank,, fsb]   916\n",
       "4  IL  Chicago        [State, Bank, of, Texas]   916"
      ]
     },
     "execution_count": 22,
     "metadata": {},
     "output_type": "execute_result"
    }
   ],
   "source": [
    "merged.head()"
   ]
  },
  {
   "cell_type": "code",
   "execution_count": 23,
   "metadata": {},
   "outputs": [
    {
     "name": "stdout",
     "output_type": "stream",
     "text": [
      "<class 'pandas.core.frame.DataFrame'>\n",
      "Int64Index: 73 entries, 0 to 72\n",
      "Data columns (total 4 columns):\n",
      "ST      73 non-null object\n",
      "City    73 non-null object\n",
      "ail     73 non-null object\n",
      "CERT    73 non-null int64\n",
      "dtypes: int64(1), object(3)\n",
      "memory usage: 2.9+ KB\n"
     ]
    }
   ],
   "source": [
    "merged.info() #there are 73 rows"
   ]
  },
  {
   "cell_type": "code",
   "execution_count": 24,
   "metadata": {
    "collapsed": true
   },
   "outputs": [],
   "source": [
    "#Part B Answer here.\n",
    "#remember the drop_duplicates() method when you write your code here\n",
    "\n",
    "merged['ail'] = merged.ail.apply(len) #translate the lists to lengths"
   ]
  },
  {
   "cell_type": "code",
   "execution_count": 25,
   "metadata": {
    "collapsed": true
   },
   "outputs": [],
   "source": [
    "final = merged[merged['ail']==3].drop_duplicates()"
   ]
  },
  {
   "cell_type": "code",
   "execution_count": 26,
   "metadata": {},
   "outputs": [
    {
     "data": {
      "text/html": [
       "<div>\n",
       "<style>\n",
       "    .dataframe thead tr:only-child th {\n",
       "        text-align: right;\n",
       "    }\n",
       "\n",
       "    .dataframe thead th {\n",
       "        text-align: left;\n",
       "    }\n",
       "\n",
       "    .dataframe tbody tr th {\n",
       "        vertical-align: top;\n",
       "    }\n",
       "</style>\n",
       "<table border=\"1\" class=\"dataframe\">\n",
       "  <thead>\n",
       "    <tr style=\"text-align: right;\">\n",
       "      <th></th>\n",
       "      <th>ST</th>\n",
       "      <th>City</th>\n",
       "      <th>ail</th>\n",
       "      <th>CERT</th>\n",
       "    </tr>\n",
       "  </thead>\n",
       "  <tbody>\n",
       "    <tr>\n",
       "      <th>0</th>\n",
       "      <td>IL</td>\n",
       "      <td>Chicago</td>\n",
       "      <td>3</td>\n",
       "      <td>916</td>\n",
       "    </tr>\n",
       "    <tr>\n",
       "      <th>24</th>\n",
       "      <td>SC</td>\n",
       "      <td>Fairfax</td>\n",
       "      <td>3</td>\n",
       "      <td>15062</td>\n",
       "    </tr>\n",
       "    <tr>\n",
       "      <th>29</th>\n",
       "      <td>AZ</td>\n",
       "      <td>Phoenix</td>\n",
       "      <td>3</td>\n",
       "      <td>22314</td>\n",
       "    </tr>\n",
       "    <tr>\n",
       "      <th>32</th>\n",
       "      <td>KY</td>\n",
       "      <td>Lexington</td>\n",
       "      <td>3</td>\n",
       "      <td>29594</td>\n",
       "    </tr>\n",
       "    <tr>\n",
       "      <th>35</th>\n",
       "      <td>MO</td>\n",
       "      <td>Glasgow</td>\n",
       "      <td>3</td>\n",
       "      <td>1056</td>\n",
       "    </tr>\n",
       "    <tr>\n",
       "      <th>38</th>\n",
       "      <td>MN</td>\n",
       "      <td>Forest Lake</td>\n",
       "      <td>3</td>\n",
       "      <td>1909</td>\n",
       "    </tr>\n",
       "    <tr>\n",
       "      <th>40</th>\n",
       "      <td>IA</td>\n",
       "      <td>Johnston</td>\n",
       "      <td>3</td>\n",
       "      <td>14194</td>\n",
       "    </tr>\n",
       "    <tr>\n",
       "      <th>42</th>\n",
       "      <td>IN</td>\n",
       "      <td>Evansville</td>\n",
       "      <td>3</td>\n",
       "      <td>4392</td>\n",
       "    </tr>\n",
       "    <tr>\n",
       "      <th>43</th>\n",
       "      <td>CO</td>\n",
       "      <td>Greeley</td>\n",
       "      <td>3</td>\n",
       "      <td>2994</td>\n",
       "    </tr>\n",
       "    <tr>\n",
       "      <th>45</th>\n",
       "      <td>WA</td>\n",
       "      <td>Burlington</td>\n",
       "      <td>3</td>\n",
       "      <td>513</td>\n",
       "    </tr>\n",
       "    <tr>\n",
       "      <th>46</th>\n",
       "      <td>MS</td>\n",
       "      <td>Carthage</td>\n",
       "      <td>3</td>\n",
       "      <td>14273</td>\n",
       "    </tr>\n",
       "    <tr>\n",
       "      <th>47</th>\n",
       "      <td>GA</td>\n",
       "      <td>Clarkesville</td>\n",
       "      <td>3</td>\n",
       "      <td>151</td>\n",
       "    </tr>\n",
       "    <tr>\n",
       "      <th>48</th>\n",
       "      <td>NM</td>\n",
       "      <td>Taos</td>\n",
       "      <td>3</td>\n",
       "      <td>12261</td>\n",
       "    </tr>\n",
       "    <tr>\n",
       "      <th>49</th>\n",
       "      <td>WI</td>\n",
       "      <td>Burlington</td>\n",
       "      <td>3</td>\n",
       "      <td>5287</td>\n",
       "    </tr>\n",
       "    <tr>\n",
       "      <th>52</th>\n",
       "      <td>MA</td>\n",
       "      <td>Lowell</td>\n",
       "      <td>3</td>\n",
       "      <td>26619</td>\n",
       "    </tr>\n",
       "    <tr>\n",
       "      <th>53</th>\n",
       "      <td>TX</td>\n",
       "      <td>La Coste</td>\n",
       "      <td>3</td>\n",
       "      <td>3287</td>\n",
       "    </tr>\n",
       "    <tr>\n",
       "      <th>55</th>\n",
       "      <td>OR</td>\n",
       "      <td>The Dalles</td>\n",
       "      <td>3</td>\n",
       "      <td>22469</td>\n",
       "    </tr>\n",
       "    <tr>\n",
       "      <th>58</th>\n",
       "      <td>SD</td>\n",
       "      <td>Sioux Falls</td>\n",
       "      <td>3</td>\n",
       "      <td>34103</td>\n",
       "    </tr>\n",
       "    <tr>\n",
       "      <th>65</th>\n",
       "      <td>UT</td>\n",
       "      <td>Ephraim</td>\n",
       "      <td>3</td>\n",
       "      <td>1249</td>\n",
       "    </tr>\n",
       "    <tr>\n",
       "      <th>66</th>\n",
       "      <td>NY</td>\n",
       "      <td>White Plains</td>\n",
       "      <td>3</td>\n",
       "      <td>26778</td>\n",
       "    </tr>\n",
       "    <tr>\n",
       "      <th>69</th>\n",
       "      <td>CT</td>\n",
       "      <td>Stamford</td>\n",
       "      <td>3</td>\n",
       "      <td>19183</td>\n",
       "    </tr>\n",
       "    <tr>\n",
       "      <th>70</th>\n",
       "      <td>OH</td>\n",
       "      <td>Malta</td>\n",
       "      <td>3</td>\n",
       "      <td>6629</td>\n",
       "    </tr>\n",
       "  </tbody>\n",
       "</table>\n",
       "</div>"
      ],
      "text/plain": [
       "    ST          City  ail   CERT\n",
       "0   IL       Chicago    3    916\n",
       "24  SC       Fairfax    3  15062\n",
       "29  AZ       Phoenix    3  22314\n",
       "32  KY     Lexington    3  29594\n",
       "35  MO       Glasgow    3   1056\n",
       "38  MN   Forest Lake    3   1909\n",
       "40  IA      Johnston    3  14194\n",
       "42  IN    Evansville    3   4392\n",
       "43  CO       Greeley    3   2994\n",
       "45  WA    Burlington    3    513\n",
       "46  MS      Carthage    3  14273\n",
       "47  GA  Clarkesville    3    151\n",
       "48  NM          Taos    3  12261\n",
       "49  WI    Burlington    3   5287\n",
       "52  MA        Lowell    3  26619\n",
       "53  TX      La Coste    3   3287\n",
       "55  OR    The Dalles    3  22469\n",
       "58  SD   Sioux Falls    3  34103\n",
       "65  UT       Ephraim    3   1249\n",
       "66  NY  White Plains    3  26778\n",
       "69  CT      Stamford    3  19183\n",
       "70  OH         Malta    3   6629"
      ]
     },
     "execution_count": 26,
     "metadata": {},
     "output_type": "execute_result"
    }
   ],
   "source": [
    "final"
   ]
  },
  {
   "cell_type": "code",
   "execution_count": 27,
   "metadata": {},
   "outputs": [
    {
     "data": {
      "text/plain": [
       "22"
      ]
     },
     "execution_count": 27,
     "metadata": {},
     "output_type": "execute_result"
    }
   ],
   "source": [
    "len(final)"
   ]
  },
  {
   "cell_type": "markdown",
   "metadata": {},
   "source": [
    "## Question 3 (30 points)"
   ]
  },
  {
   "cell_type": "code",
   "execution_count": 28,
   "metadata": {
    "collapsed": true
   },
   "outputs": [],
   "source": [
    "#Part A let us obtain a distribution of CERT column across all records.\n",
    "\n",
    "# Part B Then, let us subset the original data frame to \n",
    "#only consider records for which CERT is smaller than 10th percentile of the total. \n",
    "\n",
    "# Part C. Then, for these records, use pivot table\n",
    "# method to obtain the min, max, and average CERT for each ST combination for \n",
    "# which the number of records is more than 1. We will have index for \n",
    "#state, and then 4 columns: ST,min_CERT, max_CERT, mean_CERT for CERT (make sure\n",
    "# you do not have a multi-level data frame! \n",
    "\n",
    "#Part D display a bar plot for the first 3 states in the resulting\n",
    "#data frame: each of the 3 states will be on x axis, and the corresponding 3 summary \n",
    "# statistics will be the 3 bars - stacked Mean Cert ,Max Cert and Min Cert\n",
    "#bar plot."
   ]
  },
  {
   "cell_type": "code",
   "execution_count": 29,
   "metadata": {},
   "outputs": [
    {
     "data": {
      "text/plain": [
       "count      555.000000\n",
       "mean     31702.318919\n",
       "std      16401.784351\n",
       "min         91.000000\n",
       "0%          91.000000\n",
       "10%      10091.600000\n",
       "20%      18217.800000\n",
       "30.0%    22772.400000\n",
       "40%      27325.000000\n",
       "50%      32185.000000\n",
       "60.0%    34266.400000\n",
       "70%      35027.200000\n",
       "80%      57105.400000\n",
       "90%      57833.400000\n",
       "max      58701.000000\n",
       "Name: CERT, dtype: float64"
      ]
     },
     "execution_count": 29,
     "metadata": {},
     "output_type": "execute_result"
    }
   ],
   "source": [
    "#Part A answer here\n",
    "import numpy as np\n",
    "df.CERT.describe(percentiles=np.arange(0,1,0.1))\n"
   ]
  },
  {
   "cell_type": "code",
   "execution_count": 30,
   "metadata": {},
   "outputs": [
    {
     "data": {
      "text/plain": [
       "10091.6"
      ]
     },
     "execution_count": 30,
     "metadata": {},
     "output_type": "execute_result"
    }
   ],
   "source": [
    "#Part B answer here\n",
    "\n",
    "ten_pct = df.CERT.describe(percentiles=np.arange(0,1,0.1)).loc['10%']\n",
    "ten_pct"
   ]
  },
  {
   "cell_type": "code",
   "execution_count": 31,
   "metadata": {},
   "outputs": [
    {
     "data": {
      "text/html": [
       "<div>\n",
       "<style>\n",
       "    .dataframe thead tr:only-child th {\n",
       "        text-align: right;\n",
       "    }\n",
       "\n",
       "    .dataframe thead th {\n",
       "        text-align: left;\n",
       "    }\n",
       "\n",
       "    .dataframe tbody tr th {\n",
       "        vertical-align: top;\n",
       "    }\n",
       "</style>\n",
       "<table border=\"1\" class=\"dataframe\">\n",
       "  <thead>\n",
       "    <tr style=\"text-align: right;\">\n",
       "      <th></th>\n",
       "      <th>Bank Name</th>\n",
       "      <th>City</th>\n",
       "      <th>ST</th>\n",
       "      <th>CERT</th>\n",
       "      <th>Acquiring Institution</th>\n",
       "      <th>Closing Date</th>\n",
       "      <th>Updated Date</th>\n",
       "      <th>ail</th>\n",
       "    </tr>\n",
       "  </thead>\n",
       "  <tbody>\n",
       "    <tr>\n",
       "      <th>2</th>\n",
       "      <td>Fayette County Bank</td>\n",
       "      <td>Saint Elmo</td>\n",
       "      <td>IL</td>\n",
       "      <td>1802</td>\n",
       "      <td>United Fidelity Bank, fsb</td>\n",
       "      <td>26-May-17</td>\n",
       "      <td>26-Jul-17</td>\n",
       "      <td>[United, Fidelity, Bank,, fsb]</td>\n",
       "    </tr>\n",
       "    <tr>\n",
       "      <th>8</th>\n",
       "      <td>Allied Bank</td>\n",
       "      <td>Mulberry</td>\n",
       "      <td>AR</td>\n",
       "      <td>91</td>\n",
       "      <td>Today's Bank</td>\n",
       "      <td>23-Sep-16</td>\n",
       "      <td>25-Sep-17</td>\n",
       "      <td>[Today's, Bank]</td>\n",
       "    </tr>\n",
       "    <tr>\n",
       "      <th>11</th>\n",
       "      <td>Trust Company Bank</td>\n",
       "      <td>Memphis</td>\n",
       "      <td>TN</td>\n",
       "      <td>9956</td>\n",
       "      <td>The Bank of Fayette County</td>\n",
       "      <td>29-Apr-16</td>\n",
       "      <td>6-Sep-16</td>\n",
       "      <td>[The, Bank, of, Fayette, County]</td>\n",
       "    </tr>\n",
       "    <tr>\n",
       "      <th>23</th>\n",
       "      <td>The National Republic Bank of Chicago</td>\n",
       "      <td>Chicago</td>\n",
       "      <td>IL</td>\n",
       "      <td>916</td>\n",
       "      <td>State Bank of Texas</td>\n",
       "      <td>24-Oct-14</td>\n",
       "      <td>6-Jan-16</td>\n",
       "      <td>[State, Bank, of, Texas]</td>\n",
       "    </tr>\n",
       "    <tr>\n",
       "      <th>24</th>\n",
       "      <td>NBRS Financial</td>\n",
       "      <td>Rising Sun</td>\n",
       "      <td>MD</td>\n",
       "      <td>4862</td>\n",
       "      <td>Howard Bank</td>\n",
       "      <td>17-Oct-14</td>\n",
       "      <td>19-Feb-18</td>\n",
       "      <td>[Howard, Bank]</td>\n",
       "    </tr>\n",
       "  </tbody>\n",
       "</table>\n",
       "</div>"
      ],
      "text/plain": [
       "                                Bank Name        City  ST  CERT  \\\n",
       "2                     Fayette County Bank  Saint Elmo  IL  1802   \n",
       "8                             Allied Bank    Mulberry  AR    91   \n",
       "11                     Trust Company Bank     Memphis  TN  9956   \n",
       "23  The National Republic Bank of Chicago     Chicago  IL   916   \n",
       "24                         NBRS Financial  Rising Sun  MD  4862   \n",
       "\n",
       "         Acquiring Institution Closing Date Updated Date  \\\n",
       "2    United Fidelity Bank, fsb    26-May-17    26-Jul-17   \n",
       "8                 Today's Bank    23-Sep-16    25-Sep-17   \n",
       "11  The Bank of Fayette County    29-Apr-16     6-Sep-16   \n",
       "23         State Bank of Texas    24-Oct-14     6-Jan-16   \n",
       "24                 Howard Bank    17-Oct-14    19-Feb-18   \n",
       "\n",
       "                                 ail  \n",
       "2     [United, Fidelity, Bank,, fsb]  \n",
       "8                    [Today's, Bank]  \n",
       "11  [The, Bank, of, Fayette, County]  \n",
       "23          [State, Bank, of, Texas]  \n",
       "24                    [Howard, Bank]  "
      ]
     },
     "execution_count": 31,
     "metadata": {},
     "output_type": "execute_result"
    }
   ],
   "source": [
    "subset = df.loc[df['CERT']<ten_pct,:]\n",
    "subset.head()"
   ]
  },
  {
   "cell_type": "code",
   "execution_count": 32,
   "metadata": {},
   "outputs": [
    {
     "name": "stderr",
     "output_type": "stream",
     "text": [
      "/anaconda3/lib/python3.6/site-packages/ipykernel_launcher.py:10: SettingWithCopyWarning: \n",
      "A value is trying to be set on a copy of a slice from a DataFrame.\n",
      "Try using .loc[row_indexer,col_indexer] = value instead\n",
      "\n",
      "See the caveats in the documentation: http://pandas.pydata.org/pandas-docs/stable/indexing.html#indexing-view-versus-copy\n",
      "  # Remove the CWD from sys.path while we load stuff.\n"
     ]
    }
   ],
   "source": [
    "## Part C. Then, for these records, use pivot table method\n",
    "# to obtain the min, max, and average CERT for each ST combination for \n",
    "# which the number of records is more than 1. We will have index for \n",
    "# state, and then 4 columns: ST,min_CERT, max_CERT, mean_CERT for CERT (make sure\n",
    "# you do not have a multi-level data frame! \n",
    "\n",
    "# Answer.here\n",
    "mapping = subset.ST.value_counts() # create a mapping which gets the count of each state\n",
    "temp = subset.copy() # create a temporary dataset to avoid index error \n",
    "subset['st_count'] = temp.ST.apply(lambda x: mapping[x]) # use mapping to get the count and apply it to a new column"
   ]
  },
  {
   "cell_type": "code",
   "execution_count": 33,
   "metadata": {},
   "outputs": [
    {
     "data": {
      "text/html": [
       "<div>\n",
       "<style>\n",
       "    .dataframe thead tr:only-child th {\n",
       "        text-align: right;\n",
       "    }\n",
       "\n",
       "    .dataframe thead th {\n",
       "        text-align: left;\n",
       "    }\n",
       "\n",
       "    .dataframe tbody tr th {\n",
       "        vertical-align: top;\n",
       "    }\n",
       "</style>\n",
       "<table border=\"1\" class=\"dataframe\">\n",
       "  <thead>\n",
       "    <tr style=\"text-align: right;\">\n",
       "      <th></th>\n",
       "      <th>Bank Name</th>\n",
       "      <th>City</th>\n",
       "      <th>ST</th>\n",
       "      <th>CERT</th>\n",
       "      <th>Acquiring Institution</th>\n",
       "      <th>Closing Date</th>\n",
       "      <th>Updated Date</th>\n",
       "      <th>ail</th>\n",
       "      <th>st_count</th>\n",
       "    </tr>\n",
       "  </thead>\n",
       "  <tbody>\n",
       "    <tr>\n",
       "      <th>2</th>\n",
       "      <td>Fayette County Bank</td>\n",
       "      <td>Saint Elmo</td>\n",
       "      <td>IL</td>\n",
       "      <td>1802</td>\n",
       "      <td>United Fidelity Bank, fsb</td>\n",
       "      <td>26-May-17</td>\n",
       "      <td>26-Jul-17</td>\n",
       "      <td>[United, Fidelity, Bank,, fsb]</td>\n",
       "      <td>12</td>\n",
       "    </tr>\n",
       "    <tr>\n",
       "      <th>8</th>\n",
       "      <td>Allied Bank</td>\n",
       "      <td>Mulberry</td>\n",
       "      <td>AR</td>\n",
       "      <td>91</td>\n",
       "      <td>Today's Bank</td>\n",
       "      <td>23-Sep-16</td>\n",
       "      <td>25-Sep-17</td>\n",
       "      <td>[Today's, Bank]</td>\n",
       "      <td>1</td>\n",
       "    </tr>\n",
       "    <tr>\n",
       "      <th>11</th>\n",
       "      <td>Trust Company Bank</td>\n",
       "      <td>Memphis</td>\n",
       "      <td>TN</td>\n",
       "      <td>9956</td>\n",
       "      <td>The Bank of Fayette County</td>\n",
       "      <td>29-Apr-16</td>\n",
       "      <td>6-Sep-16</td>\n",
       "      <td>[The, Bank, of, Fayette, County]</td>\n",
       "      <td>3</td>\n",
       "    </tr>\n",
       "    <tr>\n",
       "      <th>23</th>\n",
       "      <td>The National Republic Bank of Chicago</td>\n",
       "      <td>Chicago</td>\n",
       "      <td>IL</td>\n",
       "      <td>916</td>\n",
       "      <td>State Bank of Texas</td>\n",
       "      <td>24-Oct-14</td>\n",
       "      <td>6-Jan-16</td>\n",
       "      <td>[State, Bank, of, Texas]</td>\n",
       "      <td>12</td>\n",
       "    </tr>\n",
       "    <tr>\n",
       "      <th>24</th>\n",
       "      <td>NBRS Financial</td>\n",
       "      <td>Rising Sun</td>\n",
       "      <td>MD</td>\n",
       "      <td>4862</td>\n",
       "      <td>Howard Bank</td>\n",
       "      <td>17-Oct-14</td>\n",
       "      <td>19-Feb-18</td>\n",
       "      <td>[Howard, Bank]</td>\n",
       "      <td>1</td>\n",
       "    </tr>\n",
       "  </tbody>\n",
       "</table>\n",
       "</div>"
      ],
      "text/plain": [
       "                                Bank Name        City  ST  CERT  \\\n",
       "2                     Fayette County Bank  Saint Elmo  IL  1802   \n",
       "8                             Allied Bank    Mulberry  AR    91   \n",
       "11                     Trust Company Bank     Memphis  TN  9956   \n",
       "23  The National Republic Bank of Chicago     Chicago  IL   916   \n",
       "24                         NBRS Financial  Rising Sun  MD  4862   \n",
       "\n",
       "         Acquiring Institution Closing Date Updated Date  \\\n",
       "2    United Fidelity Bank, fsb    26-May-17    26-Jul-17   \n",
       "8                 Today's Bank    23-Sep-16    25-Sep-17   \n",
       "11  The Bank of Fayette County    29-Apr-16     6-Sep-16   \n",
       "23         State Bank of Texas    24-Oct-14     6-Jan-16   \n",
       "24                 Howard Bank    17-Oct-14    19-Feb-18   \n",
       "\n",
       "                                 ail  st_count  \n",
       "2     [United, Fidelity, Bank,, fsb]        12  \n",
       "8                    [Today's, Bank]         1  \n",
       "11  [The, Bank, of, Fayette, County]         3  \n",
       "23          [State, Bank, of, Texas]        12  \n",
       "24                    [Howard, Bank]         1  "
      ]
     },
     "execution_count": 33,
     "metadata": {},
     "output_type": "execute_result"
    }
   ],
   "source": [
    "subset.head()"
   ]
  },
  {
   "cell_type": "code",
   "execution_count": 34,
   "metadata": {},
   "outputs": [
    {
     "data": {
      "text/html": [
       "<div>\n",
       "<style>\n",
       "    .dataframe thead tr:only-child th {\n",
       "        text-align: right;\n",
       "    }\n",
       "\n",
       "    .dataframe thead th {\n",
       "        text-align: left;\n",
       "    }\n",
       "\n",
       "    .dataframe tbody tr th {\n",
       "        vertical-align: top;\n",
       "    }\n",
       "</style>\n",
       "<table border=\"1\" class=\"dataframe\">\n",
       "  <thead>\n",
       "    <tr style=\"text-align: right;\">\n",
       "      <th></th>\n",
       "      <th>Bank Name</th>\n",
       "      <th>City</th>\n",
       "      <th>ST</th>\n",
       "      <th>CERT</th>\n",
       "      <th>Acquiring Institution</th>\n",
       "      <th>Closing Date</th>\n",
       "      <th>Updated Date</th>\n",
       "      <th>ail</th>\n",
       "      <th>st_count</th>\n",
       "    </tr>\n",
       "  </thead>\n",
       "  <tbody>\n",
       "    <tr>\n",
       "      <th>2</th>\n",
       "      <td>Fayette County Bank</td>\n",
       "      <td>Saint Elmo</td>\n",
       "      <td>IL</td>\n",
       "      <td>1802</td>\n",
       "      <td>United Fidelity Bank, fsb</td>\n",
       "      <td>26-May-17</td>\n",
       "      <td>26-Jul-17</td>\n",
       "      <td>[United, Fidelity, Bank,, fsb]</td>\n",
       "      <td>12</td>\n",
       "    </tr>\n",
       "    <tr>\n",
       "      <th>11</th>\n",
       "      <td>Trust Company Bank</td>\n",
       "      <td>Memphis</td>\n",
       "      <td>TN</td>\n",
       "      <td>9956</td>\n",
       "      <td>The Bank of Fayette County</td>\n",
       "      <td>29-Apr-16</td>\n",
       "      <td>6-Sep-16</td>\n",
       "      <td>[The, Bank, of, Fayette, County]</td>\n",
       "      <td>3</td>\n",
       "    </tr>\n",
       "    <tr>\n",
       "      <th>23</th>\n",
       "      <td>The National Republic Bank of Chicago</td>\n",
       "      <td>Chicago</td>\n",
       "      <td>IL</td>\n",
       "      <td>916</td>\n",
       "      <td>State Bank of Texas</td>\n",
       "      <td>24-Oct-14</td>\n",
       "      <td>6-Jan-16</td>\n",
       "      <td>[State, Bank, of, Texas]</td>\n",
       "      <td>12</td>\n",
       "    </tr>\n",
       "    <tr>\n",
       "      <th>38</th>\n",
       "      <td>DuPage National Bank</td>\n",
       "      <td>West Chicago</td>\n",
       "      <td>IL</td>\n",
       "      <td>5732</td>\n",
       "      <td>Republic Bank of Chicago</td>\n",
       "      <td>17-Jan-14</td>\n",
       "      <td>20-Oct-16</td>\n",
       "      <td>[Republic, Bank, of, Chicago]</td>\n",
       "      <td>12</td>\n",
       "    </tr>\n",
       "    <tr>\n",
       "      <th>65</th>\n",
       "      <td>Citizens First National Bank</td>\n",
       "      <td>Princeton</td>\n",
       "      <td>IL</td>\n",
       "      <td>3731</td>\n",
       "      <td>Heartland Bank and Trust Company</td>\n",
       "      <td>2-Nov-12</td>\n",
       "      <td>13-Feb-18</td>\n",
       "      <td>[Heartland, Bank, and, Trust, Company]</td>\n",
       "      <td>12</td>\n",
       "    </tr>\n",
       "  </tbody>\n",
       "</table>\n",
       "</div>"
      ],
      "text/plain": [
       "                                Bank Name          City  ST  CERT  \\\n",
       "2                     Fayette County Bank    Saint Elmo  IL  1802   \n",
       "11                     Trust Company Bank       Memphis  TN  9956   \n",
       "23  The National Republic Bank of Chicago       Chicago  IL   916   \n",
       "38                   DuPage National Bank  West Chicago  IL  5732   \n",
       "65           Citizens First National Bank     Princeton  IL  3731   \n",
       "\n",
       "               Acquiring Institution Closing Date Updated Date  \\\n",
       "2          United Fidelity Bank, fsb    26-May-17    26-Jul-17   \n",
       "11        The Bank of Fayette County    29-Apr-16     6-Sep-16   \n",
       "23               State Bank of Texas    24-Oct-14     6-Jan-16   \n",
       "38          Republic Bank of Chicago    17-Jan-14    20-Oct-16   \n",
       "65  Heartland Bank and Trust Company     2-Nov-12    13-Feb-18   \n",
       "\n",
       "                                       ail  st_count  \n",
       "2           [United, Fidelity, Bank,, fsb]        12  \n",
       "11        [The, Bank, of, Fayette, County]         3  \n",
       "23                [State, Bank, of, Texas]        12  \n",
       "38           [Republic, Bank, of, Chicago]        12  \n",
       "65  [Heartland, Bank, and, Trust, Company]        12  "
      ]
     },
     "execution_count": 34,
     "metadata": {},
     "output_type": "execute_result"
    }
   ],
   "source": [
    "subset = subset.loc[subset['st_count']>1,:] # only choose the count of state > 1\n",
    "subset.head()"
   ]
  },
  {
   "cell_type": "code",
   "execution_count": null,
   "metadata": {
    "collapsed": true
   },
   "outputs": [],
   "source": [
    "#这里可以直接用pivot table做len，以下是老师答案\n",
    "a=df2.pivot_table(values='CERT',index=['ST'],aggfunc=[np.min,np.max,np.mean,len])"
   ]
  },
  {
   "cell_type": "code",
   "execution_count": 35,
   "metadata": {},
   "outputs": [
    {
     "data": {
      "text/html": [
       "<div>\n",
       "<style>\n",
       "    .dataframe thead tr:only-child th {\n",
       "        text-align: right;\n",
       "    }\n",
       "\n",
       "    .dataframe thead th {\n",
       "        text-align: left;\n",
       "    }\n",
       "\n",
       "    .dataframe tbody tr th {\n",
       "        vertical-align: top;\n",
       "    }\n",
       "</style>\n",
       "<table border=\"1\" class=\"dataframe\">\n",
       "  <thead>\n",
       "    <tr style=\"text-align: right;\">\n",
       "      <th></th>\n",
       "      <th>ST</th>\n",
       "      <th>min_CERT</th>\n",
       "      <th>max_CERT</th>\n",
       "      <th>mean_CERT</th>\n",
       "    </tr>\n",
       "  </thead>\n",
       "  <tbody>\n",
       "    <tr>\n",
       "      <th>0</th>\n",
       "      <td>FL</td>\n",
       "      <td>5672</td>\n",
       "      <td>9619</td>\n",
       "      <td>7645.500000</td>\n",
       "    </tr>\n",
       "    <tr>\n",
       "      <th>1</th>\n",
       "      <td>GA</td>\n",
       "      <td>151</td>\n",
       "      <td>10054</td>\n",
       "      <td>4625.857143</td>\n",
       "    </tr>\n",
       "    <tr>\n",
       "      <th>2</th>\n",
       "      <td>IL</td>\n",
       "      <td>916</td>\n",
       "      <td>10086</td>\n",
       "      <td>5583.750000</td>\n",
       "    </tr>\n",
       "    <tr>\n",
       "      <th>3</th>\n",
       "      <td>KS</td>\n",
       "      <td>1361</td>\n",
       "      <td>4754</td>\n",
       "      <td>4040.800000</td>\n",
       "    </tr>\n",
       "    <tr>\n",
       "      <th>4</th>\n",
       "      <td>MN</td>\n",
       "      <td>1909</td>\n",
       "      <td>9744</td>\n",
       "      <td>6624.666667</td>\n",
       "    </tr>\n",
       "    <tr>\n",
       "      <th>5</th>\n",
       "      <td>MO</td>\n",
       "      <td>1056</td>\n",
       "      <td>8266</td>\n",
       "      <td>4889.500000</td>\n",
       "    </tr>\n",
       "    <tr>\n",
       "      <th>6</th>\n",
       "      <td>OH</td>\n",
       "      <td>6629</td>\n",
       "      <td>8966</td>\n",
       "      <td>7797.500000</td>\n",
       "    </tr>\n",
       "    <tr>\n",
       "      <th>7</th>\n",
       "      <td>OK</td>\n",
       "      <td>416</td>\n",
       "      <td>9873</td>\n",
       "      <td>4167.250000</td>\n",
       "    </tr>\n",
       "    <tr>\n",
       "      <th>8</th>\n",
       "      <td>TN</td>\n",
       "      <td>1690</td>\n",
       "      <td>9961</td>\n",
       "      <td>7202.333333</td>\n",
       "    </tr>\n",
       "    <tr>\n",
       "      <th>9</th>\n",
       "      <td>UT</td>\n",
       "      <td>1249</td>\n",
       "      <td>1252</td>\n",
       "      <td>1250.500000</td>\n",
       "    </tr>\n",
       "    <tr>\n",
       "      <th>10</th>\n",
       "      <td>WI</td>\n",
       "      <td>5287</td>\n",
       "      <td>5328</td>\n",
       "      <td>5307.500000</td>\n",
       "    </tr>\n",
       "  </tbody>\n",
       "</table>\n",
       "</div>"
      ],
      "text/plain": [
       "    ST  min_CERT  max_CERT    mean_CERT\n",
       "0   FL      5672      9619  7645.500000\n",
       "1   GA       151     10054  4625.857143\n",
       "2   IL       916     10086  5583.750000\n",
       "3   KS      1361      4754  4040.800000\n",
       "4   MN      1909      9744  6624.666667\n",
       "5   MO      1056      8266  4889.500000\n",
       "6   OH      6629      8966  7797.500000\n",
       "7   OK       416      9873  4167.250000\n",
       "8   TN      1690      9961  7202.333333\n",
       "9   UT      1249      1252  1250.500000\n",
       "10  WI      5287      5328  5307.500000"
      ]
     },
     "execution_count": 35,
     "metadata": {},
     "output_type": "execute_result"
    }
   ],
   "source": [
    "table = subset.pivot_table(index='ST',values='CERT', aggfunc=[np.min, np.max, np.mean]) # create pivot table\n",
    "table.reset_index(inplace=True) # reset index to get a normal dataframe\n",
    "table.columns = ['ST', 'min_CERT', 'max_CERT', 'mean_CERT'] # rename the column names\n",
    "table"
   ]
  },
  {
   "cell_type": "code",
   "execution_count": 36,
   "metadata": {},
   "outputs": [
    {
     "data": {
      "image/png": "[encoded data removed]",
      "text/plain": [
       "<matplotlib.figure.Figure at 0x10f2790b8>"
      ]
     },
     "metadata": {},
     "output_type": "display_data"
    }
   ],
   "source": [
    "#Part D display a bar plot for the first 3 states in the resulting\n",
    "#data frame: each of the 3 states will be on x axis, and the corresponding 3 summary \n",
    "#statistics will be the 3 bars - stacked Mean Cert ,Max Cert and Min Cert\n",
    "#bar plot.\n",
    "\n",
    "import matplotlib.pyplot as plt\n",
    "sub_table = table.iloc[0:3]\n",
    "cert_plt = sub_table.plot(x='ST', y=['min_CERT', 'max_CERT', 'mean_CERT'], \n",
    "                      kind='bar', \n",
    "                      figsize=(11, 7),\n",
    "                      title='Bar Plot of Certification')\n",
    "cert_plt.set_xlabel(\"State\", fontsize=12)\n",
    "cert_plt.set_ylabel(\"Certification\", fontsize=12)\n",
    "plt.show()"
   ]
  },
  {
   "cell_type": "markdown",
   "metadata": {},
   "source": [
    "## End of Exam"
   ]
  },
  {
   "cell_type": "code",
   "execution_count": null,
   "metadata": {
    "collapsed": true
   },
   "outputs": [],
   "source": []
  }
 ],
 "metadata": {
  "kernelspec": {
   "display_name": "Python 3",
   "language": "python",
   "name": "python3"
  },
  "language_info": {
   "codemirror_mode": {
    "name": "ipython",
    "version": 3
   },
   "file_extension": ".py",
   "mimetype": "text/x-python",
   "name": "python",
   "nbconvert_exporter": "python",
   "pygments_lexer": "ipython3",
   "version": "3.6.3"
  }
 },
 "nbformat": 4,
 "nbformat_minor": 2
}
