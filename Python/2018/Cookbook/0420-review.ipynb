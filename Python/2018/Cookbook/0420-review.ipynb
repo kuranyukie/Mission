{
 "cells": [
  {
   "cell_type": "markdown",
   "metadata": {},
   "source": [
    "### Dataset\n",
    "- create an example using random and alphabet table. This is your dataframe, have 5 lines. Similar to the ETL sheets.\n",
    "- apply, map, lambda.\n",
    "\n",
    "### Str\n",
    "- if 'find' doesn't find something, it won't give an error, but 'index' does.\n",
    "- split() and 'str'.join()\n",
    "- Strings are immutable.\n",
    "- Pandas will handle 'null' better than standard python."
   ]
  },
  {
   "cell_type": "markdown",
   "metadata": {},
   "source": [
    "### Standard Python\n",
    "- zip returns a zip object of two iterables.\n",
    "- enumerate will not be in the exam, but will provide an index, which will save a lot of time."
   ]
  },
  {
   "cell_type": "markdown",
   "metadata": {},
   "source": [
    "### Numpy Chapter 4.1"
   ]
  },
  {
   "cell_type": "code",
   "execution_count": 2,
   "metadata": {},
   "outputs": [
    {
     "data": {
      "text/plain": [
       "array([[-1.57464705, -0.08742978, -0.91318958,  0.117026  , -1.1263047 ],\n",
       "       [-1.8260862 , -0.30040172,  0.95506846, -0.8795002 ,  0.36240828],\n",
       "       [ 0.659399  ,  0.50153299, -0.63985689,  0.2717788 , -1.20386749]])"
      ]
     },
     "execution_count": 2,
     "metadata": {},
     "output_type": "execute_result"
    }
   ],
   "source": [
    "import numpy as np\n",
    "np.random.randn(15).reshape(3,5)"
   ]
  },
  {
   "cell_type": "markdown",
   "metadata": {},
   "source": [
    "### Pandas\n",
    "- Groupby and pivot table: index is not part of the data.\n",
    "- weather3.day = pd.to_datatime(weather3.day)\n",
    "    - very useful, not in exam\n",
    "    - if this is string, it can't get the expected answer for > operator.\n",
    "- reindex: usually appears after merging two df."
   ]
  }
 ],
 "metadata": {
  "kernelspec": {
   "display_name": "Python 3",
   "language": "python",
   "name": "python3"
  },
  "language_info": {
   "codemirror_mode": {
    "name": "ipython",
    "version": 3
   },
   "file_extension": ".py",
   "mimetype": "text/x-python",
   "name": "python",
   "nbconvert_exporter": "python",
   "pygments_lexer": "ipython3",
   "version": "3.6.3"
  }
 },
 "nbformat": 4,
 "nbformat_minor": 2
}
