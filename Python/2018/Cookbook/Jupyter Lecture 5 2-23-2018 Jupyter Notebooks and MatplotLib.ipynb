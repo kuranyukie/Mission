{
 "cells": [
  {
   "cell_type": "markdown",
   "metadata": {},
   "source": [
    "### References \n",
    "\n",
    "A Jupyter project can be found here. http://jupyter.org <br>\n",
    "B ipython here  http://ipython.org/"
   ]
  },
  {
   "cell_type": "markdown",
   "metadata": {},
   "source": [
    "### Escape puts you in command mode notice the <font color='blue'>BLUE BORDER</font>  on the cell.  While putting the cursore and clicking the cell puts you in edit mode to enter code or markdown notice the <font color='green'> Green border </font> and the pencil icon.\n",
    "You can use either the drop down in the tool bar, above, to create a code cell or a markdown cell or you can type Esc-m for markdown or Esc-y for code."
   ]
  },
  {
   "cell_type": "markdown",
   "metadata": {},
   "source": [
    "### A word of advice, always make a copy of the sheet that you are working from and save often. \n",
    "\n",
    "####    Most common operators to use in command mode  navigation \n",
    "####    Enter: Cell and click to edit mode....\n",
    "<strong>\n",
    "<li>    ↓ or j: select the next cell </ul>\n",
    "<li>    y / m: change the cell type to code cell <em>or</em> /Markdown cell </ul>\n",
    "<li>    a / b: insert a new cell above/below the current cell </ul>\n",
    "<li>    x / c / v: cut/copy/paste the current cell </ul>\n",
    "\n",
    "    \n",
    "    dd: delete the current cell\n",
    "    z: undo the last delete operation\n",
    "    Shift + =: merge the cell below\n",
    "    h: display the help menu with the list of keyboard shortcuts\n",
    "<strong>"
   ]
  },
  {
   "cell_type": "markdown",
   "metadata": {},
   "source": [
    "<p>You can make text <em>italic</em> or <strong>bold</strong>.</p>\n",
    "<p>You can build nested itemized or enumerated lists:</p>\n",
    "<ul class=\"simple\">\n",
    "<li>One<ul>\n",
    "<li>Sublist<ul>\n",
    "<li>This</li>\n",
    "</ul>\n",
    "</li>\n",
    "</ul>\n",
    "</li>\n",
    "<li>Sublist - That - The other thing</li>\n",
    "<li>Two</li>\n",
    "<li>Sublist</li>\n",
    "<li>Three</li>\n",
    "<li>Sublist</li>\n",
    "</ul>"
   ]
  },
  {
   "cell_type": "code",
   "execution_count": null,
   "metadata": {
    "collapsed": true
   },
   "outputs": [],
   "source": [
    "### ipython is very ideosyncratic. The spyder ipyton is best although even there ctrl-f doesn't \n",
    "### advance the cursor as it's supposed to."
   ]
  },
  {
   "cell_type": "markdown",
   "metadata": {},
   "source": [
    "# Most used magics are  :"
   ]
  },
  {
   "cell_type": "markdown",
   "metadata": {},
   "source": [
    " %cd   %cls   %copy   %hist  %history   %ldir  %less  %ls  %lsmagic  %logstart  %logstate  %logstop %magic  %matplotlib  %mkdir  %more      %pprint   %pwd   %quickref    %rmdir  %run    %time  %timeit  \n",
    " \n",
    "\n",
    "\n",
    "Available cell magics:\n",
    "  %%time  %%timeit  the doubles are for multiline statements\n"
   ]
  },
  {
   "cell_type": "code",
   "execution_count": 2,
   "metadata": {
    "collapsed": true
   },
   "outputs": [],
   "source": [
    "%magic"
   ]
  },
  {
   "cell_type": "code",
   "execution_count": 3,
   "metadata": {},
   "outputs": [
    {
     "name": "stdout",
     "output_type": "stream",
     "text": [
      "C:\\Users\\jpsabini\n"
     ]
    }
   ],
   "source": [
    "%cd ~"
   ]
  },
  {
   "cell_type": "code",
   "execution_count": 4,
   "metadata": {},
   "outputs": [
    {
     "name": "stdout",
     "output_type": "stream",
     "text": [
      "C:\\Users\\jpsabini\\Columbia2018\\PythonClassCode\n"
     ]
    }
   ],
   "source": [
    "%cd Columbia2018/PythonClassCode/"
   ]
  },
  {
   "cell_type": "code",
   "execution_count": 5,
   "metadata": {},
   "outputs": [
    {
     "data": {
      "text/plain": [
       "'C:\\\\Users\\\\jpsabini\\\\Columbia2018\\\\PythonClassCode'"
      ]
     },
     "execution_count": 5,
     "metadata": {},
     "output_type": "execute_result"
    }
   ],
   "source": [
    "%pwd"
   ]
  },
  {
   "cell_type": "code",
   "execution_count": 6,
   "metadata": {},
   "outputs": [
    {
     "name": "stdout",
     "output_type": "stream",
     "text": [
      "enter the Principal Plz:   100\n",
      "enter the Interest Rate:   .05\n",
      "enter the number of years to keep deposit:  1\n",
      "enter the monthly compunding :  1\n",
      "105.0\n"
     ]
    }
   ],
   "source": [
    "# My Compound interest program if you want to %more it or run it.\n",
    "#Compound Interest\n",
    "'''\n",
    "Author JP Sabini  \n",
    "Input\n",
    "P is the principal \n",
    "R is the interest rate \n",
    "T is the term number of yeas we want to keep the principal in the account\n",
    "N is the monthly compounding \n",
    "\n",
    "OutPut interest + principal accrued over term and compounding at rate specified\n",
    "'''\n",
    "P =  float(input('enter the Principal Plz:   '  ))\n",
    "R =  float( input('enter the Interest Rate:   '  ))\n",
    "T =  int(input('enter the number of years to keep deposit:  '  ))\n",
    "N =  int(input('enter the monthly compunding :  '  ))\n",
    "\n",
    "#A is the compounded amount returned\n",
    "\n",
    "A=P*(1+R/N)**(N*T)\n",
    "\n",
    "print(A)\n"
   ]
  },
  {
   "cell_type": "code",
   "execution_count": 12,
   "metadata": {
    "scrolled": true
   },
   "outputs": [
    {
     "name": "stdout",
     "output_type": "stream",
     "text": [
      "\f",
      "\n"
     ]
    }
   ],
   "source": [
    "%cls"
   ]
  },
  {
   "cell_type": "code",
   "execution_count": 9,
   "metadata": {},
   "outputs": [
    {
     "data": {
      "text/plain": [
       "'C:\\\\Users\\\\jpsabini\\\\Columbia2018\\\\PythonClassCode'"
      ]
     },
     "execution_count": 9,
     "metadata": {},
     "output_type": "execute_result"
    }
   ],
   "source": [
    "%pwd"
   ]
  },
  {
   "cell_type": "code",
   "execution_count": 10,
   "metadata": {},
   "outputs": [
    {
     "name": "stdout",
     "output_type": "stream",
     "text": [
      " Volume in drive C is TIS0008000D\n",
      " Volume Serial Number is 7206-0E83\n",
      "\n",
      " Directory of C:\\Users\\jpsabini\\Columbia2018\\PythonClassCode\n",
      "\n",
      "02/08/2018  11:07 PM             1,263 coin_demo1.py\n",
      "02/09/2018  12:12 AM               303 Cookie_Class_OOP.py\n",
      "01/18/2018  02:22 PM               483 interest1.py\n",
      "02/10/2018  07:33 PM             8,302 Lect_Feb_9.py\n",
      "02/14/2018  06:32 PM             8,252 recitation_feb_14.py\n",
      "02/20/2018  01:45 PM            15,967 recitation_feb_14_2.py\n",
      "               6 File(s)         34,570 bytes\n",
      "               0 Dir(s)  875,493,900,288 bytes free\n"
     ]
    }
   ],
   "source": [
    "%ls *.py   \n",
    "#use wild card * to obtain all files ending with .py"
   ]
  },
  {
   "cell_type": "code",
   "execution_count": 15,
   "metadata": {},
   "outputs": [
    {
     "name": "stdout",
     "output_type": "stream",
     "text": [
      "1.36 ms ± 6.98 µs per loop (mean ± std. dev. of 7 runs, 1000 loops each)\n"
     ]
    }
   ],
   "source": [
    "%%timeit y=tuple(range(1,100000)) \n",
    "                 max(y)\n",
    "         "
   ]
  },
  {
   "cell_type": "code",
   "execution_count": 19,
   "metadata": {},
   "outputs": [
    {
     "name": "stdout",
     "output_type": "stream",
     "text": [
      "1.37 ms ± 4.55 µs per loop (mean ± std. dev. of 7 runs, 1000 loops each)\n"
     ]
    }
   ],
   "source": [
    "%%timeit y= list(range(1,100000))\n",
    "                 max(y)\n"
   ]
  },
  {
   "cell_type": "markdown",
   "metadata": {},
   "source": [
    "an example of latex\n",
    "$s=\\sqrt(x)$ <br>\n",
    "$\\lambda :x \\sum_i f(x_i) $\n"
   ]
  },
  {
   "cell_type": "markdown",
   "metadata": {},
   "source": [
    "##### Images can be used."
   ]
  },
  {
   "cell_type": "markdown",
   "metadata": {},
   "source": [
    "![datasci-skills-by-role.jpg](attachment:datasci-skills-by-role.jpg)"
   ]
  },
  {
   "cell_type": "markdown",
   "metadata": {},
   "source": [
    "### Python Code "
   ]
  },
  {
   "cell_type": "code",
   "execution_count": 20,
   "metadata": {
    "collapsed": true
   },
   "outputs": [],
   "source": [
    "l=['zeroth','first','second','third']"
   ]
  },
  {
   "cell_type": "code",
   "execution_count": 21,
   "metadata": {
    "collapsed": true
   },
   "outputs": [],
   "source": [
    "d=dict()"
   ]
  },
  {
   "cell_type": "code",
   "execution_count": 22,
   "metadata": {
    "collapsed": true
   },
   "outputs": [],
   "source": [
    "d['X1']=['a','ab']"
   ]
  },
  {
   "cell_type": "code",
   "execution_count": 24,
   "metadata": {},
   "outputs": [
    {
     "data": {
      "text/plain": [
       "{'X1': ['a', 'ab']}"
      ]
     },
     "execution_count": 24,
     "metadata": {},
     "output_type": "execute_result"
    }
   ],
   "source": [
    "d"
   ]
  },
  {
   "cell_type": "code",
   "execution_count": 25,
   "metadata": {},
   "outputs": [
    {
     "name": "stdout",
     "output_type": "stream",
     "text": [
      "['zeroth', 'first', 'second', 'third']\n"
     ]
    },
    {
     "data": {
      "text/plain": [
       "{'X1': ['a', 'ab']}"
      ]
     },
     "execution_count": 25,
     "metadata": {},
     "output_type": "execute_result"
    }
   ],
   "source": [
    "print(l)\n",
    "d   # only the last is printed unless you explicity print(l)\n"
   ]
  },
  {
   "cell_type": "code",
   "execution_count": 26,
   "metadata": {
    "collapsed": true
   },
   "outputs": [],
   "source": [
    "L=[1,2,3,4]"
   ]
  },
  {
   "cell_type": "code",
   "execution_count": 27,
   "metadata": {},
   "outputs": [
    {
     "data": {
      "text/plain": [
       "[1, 2, 3, 4]"
      ]
     },
     "execution_count": 27,
     "metadata": {},
     "output_type": "execute_result"
    }
   ],
   "source": [
    "L"
   ]
  },
  {
   "cell_type": "code",
   "execution_count": 28,
   "metadata": {},
   "outputs": [
    {
     "name": "stdout",
     "output_type": "stream",
     "text": [
      "11\n"
     ]
    }
   ],
   "source": [
    "def my_func(arg1=0,arg2=0):\n",
    "    if arg2%2 == 0:\n",
    "        return(arg2+arg1)\n",
    "    else: \n",
    "        return ( arg1)\n",
    "    \n",
    "print(my_func(1,10))"
   ]
  },
  {
   "cell_type": "code",
   "execution_count": 29,
   "metadata": {
    "collapsed": true
   },
   "outputs": [],
   "source": [
    "import os "
   ]
  },
  {
   "cell_type": "code",
   "execution_count": null,
   "metadata": {},
   "outputs": [],
   "source": [
    "os.  TABS"
   ]
  },
  {
   "cell_type": "code",
   "execution_count": 30,
   "metadata": {
    "collapsed": true
   },
   "outputs": [],
   "source": [
    "os??"
   ]
  },
  {
   "cell_type": "code",
   "execution_count": 31,
   "metadata": {},
   "outputs": [
    {
     "name": "stdout",
     "output_type": "stream",
     "text": [
      "Pretty printing has been turned OFF\n"
     ]
    }
   ],
   "source": [
    "%pprint  # toggle this to turn pretty printing "
   ]
  },
  {
   "cell_type": "code",
   "execution_count": null,
   "metadata": {},
   "outputs": [],
   "source": []
  },
  {
   "cell_type": "code",
   "execution_count": 33,
   "metadata": {},
   "outputs": [
    {
     "name": "stdout",
     "output_type": "stream",
     "text": [
      "   4: %cd Columbia2018/PythonClassCode/\n",
      "   5: %pwd\n",
      "   6:\n",
      "# My Compound interest program if you want to %more it or run it.\n",
      "#Compound Interest\n",
      "'''\n",
      "Author JP Sabini  \n",
      "Input\n",
      "P is the principal \n",
      "R is the interest rate \n",
      "T is the term number of yeas we want to keep the principal in the account\n",
      "N is the monthly compounding \n",
      "\n",
      "OutPut interest + principal accrued over term and compounding at rate specified\n",
      "'''\n",
      "P =  float(input('enter the Principal Plz:   '  ))\n",
      "R =  float( input('enter the Interest Rate:   '  ))\n",
      "T =  int(input('enter the number of years to keep deposit:  '  ))\n",
      "N =  int(input('enter the monthly compunding :  '  ))\n",
      "\n",
      "#A is the compounded amount returned\n",
      "\n",
      "A=P*(1+R/N)**(N*T)\n",
      "\n",
      "print(A)\n",
      "   7: %history\n",
      "   8: %history -n 1:3\n",
      "   9: %pwd\n"
     ]
    }
   ],
   "source": [
    "%history -n 4:10 "
   ]
  },
  {
   "cell_type": "code",
   "execution_count": 34,
   "metadata": {},
   "outputs": [
    {
     "name": "stdout",
     "output_type": "stream",
     "text": [
      "\f",
      "\n"
     ]
    }
   ],
   "source": [
    "%cls"
   ]
  },
  {
   "cell_type": "code",
   "execution_count": 35,
   "metadata": {},
   "outputs": [
    {
     "name": "stdout",
     "output_type": "stream",
     "text": [
      "Pretty printing has been turned ON\n"
     ]
    }
   ],
   "source": [
    "%pprint"
   ]
  },
  {
   "cell_type": "code",
   "execution_count": null,
   "metadata": {
    "collapsed": true
   },
   "outputs": [],
   "source": []
  },
  {
   "cell_type": "code",
   "execution_count": 37,
   "metadata": {
    "collapsed": true
   },
   "outputs": [],
   "source": [
    "poll=dict({'Rep':300000,'Dems':300000,'Indep':100000,'Greens':20000})"
   ]
  },
  {
   "cell_type": "code",
   "execution_count": 38,
   "metadata": {},
   "outputs": [],
   "source": [
    "s1=set(poll)"
   ]
  },
  {
   "cell_type": "code",
   "execution_count": 39,
   "metadata": {},
   "outputs": [
    {
     "data": {
      "text/plain": [
       "{'Dems', 'Greens', 'Indep', 'Rep'}"
      ]
     },
     "execution_count": 39,
     "metadata": {},
     "output_type": "execute_result"
    }
   ],
   "source": [
    "s1"
   ]
  },
  {
   "cell_type": "code",
   "execution_count": 40,
   "metadata": {
    "collapsed": true
   },
   "outputs": [],
   "source": [
    "high_turn_out={'Rep','Dems','Indep'}"
   ]
  },
  {
   "cell_type": "markdown",
   "metadata": {},
   "source": [
    "$s1 \\subset high turn out$"
   ]
  },
  {
   "cell_type": "code",
   "execution_count": 41,
   "metadata": {},
   "outputs": [
    {
     "data": {
      "text/plain": [
       "False"
      ]
     },
     "execution_count": 41,
     "metadata": {},
     "output_type": "execute_result"
    }
   ],
   "source": [
    "s1.issubset(high_turn_out) "
   ]
  },
  {
   "cell_type": "code",
   "execution_count": 42,
   "metadata": {},
   "outputs": [
    {
     "data": {
      "text/plain": [
       "{1, 2, 3, 'a'}"
      ]
     },
     "execution_count": 42,
     "metadata": {},
     "output_type": "execute_result"
    }
   ],
   "source": [
    "# A set is mutable because of update. The elements are not.\n",
    "s={1,2,3,'a'}\n",
    "s.update(['foo'])\n",
    "s.update(('fooey'))\n",
    "s & {1,2,3,'a'}"
   ]
  },
  {
   "cell_type": "markdown",
   "metadata": {},
   "source": [
    "List comprehensions "
   ]
  },
  {
   "cell_type": "markdown",
   "metadata": {},
   "source": [
    "The list comprehension raises it's head in a useful way to strip items from a file. Watch this video by Corey Schafer it will explain list , dict and set comprehensions. https://www.youtube.com/watch?v=3dt4OGnU5sM and filter and map"
   ]
  },
  {
   "cell_type": "code",
   "execution_count": 44,
   "metadata": {},
   "outputs": [
    {
     "data": {
      "text/plain": [
       "['1000.0', '2000.0', '3000.0', '4000.0', '5000.0']"
      ]
     },
     "execution_count": 44,
     "metadata": {},
     "output_type": "execute_result"
    }
   ],
   "source": [
    "'''The text data is as follows:  copy paste it to an editor or spyder and save it as sales.txt: \n",
    "or generate your owndata and use the comprehension below.\n",
    "\n",
    "1000.0\\n\n",
    "2000.0\\n\n",
    "3000.0\\n\n",
    "4000.0\\n\n",
    "5000.0\\n\n",
    "'''\n",
    "# my path won't work on your machine. A Very fancy way to open a file\n",
    "# if you want a list of items in the file. Here I strippled the newline for fun.\n",
    "\n",
    "[x.rstrip('\\n') for x in open(r'C:\\Users\\jpsabini\\Columbia2018\\PythonClassCode\\sales.txt','r')]"
   ]
  },
  {
   "cell_type": "code",
   "execution_count": 45,
   "metadata": {},
   "outputs": [
    {
     "name": "stdout",
     "output_type": "stream",
     "text": [
      "1000.0\n",
      "2000.0\n",
      "3000.0\n",
      "4000.0\n",
      "5000.0\n"
     ]
    }
   ],
   "source": [
    "# this is the same thing as the comprehension the \"with\" is a key word and \n",
    "# it carries the scope of the variables within it . \n",
    "# Therefore, the file is closed automatically when you \n",
    "# leave the scope of the with. The same is true above for the list comprehension.\n",
    "\n",
    "with open(r'C:\\Users\\jpsabini\\Columbia2018\\PythonClassCode\\sales.txt','r') as infile:\n",
    "    for line in infile:\n",
    "        print(line.rstrip('\\n'))"
   ]
  },
  {
   "cell_type": "markdown",
   "metadata": {},
   "source": [
    "# The Lambda function is useful"
   ]
  },
  {
   "cell_type": "markdown",
   "metadata": {},
   "source": [
    "Unlike def's, Lambda functions have no name. They are anonymous . They are an expression that returns a temporary nameless function pointer. Lambda cannot have an assignment, and they are used at times with map() and filter() . Map( f, iterable) will produce a map object and will apply the function f to the iterable like a list or file. Filter(f, iterable ) will produce a filter object and will apply a function that matches the data in some way that the function finds as True. The functions used in map and filter can also be your regular def's so need not be lambda functions. Most of the time lambda is used for very short , fast data munging."
   ]
  },
  {
   "cell_type": "code",
   "execution_count": 46,
   "metadata": {},
   "outputs": [
    {
     "data": {
      "text/plain": [
       "<function __main__.<lambda>>"
      ]
     },
     "execution_count": 46,
     "metadata": {},
     "output_type": "execute_result"
    }
   ],
   "source": [
    "# lambda function is defined as lambda parameter : expression with parameter\n",
    "lambda x:x\n",
    "\n"
   ]
  },
  {
   "cell_type": "code",
   "execution_count": 47,
   "metadata": {},
   "outputs": [
    {
     "data": {
      "text/plain": [
       "3"
      ]
     },
     "execution_count": 47,
     "metadata": {},
     "output_type": "execute_result"
    }
   ],
   "source": [
    "ff=lambda x: x #here we actually invoke the lambda in it's most simpleway\n",
    "ff(3)"
   ]
  },
  {
   "cell_type": "code",
   "execution_count": 48,
   "metadata": {},
   "outputs": [
    {
     "data": {
      "text/plain": [
       "2.0"
      ]
     },
     "execution_count": 48,
     "metadata": {},
     "output_type": "execute_result"
    }
   ],
   "source": [
    "ff=lambda a1,a2:a1/a2\n",
    "ff(2,1)"
   ]
  },
  {
   "cell_type": "code",
   "execution_count": 49,
   "metadata": {},
   "outputs": [
    {
     "data": {
      "text/plain": [
       "3"
      ]
     },
     "execution_count": 49,
     "metadata": {},
     "output_type": "execute_result"
    }
   ],
   "source": [
    "# an example of the scope of x:  x will begiven a value outside the scope of lambda \n",
    "x=1 #< notice this x is a global but has no effect on x inside the lamda's scope'\n",
    "f=lambda x:x\n",
    "f(3)  # passit a 3 and you get a 3 back not a 1"
   ]
  },
  {
   "cell_type": "markdown",
   "metadata": {},
   "source": [
    "### Filter and Map:\n",
    "https://docs.python.org/3/library/functions.html#filter <br>\n",
    "https://docs.python.org/3/library/functions.html#map  <br>\n",
    "  Many times a lambda is used with map,filter,zip although, you can do the same without map and filter using a little more complex lambda expression . Note that in python 3 you have to convert map and filter and zip to a list. Corey 's video shows the results for python 2.7 "
   ]
  },
  {
   "cell_type": "code",
   "execution_count": 50,
   "metadata": {},
   "outputs": [
    {
     "data": {
      "text/plain": [
       "['cow', 'cottage']"
      ]
     },
     "execution_count": 50,
     "metadata": {},
     "output_type": "execute_result"
    }
   ],
   "source": [
    "my_list=[\"cow\",\"cottage\",\"dog\",\"horse\"] # now for a list comprehension again with filter\n",
    "#filter will apply the function (here a lambda or a def) to a list or other iterable container\n",
    "# filter(function, iterable container) \n",
    "list(filter(lambda x: x.startswith('c'),my_list))"
   ]
  },
  {
   "cell_type": "code",
   "execution_count": 51,
   "metadata": {},
   "outputs": [
    {
     "data": {
      "text/plain": [
       "[True, False, True, False, True, False, True, False, True, False, True]"
      ]
     },
     "execution_count": 51,
     "metadata": {},
     "output_type": "execute_result"
    }
   ],
   "source": [
    "list(map(lambda x: x%2 is 0,[2,3,4,5,6,7,8,9,10,11,12] ))"
   ]
  },
  {
   "cell_type": "code",
   "execution_count": 52,
   "metadata": {},
   "outputs": [
    {
     "data": {
      "text/plain": [
       "[0, 1, 4, 9, 16, 25, 36, 49, 64, 81]"
      ]
     },
     "execution_count": 52,
     "metadata": {},
     "output_type": "execute_result"
    }
   ],
   "source": [
    "list(map(lambda x: x*x, range(10)))"
   ]
  },
  {
   "cell_type": "code",
   "execution_count": 53,
   "metadata": {},
   "outputs": [
    {
     "data": {
      "text/plain": [
       "[16, 0, 1, 25, 36]"
      ]
     },
     "execution_count": 53,
     "metadata": {},
     "output_type": "execute_result"
    }
   ],
   "source": [
    "#this is an example of a def which is calls another function f, apply_to_list(some_list, f).\n",
    "#Note that f is a reference it is a pointer, not f(), but f !!! \n",
    "# Try it with f() and you'll get an error. \n",
    "def apply_to_list(some_list, f):\n",
    "    return [f(x) for x in some_list] # <-you are returning a list applying f to x for each x in list\n",
    "\n",
    "ints = [4, 0, 1, 5, 6]\n",
    "apply_to_list(ints, lambda x: x**2 )"
   ]
  },
  {
   "cell_type": "markdown",
   "metadata": {},
   "source": [
    "## Assignment for canvas. \n",
    "#### <p> I want you to extract all of the numbers in [2,3,4,5,6,7,8,9,10,11,12] that are even put them in a list using \n",
    "1. lambda expression only. \n",
    "2. Then do the same using a filter and lambda. \n",
    "3. Then use a list comprehension to select out even. No lambda for this one just list comprehension.\n"
   ]
  },
  {
   "cell_type": "markdown",
   "metadata": {},
   "source": [
    "# Some Graphics"
   ]
  },
  {
   "cell_type": "code",
   "execution_count": 90,
   "metadata": {},
   "outputs": [
    {
     "data": {
      "image/png": "[encoded data removed]",
      "text/plain": [
       "<matplotlib.figure.Figure at 0x1cde36fcb38>"
      ]
     },
     "metadata": {},
     "output_type": "display_data"
    }
   ],
   "source": [
    "%matplotlib inline\n",
    "import matplotlib.pyplot as plt\n",
    "import numpy as np\n",
    "\n",
    "def main():\n",
    "    # Create lists with the X and Y coordinates of each data point.\n",
    "    x_coords = [0, 1, 2, 3, 4]\n",
    "    y_coords = [0, 3, 1, 5, 2]\n",
    "\n",
    "    # Build the line graph.\n",
    "    plt.plot(x_coords, y_coords)\n",
    "\n",
    "    # Display the line graph.\n",
    "    \n",
    "\n",
    "# Call the main function.\n",
    "main()"
   ]
  },
  {
   "cell_type": "code",
   "execution_count": 91,
   "metadata": {},
   "outputs": [
    {
     "data": {
      "image/png": "[encoded data removed]",
      "text/plain": [
       "<matplotlib.figure.Figure at 0x1cde276fc88>"
      ]
     },
     "metadata": {},
     "output_type": "display_data"
    }
   ],
   "source": [
    "import matplotlib.pyplot as plt\n",
    "import numpy as np\n",
    "def main():\n",
    "    # Create lists with the X and Y coordinates of each data point.\n",
    "    x_coords = [0, 1, 2, 3, 4]\n",
    "    y_coords = [0, 3, 1, 5, 2]\n",
    "    \n",
    "    # Build the line graph.\n",
    "    plt.plot(x_coords, y_coords)\n",
    "\n",
    "    # Add a title.\n",
    "    plt.title('Sample Data')\n",
    "\n",
    "    # Add labels to the axes.\n",
    "    plt.xlabel('This is the X axis')\n",
    "    plt.ylabel('This is the Y axis')\n",
    "\n",
    "    # Set the axis limits.\n",
    "    plt.xlim(xmin=-1, xmax=10)\n",
    "    plt.ylim(ymin=-1, ymax=6)\n",
    "\n",
    "    # Add a grid.\n",
    "    plt.grid(True)\n",
    "\n",
    "    # Display the line graph.\n",
    "    \n",
    "\n",
    "# Call the main function.\n",
    "main()\n"
   ]
  },
  {
   "cell_type": "code",
   "execution_count": 92,
   "metadata": {},
   "outputs": [
    {
     "data": {
      "image/png": "[encoded data removed]",
      "text/plain": [
       "<matplotlib.figure.Figure at 0x1cde3d4be10>"
      ]
     },
     "metadata": {},
     "output_type": "display_data"
    }
   ],
   "source": [
    "# Import matplotlib (plotting) and numpy (numerical arrays).\n",
    "# This enables their use in the Notebook. Never forget the magic %matplotlib inline\n",
    "%matplotlib inline\n",
    "import matplotlib.pyplot as plt \n",
    "import numpy as np\n",
    "import pandas as pd\n",
    "\n",
    "# Create an array of 30 values for x equally spaced from 0 to 5. \n",
    "x = np.linspace(0, 5, 30)\n",
    "y = np.sin(x)\n",
    "\n",
    "# Plot y versus x\n",
    "fig, ax1 = plt.subplots(nrows=1, ncols=1)\n",
    "ax1.plot(x, y, color='red')\n",
    "ax1.set_xlabel('x')\n",
    "ax1.set_ylabel('y')\n",
    "ax1.set_title('A simple graph of $y=sin$');\n",
    "\n"
   ]
  },
  {
   "cell_type": "code",
   "execution_count": null,
   "metadata": {},
   "outputs": [],
   "source": [
    "ax1?"
   ]
  },
  {
   "cell_type": "code",
   "execution_count": null,
   "metadata": {
    "collapsed": true
   },
   "outputs": [],
   "source": [
    "ax1  # I want you to hover your mouse on ax1 and hit shift + tab twice. What do you see?"
   ]
  },
  {
   "cell_type": "code",
   "execution_count": null,
   "metadata": {},
   "outputs": [],
   "source": []
  },
  {
   "cell_type": "code",
   "execution_count": null,
   "metadata": {
    "collapsed": true
   },
   "outputs": [],
   "source": [
    "# The End for now Practice Please."
   ]
  }
 ],
 "metadata": {
  "kernelspec": {
   "display_name": "Python 3",
   "language": "python",
   "name": "python3"
  },
  "language_info": {
   "codemirror_mode": {
    "name": "ipython",
    "version": 3
   },
   "file_extension": ".py",
   "mimetype": "text/x-python",
   "name": "python",
   "nbconvert_exporter": "python",
   "pygments_lexer": "ipython3",
   "version": "3.6.3"
  }
 },
 "nbformat": 4,
 "nbformat_minor": 2
}
